{
 "cells": [
  {
   "cell_type": "markdown",
   "id": "pacific-thompson",
   "metadata": {},
   "source": [
    "# ADS-505 Team 4 Final Project"
   ]
  },
  {
   "cell_type": "markdown",
   "id": "activated-ceramic",
   "metadata": {},
   "source": [
    "Dingyi Duan, Juliet Sieland-Harris, Katie Hu\n",
    "\n",
    "10/18/2021"
   ]
  },
  {
   "cell_type": "markdown",
   "id": "blank-makeup",
   "metadata": {},
   "source": [
    "### Problem Statement\n",
    "*Insert Here*\n",
    "\n",
    "https://github.com/katie-hu/Bank_Marketing"
   ]
  },
  {
   "cell_type": "markdown",
   "id": "thrown-metro",
   "metadata": {},
   "source": [
    "### Import Libraries and Data Set"
   ]
  },
  {
   "cell_type": "code",
   "execution_count": 56,
   "id": "palestinian-daniel",
   "metadata": {},
   "outputs": [],
   "source": [
    "# Import Libraries\n",
    "\n",
    "import pandas as pd\n",
    "import math\n",
    "import statistics\n",
    "import seaborn as sns\n",
    "import datetime\n",
    "from datetime import date\n",
    "import matplotlib.pylab as plt\n",
    "import numpy as np\n",
    "import statsmodels.api as sm\n",
    "import random\n",
    "from matplotlib.pyplot import figure\n",
    "from sklearn import preprocessing, metrics\n",
    "from sklearn.preprocessing import StandardScaler\n",
    "from sklearn.model_selection import train_test_split, GridSearchCV\n",
    "from sklearn.ensemble import RandomForestClassifier\n",
    "from sklearn.linear_model import LogisticRegressionCV, LogisticRegression, LinearRegression\n",
    "from sklearn.tree import DecisionTreeClassifier\n",
    "from sklearn.discriminant_analysis import LinearDiscriminantAnalysis\n",
    "from sklearn.ensemble import AdaBoostClassifier\n",
    "from sklearn.ensemble import BaggingClassifier\n",
    "from sklearn.metrics import accuracy_score, roc_curve, roc_auc_score, f1_score, mean_squared_error\n",
    "from sklearn.preprocessing import MinMaxScaler\n",
    "from sklearn.neural_network import MLPClassifier\n",
    "from dmba import classificationSummary, gainsChart, stepwise_selection, regressionSummary, AIC_score\n",
    "\n",
    "import warnings\n",
    "warnings.filterwarnings('ignore')"
   ]
  },
  {
   "cell_type": "code",
   "execution_count": 3,
   "id": "russian-material",
   "metadata": {},
   "outputs": [
    {
     "data": {
      "text/html": [
       "<div>\n",
       "<style scoped>\n",
       "    .dataframe tbody tr th:only-of-type {\n",
       "        vertical-align: middle;\n",
       "    }\n",
       "\n",
       "    .dataframe tbody tr th {\n",
       "        vertical-align: top;\n",
       "    }\n",
       "\n",
       "    .dataframe thead th {\n",
       "        text-align: right;\n",
       "    }\n",
       "</style>\n",
       "<table border=\"1\" class=\"dataframe\">\n",
       "  <thead>\n",
       "    <tr style=\"text-align: right;\">\n",
       "      <th></th>\n",
       "      <th>age</th>\n",
       "      <th>job</th>\n",
       "      <th>marital</th>\n",
       "      <th>education</th>\n",
       "      <th>default</th>\n",
       "      <th>balance</th>\n",
       "      <th>housing</th>\n",
       "      <th>loan</th>\n",
       "      <th>contact</th>\n",
       "      <th>day</th>\n",
       "      <th>month</th>\n",
       "      <th>duration</th>\n",
       "      <th>campaign</th>\n",
       "      <th>pdays</th>\n",
       "      <th>previous</th>\n",
       "      <th>poutcome</th>\n",
       "      <th>y</th>\n",
       "    </tr>\n",
       "  </thead>\n",
       "  <tbody>\n",
       "    <tr>\n",
       "      <th>0</th>\n",
       "      <td>30</td>\n",
       "      <td>unemployed</td>\n",
       "      <td>married</td>\n",
       "      <td>primary</td>\n",
       "      <td>no</td>\n",
       "      <td>1787</td>\n",
       "      <td>no</td>\n",
       "      <td>no</td>\n",
       "      <td>cellular</td>\n",
       "      <td>19</td>\n",
       "      <td>oct</td>\n",
       "      <td>79</td>\n",
       "      <td>1</td>\n",
       "      <td>-1</td>\n",
       "      <td>0</td>\n",
       "      <td>unknown</td>\n",
       "      <td>no</td>\n",
       "    </tr>\n",
       "    <tr>\n",
       "      <th>1</th>\n",
       "      <td>33</td>\n",
       "      <td>services</td>\n",
       "      <td>married</td>\n",
       "      <td>secondary</td>\n",
       "      <td>no</td>\n",
       "      <td>4789</td>\n",
       "      <td>yes</td>\n",
       "      <td>yes</td>\n",
       "      <td>cellular</td>\n",
       "      <td>11</td>\n",
       "      <td>may</td>\n",
       "      <td>220</td>\n",
       "      <td>1</td>\n",
       "      <td>339</td>\n",
       "      <td>4</td>\n",
       "      <td>failure</td>\n",
       "      <td>no</td>\n",
       "    </tr>\n",
       "    <tr>\n",
       "      <th>2</th>\n",
       "      <td>35</td>\n",
       "      <td>management</td>\n",
       "      <td>single</td>\n",
       "      <td>tertiary</td>\n",
       "      <td>no</td>\n",
       "      <td>1350</td>\n",
       "      <td>yes</td>\n",
       "      <td>no</td>\n",
       "      <td>cellular</td>\n",
       "      <td>16</td>\n",
       "      <td>apr</td>\n",
       "      <td>185</td>\n",
       "      <td>1</td>\n",
       "      <td>330</td>\n",
       "      <td>1</td>\n",
       "      <td>failure</td>\n",
       "      <td>no</td>\n",
       "    </tr>\n",
       "    <tr>\n",
       "      <th>3</th>\n",
       "      <td>30</td>\n",
       "      <td>management</td>\n",
       "      <td>married</td>\n",
       "      <td>tertiary</td>\n",
       "      <td>no</td>\n",
       "      <td>1476</td>\n",
       "      <td>yes</td>\n",
       "      <td>yes</td>\n",
       "      <td>unknown</td>\n",
       "      <td>3</td>\n",
       "      <td>jun</td>\n",
       "      <td>199</td>\n",
       "      <td>4</td>\n",
       "      <td>-1</td>\n",
       "      <td>0</td>\n",
       "      <td>unknown</td>\n",
       "      <td>no</td>\n",
       "    </tr>\n",
       "    <tr>\n",
       "      <th>4</th>\n",
       "      <td>59</td>\n",
       "      <td>blue-collar</td>\n",
       "      <td>married</td>\n",
       "      <td>secondary</td>\n",
       "      <td>no</td>\n",
       "      <td>0</td>\n",
       "      <td>yes</td>\n",
       "      <td>no</td>\n",
       "      <td>unknown</td>\n",
       "      <td>5</td>\n",
       "      <td>may</td>\n",
       "      <td>226</td>\n",
       "      <td>1</td>\n",
       "      <td>-1</td>\n",
       "      <td>0</td>\n",
       "      <td>unknown</td>\n",
       "      <td>no</td>\n",
       "    </tr>\n",
       "  </tbody>\n",
       "</table>\n",
       "</div>"
      ],
      "text/plain": [
       "   age          job  marital  education default  balance housing loan  \\\n",
       "0   30   unemployed  married    primary      no     1787      no   no   \n",
       "1   33     services  married  secondary      no     4789     yes  yes   \n",
       "2   35   management   single   tertiary      no     1350     yes   no   \n",
       "3   30   management  married   tertiary      no     1476     yes  yes   \n",
       "4   59  blue-collar  married  secondary      no        0     yes   no   \n",
       "\n",
       "    contact  day month  duration  campaign  pdays  previous poutcome   y  \n",
       "0  cellular   19   oct        79         1     -1         0  unknown  no  \n",
       "1  cellular   11   may       220         1    339         4  failure  no  \n",
       "2  cellular   16   apr       185         1    330         1  failure  no  \n",
       "3   unknown    3   jun       199         4     -1         0  unknown  no  \n",
       "4   unknown    5   may       226         1     -1         0  unknown  no  "
      ]
     },
     "execution_count": 3,
     "metadata": {},
     "output_type": "execute_result"
    }
   ],
   "source": [
    "# Import Data Set\n",
    "\n",
    "bank_df = pd.read_csv('Dataset/bank.csv')\n",
    "bank_df.head()"
   ]
  },
  {
   "cell_type": "markdown",
   "id": "sexual-suffering",
   "metadata": {},
   "source": [
    "#### Predictor Variables\n",
    "1. age (numeric)\n",
    "2. job : type of job (categorical: \"admin.\",\"unknown\",\"unemployed\",\"management\",\"housemaid\",\"entrepreneur\",\"student\", \"blue-collar\",\"self-employed\",\"retired\",\"technician\",\"services\") \n",
    "3. marital : marital status (categorical: \"married\",\"divorced\",\"single\"; note: \"divorced\" means divorced or widowed)\n",
    "4. education (categorical: \"unknown\",\"secondary\",\"primary\",\"tertiary\")\n",
    "5. default: has credit in default? (binary: \"yes\",\"no\")\n",
    "6. balance: average yearly balance, in euros (numeric) \n",
    "7. housing: has housing loan? (binary: \"yes\",\"no\")\n",
    "8. loan: has personal loan? (binary: \"yes\",\"no\")\n",
    "9. contact: contact communication type (categorical: \"unknown\",\"telephone\",\"cellular\") \n",
    "10. day: last contact day of the month (numeric)\n",
    "11. month: last contact month of year (categorical: \"jan\", \"feb\", \"mar\", ..., \"nov\", \"dec\")\n",
    "12. duration: last contact duration, in seconds (numeric)\n",
    "13. campaign: number of contacts performed during this campaign and for this client (numeric, includes last contact)\n",
    "14. pdays: number of days that passed by after the client was last contacted from a previous campaign (numeric, -1 means client was not previously contacted)\n",
    "15. previous: number of contacts performed before this campaign and for this client (numeric)\n",
    "16. poutcome: outcome of the previous marketing campaign (categorical: \"unknown\",\"other\",\"failure\",\"success\")\n",
    "\n",
    "#### Output variable (desired target):\n",
    "17. y - has the client subscribed a term deposit? (binary: \"yes\",\"no\")"
   ]
  },
  {
   "cell_type": "markdown",
   "id": "confirmed-ballot",
   "metadata": {},
   "source": [
    "### Data Cleaning"
   ]
  },
  {
   "cell_type": "code",
   "execution_count": 4,
   "id": "talented-plastic",
   "metadata": {},
   "outputs": [
    {
     "data": {
      "text/plain": [
       "(4521, 17)"
      ]
     },
     "execution_count": 4,
     "metadata": {},
     "output_type": "execute_result"
    }
   ],
   "source": [
    "# Find Number of Columns and Rows in Data Set\n",
    "\n",
    "bank_df.shape"
   ]
  },
  {
   "cell_type": "code",
   "execution_count": 5,
   "id": "continental-virginia",
   "metadata": {},
   "outputs": [
    {
     "data": {
      "text/plain": [
       "age           int64\n",
       "job          object\n",
       "marital      object\n",
       "education    object\n",
       "default      object\n",
       "balance       int64\n",
       "housing      object\n",
       "loan         object\n",
       "contact      object\n",
       "day           int64\n",
       "month        object\n",
       "duration      int64\n",
       "campaign      int64\n",
       "pdays         int64\n",
       "previous      int64\n",
       "poutcome     object\n",
       "y            object\n",
       "dtype: object"
      ]
     },
     "execution_count": 5,
     "metadata": {},
     "output_type": "execute_result"
    }
   ],
   "source": [
    "# Find Type of Variables\n",
    "\n",
    "bank_df.dtypes"
   ]
  },
  {
   "cell_type": "code",
   "execution_count": 6,
   "id": "jewish-cartoon",
   "metadata": {},
   "outputs": [
    {
     "data": {
      "text/html": [
       "<div>\n",
       "<style scoped>\n",
       "    .dataframe tbody tr th:only-of-type {\n",
       "        vertical-align: middle;\n",
       "    }\n",
       "\n",
       "    .dataframe tbody tr th {\n",
       "        vertical-align: top;\n",
       "    }\n",
       "\n",
       "    .dataframe thead th {\n",
       "        text-align: right;\n",
       "    }\n",
       "</style>\n",
       "<table border=\"1\" class=\"dataframe\">\n",
       "  <thead>\n",
       "    <tr style=\"text-align: right;\">\n",
       "      <th></th>\n",
       "      <th>age</th>\n",
       "      <th>balance</th>\n",
       "      <th>day</th>\n",
       "      <th>duration</th>\n",
       "      <th>campaign</th>\n",
       "      <th>pdays</th>\n",
       "      <th>previous</th>\n",
       "    </tr>\n",
       "  </thead>\n",
       "  <tbody>\n",
       "    <tr>\n",
       "      <th>count</th>\n",
       "      <td>4521.000000</td>\n",
       "      <td>4521.000000</td>\n",
       "      <td>4521.000000</td>\n",
       "      <td>4521.000000</td>\n",
       "      <td>4521.000000</td>\n",
       "      <td>4521.000000</td>\n",
       "      <td>4521.000000</td>\n",
       "    </tr>\n",
       "    <tr>\n",
       "      <th>mean</th>\n",
       "      <td>41.170095</td>\n",
       "      <td>1422.657819</td>\n",
       "      <td>15.915284</td>\n",
       "      <td>263.961292</td>\n",
       "      <td>2.793630</td>\n",
       "      <td>39.766645</td>\n",
       "      <td>0.542579</td>\n",
       "    </tr>\n",
       "    <tr>\n",
       "      <th>std</th>\n",
       "      <td>10.576211</td>\n",
       "      <td>3009.638142</td>\n",
       "      <td>8.247667</td>\n",
       "      <td>259.856633</td>\n",
       "      <td>3.109807</td>\n",
       "      <td>100.121124</td>\n",
       "      <td>1.693562</td>\n",
       "    </tr>\n",
       "    <tr>\n",
       "      <th>min</th>\n",
       "      <td>19.000000</td>\n",
       "      <td>-3313.000000</td>\n",
       "      <td>1.000000</td>\n",
       "      <td>4.000000</td>\n",
       "      <td>1.000000</td>\n",
       "      <td>-1.000000</td>\n",
       "      <td>0.000000</td>\n",
       "    </tr>\n",
       "    <tr>\n",
       "      <th>25%</th>\n",
       "      <td>33.000000</td>\n",
       "      <td>69.000000</td>\n",
       "      <td>9.000000</td>\n",
       "      <td>104.000000</td>\n",
       "      <td>1.000000</td>\n",
       "      <td>-1.000000</td>\n",
       "      <td>0.000000</td>\n",
       "    </tr>\n",
       "    <tr>\n",
       "      <th>50%</th>\n",
       "      <td>39.000000</td>\n",
       "      <td>444.000000</td>\n",
       "      <td>16.000000</td>\n",
       "      <td>185.000000</td>\n",
       "      <td>2.000000</td>\n",
       "      <td>-1.000000</td>\n",
       "      <td>0.000000</td>\n",
       "    </tr>\n",
       "    <tr>\n",
       "      <th>75%</th>\n",
       "      <td>49.000000</td>\n",
       "      <td>1480.000000</td>\n",
       "      <td>21.000000</td>\n",
       "      <td>329.000000</td>\n",
       "      <td>3.000000</td>\n",
       "      <td>-1.000000</td>\n",
       "      <td>0.000000</td>\n",
       "    </tr>\n",
       "    <tr>\n",
       "      <th>max</th>\n",
       "      <td>87.000000</td>\n",
       "      <td>71188.000000</td>\n",
       "      <td>31.000000</td>\n",
       "      <td>3025.000000</td>\n",
       "      <td>50.000000</td>\n",
       "      <td>871.000000</td>\n",
       "      <td>25.000000</td>\n",
       "    </tr>\n",
       "  </tbody>\n",
       "</table>\n",
       "</div>"
      ],
      "text/plain": [
       "               age       balance          day     duration     campaign  \\\n",
       "count  4521.000000   4521.000000  4521.000000  4521.000000  4521.000000   \n",
       "mean     41.170095   1422.657819    15.915284   263.961292     2.793630   \n",
       "std      10.576211   3009.638142     8.247667   259.856633     3.109807   \n",
       "min      19.000000  -3313.000000     1.000000     4.000000     1.000000   \n",
       "25%      33.000000     69.000000     9.000000   104.000000     1.000000   \n",
       "50%      39.000000    444.000000    16.000000   185.000000     2.000000   \n",
       "75%      49.000000   1480.000000    21.000000   329.000000     3.000000   \n",
       "max      87.000000  71188.000000    31.000000  3025.000000    50.000000   \n",
       "\n",
       "             pdays     previous  \n",
       "count  4521.000000  4521.000000  \n",
       "mean     39.766645     0.542579  \n",
       "std     100.121124     1.693562  \n",
       "min      -1.000000     0.000000  \n",
       "25%      -1.000000     0.000000  \n",
       "50%      -1.000000     0.000000  \n",
       "75%      -1.000000     0.000000  \n",
       "max     871.000000    25.000000  "
      ]
     },
     "execution_count": 6,
     "metadata": {},
     "output_type": "execute_result"
    }
   ],
   "source": [
    "# Descriptive Statistics\n",
    "\n",
    "bank_df.describe()"
   ]
  },
  {
   "cell_type": "code",
   "execution_count": 7,
   "id": "ahead-absence",
   "metadata": {},
   "outputs": [
    {
     "data": {
      "text/plain": [
       "Index(['age', 'job', 'marital', 'education', 'default', 'balance', 'housing',\n",
       "       'loan', 'contact', 'day', 'month', 'duration', 'campaign', 'pdays',\n",
       "       'previous', 'poutcome', 'y'],\n",
       "      dtype='object')"
      ]
     },
     "execution_count": 7,
     "metadata": {},
     "output_type": "execute_result"
    }
   ],
   "source": [
    "# Column Names\n",
    "\n",
    "bank_df.columns"
   ]
  },
  {
   "cell_type": "code",
   "execution_count": 8,
   "id": "running-estimate",
   "metadata": {},
   "outputs": [
    {
     "data": {
      "text/plain": [
       "age          0\n",
       "job          0\n",
       "marital      0\n",
       "education    0\n",
       "default      0\n",
       "balance      0\n",
       "housing      0\n",
       "loan         0\n",
       "contact      0\n",
       "day          0\n",
       "month        0\n",
       "duration     0\n",
       "campaign     0\n",
       "pdays        0\n",
       "previous     0\n",
       "poutcome     0\n",
       "y            0\n",
       "dtype: int64"
      ]
     },
     "execution_count": 8,
     "metadata": {},
     "output_type": "execute_result"
    }
   ],
   "source": [
    "# Find any missing values\n",
    "\n",
    "bank_df.isnull().sum()"
   ]
  },
  {
   "cell_type": "code",
   "execution_count": 9,
   "id": "united-apollo",
   "metadata": {},
   "outputs": [],
   "source": [
    "# Create new dataframe that will be cleaned\n",
    "\n",
    "bank = pd.DataFrame(data = bank_df)"
   ]
  },
  {
   "cell_type": "code",
   "execution_count": 10,
   "id": "supposed-farmer",
   "metadata": {},
   "outputs": [
    {
     "name": "stdout",
     "output_type": "stream",
     "text": [
      "521\n",
      "11.523999115239992\n"
     ]
    }
   ],
   "source": [
    "# Check positive response\n",
    "\n",
    "print((bank['y'] == 'yes').sum())\n",
    "\n",
    "# Check for response rate\n",
    "\n",
    "print(100*(bank['y'] == 'yes').sum() / len(bank))"
   ]
  },
  {
   "cell_type": "code",
   "execution_count": 11,
   "id": "bottom-birth",
   "metadata": {},
   "outputs": [
    {
     "data": {
      "text/plain": [
       "0    4000\n",
       "1     521\n",
       "Name: y, dtype: int64"
      ]
     },
     "execution_count": 11,
     "metadata": {},
     "output_type": "execute_result"
    }
   ],
   "source": [
    "# Change all yes and no to binary 0,1 values\n",
    "\n",
    "bank['y'] = (bank['y']=='yes').astype(int)  # changing yes to 1 and no to 0\n",
    "bank['default'] = (bank['default']=='yes').astype(int)  # changing yes to 1 and no to 0\n",
    "bank['housing'] = (bank['housing']=='yes').astype(int)  # changing yes to 1 and no to 0\n",
    "bank['loan'] = (bank['loan']=='yes').astype(int)  # changing yes to 1 and no to 0\n",
    "bank['y'].value_counts()"
   ]
  },
  {
   "cell_type": "code",
   "execution_count": 12,
   "id": "mighty-messaging",
   "metadata": {},
   "outputs": [],
   "source": [
    "# Look into distribution of variables\n",
    "f, axs = plt.subplots(2, 3, figsize = (14,7))\n",
    "\n",
    "sns.histplot(data = bank, x = 'age', ax = axs[0,0])\n",
    "sns.histplot(data = bank, x = 'default', ax = axs[0,1])\n",
    "sns.histplot(data = bank, x = 'balance', ax = axs[0,2])\n",
    "sns.histplot(data = bank, x = 'housing', ax = axs[1,0])\n",
    "sns.histplot(data = bank, x = 'loan', ax = axs[1,1])\n",
    "sns.histplot(data = bank, x = 'contact', ax = axs[1,2])\n",
    "\n",
    "\n",
    "plt.tight_layout()"
   ]
  },
  {
   "cell_type": "code",
   "execution_count": 13,
   "id": "still-teach",
   "metadata": {},
   "outputs": [],
   "source": [
    "#Look into distribution of variables\n",
    "f, axs = plt.subplots(2, 3, figsize = (14,7))\n",
    "\n",
    "sns.histplot(data = bank, x = 'duration', ax = axs[0,0])\n",
    "sns.histplot(data = bank,x = 'campaign', ax = axs[0,1])\n",
    "sns.histplot(data = bank, x = 'pdays', ax = axs[0,2])\n",
    "sns.histplot(data = bank, x = 'previous', ax = axs[1,0])\n",
    "sns.histplot(data = bank, x = 'y', ax = axs[1,1])\n",
    "\n",
    "plt.tight_layout()"
   ]
  },
  {
   "cell_type": "code",
   "execution_count": 14,
   "id": "palestinian-bryan",
   "metadata": {},
   "outputs": [
    {
     "data": {
      "image/png": "[encoded data removed]",
      "text/plain": [
       "<Figure size 1080x840 with 2 Axes>"
      ]
     },
     "metadata": {},
     "output_type": "display_data"
    }
   ],
   "source": [
    "# Find which variables have the highest correlation\n",
    "%matplotlib inline\n",
    "\n",
    "corr = np.corrcoef(np.random.randn(10,200))\n",
    "mask = np.zeros_like(corr)\n",
    "mask[np.triu_indices_from(mask)] = True\n",
    "with sns.axes_style('white'):\n",
    "    f, ax = plt.subplots(figsize = (9,7), dpi = 120)\n",
    "    sns.set(font_scale = .6)\n",
    "    ax = sns.heatmap(corr, mask = mask, vmax = .3, square = True, annot = True)\n",
    "    ax.set_title('Correlation Matrix', fontsize = 14)"
   ]
  },
  {
   "cell_type": "code",
   "execution_count": 15,
   "id": "julian-siemens",
   "metadata": {},
   "outputs": [],
   "source": [
    "# Set Up Normalized Bar Plots for categorical variables\n",
    "\n",
    "# Marital\n",
    "\n",
    "crosstab_marital = pd.crosstab(bank['marital'], bank['y'])\n",
    "crosstab_marital_norm = crosstab_marital.div(crosstab_marital.sum(axis = 1), axis = 0)\n",
    "\n",
    "# Job\n",
    "\n",
    "crosstab_job = pd.crosstab(bank['job'], bank['y'])\n",
    "crosstab_job_norm = crosstab_job.div(crosstab_job.sum(axis=1), axis = 0)\n",
    "\n",
    "# Education\n",
    "\n",
    "crosstab_education = pd.crosstab(bank['education'], bank['y'])\n",
    "crosstab_education_norm = crosstab_education.div(crosstab_education.sum(axis=1), axis = 0)\n",
    "\n",
    "# Contact\n",
    "\n",
    "crosstab_contact = pd.crosstab(bank['contact'], bank['y'])\n",
    "crosstab_contact_norm = crosstab_contact.div(crosstab_contact.sum(axis=1), axis = 0)\n",
    "\n",
    "# Month\n",
    "\n",
    "crosstab_month = pd.crosstab(bank['month'], bank['y'])\n",
    "crosstab_month_norm = crosstab_month.div(crosstab_month.sum(axis=1), axis = 0)\n",
    "\n",
    "# Day\n",
    "\n",
    "crosstab_day = pd.crosstab(bank['day'], bank['y'])\n",
    "crosstab_day_norm = crosstab_day.div(crosstab_day.sum(axis=1), axis = 0)"
   ]
  },
  {
   "cell_type": "code",
   "execution_count": 16,
   "id": "parallel-motion",
   "metadata": {},
   "outputs": [],
   "source": [
    "params = {'legend.fontsize': 12,\n",
    "         'axes.labelsize': 12,\n",
    "         'axes.titlesize': 12,}\n",
    "plt.rcParams.update(params)"
   ]
  },
  {
   "cell_type": "code",
   "execution_count": 17,
   "id": "sustained-germany",
   "metadata": {},
   "outputs": [
    {
     "data": {
      "text/plain": [
       "<matplotlib.legend.Legend at 0x7fcdb777c3a0>"
      ]
     },
     "execution_count": 17,
     "metadata": {},
     "output_type": "execute_result"
    },
    {
     "data": {
      "image/png": "[encoded data removed]",
      "text/plain": [
       "<Figure size 1008x1296 with 6 Axes>"
      ]
     },
     "metadata": {
      "needs_background": "light"
     },
     "output_type": "display_data"
    }
   ],
   "source": [
    "fig = plt.figure(figsize = (14, 18))\n",
    "ax1 = fig.add_subplot(3,2,1)\n",
    "ax2 = fig.add_subplot(3,2,2)\n",
    "ax3 = fig.add_subplot(3,2,3)\n",
    "ax4 = fig.add_subplot(3,2,4)\n",
    "ax5 = fig.add_subplot(3,2,5)\n",
    "ax6 = fig.add_subplot(3,2,6)\n",
    "\n",
    "plot_marital = crosstab_marital_norm.plot(kind = 'bar', stacked = True, title = 'Marital - Normalized', fontsize = 12, ax  = ax1)\n",
    "plot_job = crosstab_job_norm.plot(kind = 'bar', stacked = True, title = 'Job - Normalized', fontsize = 12, ax  = ax2)\n",
    "plot_education = crosstab_education_norm.plot(kind = 'bar', stacked = True, title = 'Education - Normalized', fontsize = 12, ax  = ax3)\n",
    "plot_contact = crosstab_contact_norm.plot(kind = 'bar', stacked = True, title = 'Contact - Normalized', fontsize = 12, ax  = ax4)\n",
    "plot_month = crosstab_month_norm.plot(kind = 'bar', stacked = True, title = 'Month - Normalized', fontsize = 12, ax  = ax5)\n",
    "plot_day = crosstab_day_norm.plot(kind = 'bar', stacked = True, title = 'Day - Normalized', fontsize = 12, ax  = ax6)\n",
    "\n",
    "fig.tight_layout(pad = 1)\n",
    "ax1.legend(loc = 'upper right')\n",
    "ax2.legend(loc = 'upper right')\n",
    "ax3.legend(loc = 'upper right')\n",
    "ax4.legend(loc = 'upper right')\n",
    "ax5.legend(loc = 'upper right')\n",
    "ax6.legend(loc = 'upper right')"
   ]
  },
  {
   "cell_type": "markdown",
   "id": "necessary-moldova",
   "metadata": {},
   "source": [
    "### Add Details\n",
    "\n",
    "Based on normalized charts, `job`, `month`, `day`, and `education` stand out needing further exploration. \n",
    "\n",
    "Variables `month`, `day`, `job` will be binned and `education`is fairly well-balanced which will changed into ordinal values. `contact` will be turned into nominal values."
   ]
  },
  {
   "cell_type": "code",
   "execution_count": 18,
   "id": "minimal-straight",
   "metadata": {},
   "outputs": [
    {
     "data": {
      "text/plain": [
       "<AxesSubplot:title={'center':'Binned by Jobs - Normalized'}, xlabel='job'>"
      ]
     },
     "execution_count": 18,
     "metadata": {},
     "output_type": "execute_result"
    },
    {
     "data": {
      "image/png": "[encoded data removed]",
      "text/plain": [
       "<Figure size 864x576 with 1 Axes>"
      ]
     },
     "metadata": {
      "needs_background": "light"
     },
     "output_type": "display_data"
    }
   ],
   "source": [
    "# Bin Jobs into Employed, Unemployed, and Self-Employed\n",
    "bank['job'] = bank['job'].replace({'management': 'Employed', 'blue-collar': 'Employed',\n",
    "                                 'technician': 'Employed', 'admin.': 'Employed',\n",
    "                                 'services': 'Employed', 'retired': 'Unemployed',\n",
    "                                 'self-employed': 'Self-employed', 'entrepreneur':'Employed',\n",
    "                                 'unemployed': 'Unemployed', 'housemaid': 'Employed',\n",
    "                                 'student': 'Unemployed', 'unknown': 'Employed'})\n",
    "\n",
    "# Normalized Job by Bins Chart\n",
    "\n",
    "crosstab_job = pd.crosstab(bank['job'], bank['y'])\n",
    "crosstab_job_norm = crosstab_job.div(crosstab_job.sum(axis=1), axis = 0)\n",
    "crosstab_job_norm.plot(kind = 'bar', stacked = True, title = 'Binned by Jobs - Normalized', fontsize = 12, figsize = (12, 8))"
   ]
  },
  {
   "cell_type": "code",
   "execution_count": 19,
   "id": "personalized-height",
   "metadata": {},
   "outputs": [
    {
     "data": {
      "text/plain": [
       "<AxesSubplot:title={'center':'Binned by Days - Normalized'}, xlabel='day'>"
      ]
     },
     "execution_count": 19,
     "metadata": {},
     "output_type": "execute_result"
    },
    {
     "data": {
      "image/png": "[encoded data removed]",
      "text/plain": [
       "<Figure size 864x576 with 1 Axes>"
      ]
     },
     "metadata": {
      "needs_background": "light"
     },
     "output_type": "display_data"
    }
   ],
   "source": [
    "# Change Days to First Day of the Month and All Other Days\n",
    "\n",
    "b_day = [1, 2, 999]\n",
    "l_day = ['1', '0']\n",
    "\n",
    "bank['day'] = pd.to_numeric(bank['day'])\n",
    "bank['day'] = pd.cut(bank['day'], bins = b_day, labels = l_day, include_lowest = True)\n",
    "\n",
    "# Normalized Day by Bins Chart\n",
    "\n",
    "crosstab_day = pd.crosstab(bank['day'], bank['y'])\n",
    "crosstab_day_norm = crosstab_day.div(crosstab_day.sum(axis=1), axis = 0)\n",
    "crosstab_day_norm.plot(kind = 'bar', stacked = True, title = 'Binned by Days - Normalized', fontsize = 12, figsize = (12, 8))"
   ]
  },
  {
   "cell_type": "code",
   "execution_count": 20,
   "id": "floppy-latter",
   "metadata": {},
   "outputs": [
    {
     "data": {
      "image/png": "[encoded data removed]",
      "text/plain": [
       "<Figure size 864x576 with 1 Axes>"
      ]
     },
     "metadata": {
      "needs_background": "light"
     },
     "output_type": "display_data"
    }
   ],
   "source": [
    "# Change age into groups based on range\n",
    "\n",
    "b_age = [0, 21, 65, 99999]\n",
    "l_age = ['Youth', 'Adult', 'Senior']\n",
    "\n",
    "bank['age'] = pd.to_numeric(bank['age'])\n",
    "bank['age'] = pd.cut(bank['age'], bins = b_age, labels = l_age, include_lowest = True)\n",
    "\n",
    "# Normalized Day by Bins Chart\n",
    "\n",
    "crosstab_age = pd.crosstab(bank['age'], bank['y'])\n",
    "crosstab_age_norm = crosstab_age.div(crosstab_age.sum(axis=1), axis = 0)\n",
    "crosstab_age_norm.plot(kind = 'bar', stacked = True, title = 'Binned by Age Groups - Normalized', fontsize = 12, figsize = (12, 8))\n",
    "\n",
    "# Convert Categories into Numbers\n",
    "\n",
    "bank['age'] = bank['age'].replace({'Youth': '0',\n",
    "                                  'Adult': '1',\n",
    "                                  'Senior': '2'})"
   ]
  },
  {
   "cell_type": "code",
   "execution_count": 21,
   "id": "fallen-documentary",
   "metadata": {},
   "outputs": [
    {
     "data": {
      "text/plain": [
       "<matplotlib.legend.Legend at 0x7fcdd5f7e4f0>"
      ]
     },
     "execution_count": 21,
     "metadata": {},
     "output_type": "execute_result"
    },
    {
     "data": {
      "image/png": "[encoded data removed]",
      "text/plain": [
       "<Figure size 864x576 with 1 Axes>"
      ]
     },
     "metadata": {
      "needs_background": "light"
     },
     "output_type": "display_data"
    }
   ],
   "source": [
    "# Change months into groups based on a quarter system\n",
    "\n",
    "bank['month'] = bank['month'].replace({'jan': '1','feb':'2','mar':'3','apr':'4','may':'5',\n",
    "                                       'jun':'6','jul':'7','aug':'8','sep':'9','oct':'10',\n",
    "                                       'nov':'11','dec':'12'\n",
    "                                  })\n",
    "\n",
    "bank['month'] = pd.to_numeric(bank['month'])\n",
    "\n",
    "b_month = [0, 3, 6, 9, 12]\n",
    "l_month = ['Q1','Q2','Q3','Q4']\n",
    "\n",
    "bank['month'] = pd.to_numeric(bank['month'])\n",
    "bank['month'] = pd.cut(bank['month'], bins = b_month, labels = l_month, include_lowest = True)\n",
    "\n",
    "# Normalized Month by Bins Chart\n",
    "\n",
    "crosstab_month = pd.crosstab(bank['month'], bank['y'])\n",
    "crosstab_month_norm = crosstab_month.div(crosstab_month.sum(axis=1), axis = 0)\n",
    "crosstab_month_norm.plot(kind = 'bar', stacked = True, title = 'Binned by Quarters - Normalized', fontsize = 12, figsize = (12, 8))\n",
    "\n",
    "# Convert Categories into Numbers\n",
    "\n",
    "bank['month'] = bank['month'].replace({'Q1': '1',\n",
    "                                       'Q2': '2',\n",
    "                                       'Q3': '3',\n",
    "                                       'Q4': '4'})\n",
    "\n",
    "plt.legend(loc = 'upper right')"
   ]
  },
  {
   "cell_type": "markdown",
   "id": "english-terrain",
   "metadata": {},
   "source": [
    " `job` and `marital` will be turned into dummy variables."
   ]
  },
  {
   "cell_type": "code",
   "execution_count": 22,
   "id": "eastern-thanks",
   "metadata": {},
   "outputs": [],
   "source": [
    "# Turn categorical variables job and marital into dummy variables\n",
    "\n",
    "cat_df = bank[['job', 'marital']]\n",
    "dummy = pd.get_dummies(cat_df)\n",
    "\n",
    "# Merge back into dataset\n",
    "\n",
    "bank = pd.concat([bank,dummy], axis = 1)\n",
    "\n",
    "# Drop job and marital original\n",
    "\n",
    "bank = bank.drop(['job', 'marital'], axis = 1)"
   ]
  },
  {
   "cell_type": "code",
   "execution_count": 23,
   "id": "incident-cycle",
   "metadata": {},
   "outputs": [],
   "source": [
    "# Change pdays to integer and bins\n",
    "\n",
    "b = [-1, 0, 99999]\n",
    "l = ['0', '1']\n",
    "\n",
    "bank['pdays'].astype(int)\n",
    "bank['pdays'] = pd.cut(bank['pdays'], bins = b, labels = l, include_lowest = True)\n",
    "\n",
    "\n",
    "# Change Education Variable to Ordinal\n",
    "\n",
    "bank['education'] = bank['education'].replace({'primary': '0',\n",
    "                                              'secondary':'0.25',\n",
    "                                              'tertiary':'0.5',\n",
    "                                              'unknown':'1'})\n",
    "bank['education'].astype(float)\n",
    "\n",
    "\n",
    "# Change Contact and P Outcome to Nominal Values\n",
    "\n",
    "bank['contact'] = bank['contact'].replace({'cellular': '0',\n",
    "                                           'telephone':'1',\n",
    "                                           'unknown':'2'\n",
    "                                  })\n",
    "\n",
    "bank['poutcome'] = bank['poutcome'].replace({'failure': '0',\n",
    "                                             'other':'1',\n",
    "                                             'success':'2',\n",
    "                                             'unknown':'3'\n",
    "                                  })"
   ]
  },
  {
   "cell_type": "code",
   "execution_count": 24,
   "id": "false-soviet",
   "metadata": {},
   "outputs": [],
   "source": [
    "# Change Variable of 'y' to 'deposit'\n",
    "\n",
    "bank = bank.rename(columns = {'y': 'deposit'})"
   ]
  },
  {
   "cell_type": "code",
   "execution_count": 25,
   "id": "orange-faculty",
   "metadata": {},
   "outputs": [],
   "source": [
    "# Set Predictors and Outcome\n",
    "\n",
    "predictors = list(bank.columns)\n",
    "outcome = 'deposit'\n",
    "predictors.remove(outcome)"
   ]
  },
  {
   "cell_type": "markdown",
   "id": "obvious-internet",
   "metadata": {},
   "source": [
    "#### Train, Valid, Test Split Data\n",
    "\n",
    "Parameters: \n",
    "- Train .4\n",
    "- Valid .35\n",
    "- Test .25\n",
    "- Random State 1"
   ]
  },
  {
   "cell_type": "code",
   "execution_count": 26,
   "id": "jewish-fourth",
   "metadata": {},
   "outputs": [],
   "source": [
    "# Helper Functions\n",
    "\n",
    "def confusionMatrices(model, title):\n",
    "    print(title + ' - training results')\n",
    "    classificationSummary(train_y, model.predict(train_X))\n",
    "    print(title + ' - validation results')\n",
    "    valid_pred = model.predict(valid_X)\n",
    "    classificationSummary(valid_y, valid_pred)"
   ]
  },
  {
   "cell_type": "code",
   "execution_count": 27,
   "id": "strategic-pressing",
   "metadata": {},
   "outputs": [
    {
     "name": "stdout",
     "output_type": "stream",
     "text": [
      "Training   :  (1700, 21)\n",
      "Validation :  (1488, 21)\n",
      "Test :  (1333, 21)\n"
     ]
    }
   ],
   "source": [
    "# Train, Valid, Test Split Data\n",
    "\n",
    "train, temp = train_test_split(bank, train_size=1700, random_state=1)\n",
    "valid, test = train_test_split(temp, train_size=1488, random_state=1)\n",
    "\n",
    "print('Training   : ', train.shape)\n",
    "print('Validation : ', valid.shape)\n",
    "print('Test : ', test.shape)"
   ]
  },
  {
   "cell_type": "code",
   "execution_count": 28,
   "id": "oriental-durham",
   "metadata": {},
   "outputs": [],
   "source": [
    "# Set Variables\n",
    "\n",
    "train_X = train.drop(['deposit'], 1)\n",
    "train_y = train['deposit']\n",
    "\n",
    "valid_X = valid.drop(['deposit'], 1)\n",
    "valid_y = valid['deposit']\n",
    "\n",
    "test_X = test.drop(['deposit'], 1)\n",
    "test_y = test['deposit']"
   ]
  },
  {
   "cell_type": "code",
   "execution_count": 29,
   "id": "killing-nicaragua",
   "metadata": {},
   "outputs": [],
   "source": [
    "#Standardization\n",
    "\n",
    "# train\n",
    "train_X = StandardScaler().fit_transform(train_X)\n",
    "\n",
    "# valid\n",
    "valid_X = StandardScaler().fit_transform(valid_X)\n",
    "\n",
    "# test\n",
    "test_X = StandardScaler().fit_transform(test_X)"
   ]
  },
  {
   "cell_type": "markdown",
   "id": "strange-return",
   "metadata": {},
   "source": [
    "### Logistic Regression"
   ]
  },
  {
   "cell_type": "code",
   "execution_count": 30,
   "id": "growing-application",
   "metadata": {},
   "outputs": [
    {
     "name": "stdout",
     "output_type": "stream",
     "text": [
      "Logistic regression - training results\n",
      "Confusion Matrix (Accuracy 0.9047)\n",
      "\n",
      "       Prediction\n",
      "Actual    0    1\n",
      "     0 1470   30\n",
      "     1  132   68\n",
      "Logistic regression - validation results\n",
      "Confusion Matrix (Accuracy 0.8972)\n",
      "\n",
      "       Prediction\n",
      "Actual    0    1\n",
      "     0 1280   37\n",
      "     1  116   55\n"
     ]
    }
   ],
   "source": [
    "logit_reg = LogisticRegressionCV(penalty=\"l2\", solver='lbfgs', cv = 5, max_iter = 5000)\n",
    "logit_reg.fit(train_X, train_y)\n",
    "confusionMatrices(logit_reg, 'Logistic regression')"
   ]
  },
  {
   "cell_type": "markdown",
   "id": "arabic-richmond",
   "metadata": {},
   "source": [
    "### Classification Tree"
   ]
  },
  {
   "cell_type": "code",
   "execution_count": 31,
   "id": "imposed-robert",
   "metadata": {},
   "outputs": [
    {
     "name": "stdout",
     "output_type": "stream",
     "text": [
      "Decision Tree - training results\n",
      "Confusion Matrix (Accuracy 0.9047)\n",
      "\n",
      "       Prediction\n",
      "Actual    0    1\n",
      "     0 1490   10\n",
      "     1  152   48\n",
      "Decision Tree - validation results\n",
      "Confusion Matrix (Accuracy 0.8905)\n",
      "\n",
      "       Prediction\n",
      "Actual    0    1\n",
      "     0 1299   18\n",
      "     1  145   26\n"
     ]
    }
   ],
   "source": [
    "dTree = DecisionTreeClassifier(criterion = 'gini', min_samples_split = 30, max_leaf_nodes = 10)\n",
    "dTree.fit(train_X, train_y)\n",
    "confusionMatrices(dTree, 'Decision Tree')"
   ]
  },
  {
   "cell_type": "markdown",
   "id": "solved-seminar",
   "metadata": {},
   "source": [
    "### Bagging"
   ]
  },
  {
   "cell_type": "code",
   "execution_count": 32,
   "id": "alpha-yield",
   "metadata": {},
   "outputs": [
    {
     "name": "stdout",
     "output_type": "stream",
     "text": [
      "Bagged Decision Tree - training results\n",
      "Confusion Matrix (Accuracy 0.8871)\n",
      "\n",
      "       Prediction\n",
      "Actual    0    1\n",
      "     0 1499    1\n",
      "     1  191    9\n",
      "Bagged Decision Tree - validation results\n",
      "Confusion Matrix (Accuracy 0.8884)\n",
      "\n",
      "       Prediction\n",
      "Actual    0    1\n",
      "     0 1314    3\n",
      "     1  163    8\n"
     ]
    }
   ],
   "source": [
    "bagging = BaggingClassifier(dTree, max_samples = 0.5, max_features = 0.5)\n",
    "bagging.fit(train_X, train_y)\n",
    "confusionMatrices(bagging, 'Bagged Decision Tree')"
   ]
  },
  {
   "cell_type": "markdown",
   "id": "brave-lighter",
   "metadata": {},
   "source": [
    "### Adaboost"
   ]
  },
  {
   "cell_type": "code",
   "execution_count": 33,
   "id": "worst-belfast",
   "metadata": {},
   "outputs": [
    {
     "name": "stdout",
     "output_type": "stream",
     "text": [
      "Boosted Decision Tree - training results\n",
      "Confusion Matrix (Accuracy 1.0000)\n",
      "\n",
      "       Prediction\n",
      "Actual    0    1\n",
      "     0 1500    0\n",
      "     1    0  200\n",
      "Boosted Decision Tree - validation results\n",
      "Confusion Matrix (Accuracy 0.8602)\n",
      "\n",
      "       Prediction\n",
      "Actual    0    1\n",
      "     0 1222   95\n",
      "     1  113   58\n"
     ]
    }
   ],
   "source": [
    "adaboost = AdaBoostClassifier(n_estimators = 100, base_estimator = dTree)\n",
    "adaboost.fit(train_X, train_y)\n",
    "confusionMatrices(adaboost, 'Boosted Decision Tree')"
   ]
  },
  {
   "cell_type": "markdown",
   "id": "hundred-genre",
   "metadata": {},
   "source": [
    "### Random Forest"
   ]
  },
  {
   "cell_type": "code",
   "execution_count": 34,
   "id": "welsh-worst",
   "metadata": {},
   "outputs": [
    {
     "name": "stdout",
     "output_type": "stream",
     "text": [
      "Random Forest Classifier - training results\n",
      "Confusion Matrix (Accuracy 1.0000)\n",
      "\n",
      "       Prediction\n",
      "Actual    0    1\n",
      "     0 1500    0\n",
      "     1    0  200\n",
      "Random Forest Classifier - validation results\n",
      "Confusion Matrix (Accuracy 0.8858)\n",
      "\n",
      "       Prediction\n",
      "Actual    0    1\n",
      "     0 1279   38\n",
      "     1  132   39\n"
     ]
    }
   ],
   "source": [
    "rf = RandomForestClassifier(n_estimators = 100, random_state = 1)\n",
    "rf.fit(train_X, train_y)\n",
    "confusionMatrices(rf, 'Random Forest Classifier')"
   ]
  },
  {
   "cell_type": "markdown",
   "id": "loaded-precipitation",
   "metadata": {},
   "source": [
    "### Neural Network"
   ]
  },
  {
   "cell_type": "markdown",
   "id": "municipal-northern",
   "metadata": {},
   "source": [
    "#### Option 1"
   ]
  },
  {
   "cell_type": "code",
   "execution_count": 35,
   "id": "marked-australia",
   "metadata": {},
   "outputs": [
    {
     "name": "stdout",
     "output_type": "stream",
     "text": [
      "Neural Network - training results\n",
      "Confusion Matrix (Accuracy 0.9171)\n",
      "\n",
      "       Prediction\n",
      "Actual    0    1\n",
      "     0 1469   31\n",
      "     1  110   90\n",
      "Neural Network - validation results\n",
      "Confusion Matrix (Accuracy 0.8824)\n",
      "\n",
      "       Prediction\n",
      "Actual    0    1\n",
      "     0 1259   58\n",
      "     1  117   54\n"
     ]
    }
   ],
   "source": [
    "param_grid = {\n",
    "    'hidden_layer_sizes': list(range(2, 10)),\n",
    "}\n",
    "neuralNet1 = MLPClassifier(activation = 'logistic', solver = 'lbfgs', random_state = 1, max_iter = 5000)\n",
    "\n",
    "gridSearch = GridSearchCV(neuralNet1, param_grid, cv = 5, n_jobs = -1)\n",
    "gridSearch.fit(train_X, train_y)\n",
    "neuralNet1 = gridSearch.best_estimator_\n",
    "\n",
    "confusionMatrices(gridSearch, 'Neural Network')"
   ]
  },
  {
   "cell_type": "markdown",
   "id": "concerned-monroe",
   "metadata": {},
   "source": [
    "#### Option 2"
   ]
  },
  {
   "cell_type": "code",
   "execution_count": 36,
   "id": "grand-drilling",
   "metadata": {},
   "outputs": [
    {
     "name": "stdout",
     "output_type": "stream",
     "text": [
      "Neural Network - Training results\n",
      "Confusion Matrix (Accuracy 0.9476)\n",
      "\n",
      "       Prediction\n",
      "Actual    0    1\n",
      "     0 1478   22\n",
      "     1   67  133\n",
      "Neural Network - Validation results\n",
      "Confusion Matrix (Accuracy 0.8777)\n",
      "\n",
      "       Prediction\n",
      "Actual    0    1\n",
      "     0 1252   65\n",
      "     1  117   54\n"
     ]
    }
   ],
   "source": [
    "scaleInput = MinMaxScaler()\n",
    "scaleInput.fit(train_X * 1.0)\n",
    "\n",
    "neuralNet2 = MLPClassifier(hidden_layer_sizes = (10), activation = 'logistic', solver = 'lbfgs', max_iter = 5000,\n",
    "                          random_state = 1)\n",
    "neuralNet2.fit(scaleInput.transform(train_X), train_y)\n",
    "\n",
    "print('Neural Network - Training results')\n",
    "classificationSummary(train_y, neuralNet2.predict(scaleInput.transform(train_X)))\n",
    "print('Neural Network - Validation results')\n",
    "classificationSummary(valid_y, neuralNet2.predict(scaleInput.transform(valid_X)))"
   ]
  },
  {
   "cell_type": "markdown",
   "id": "closed-attraction",
   "metadata": {},
   "source": [
    "### Linear Discriminant Analysis"
   ]
  },
  {
   "cell_type": "code",
   "execution_count": 37,
   "id": "attempted-accuracy",
   "metadata": {},
   "outputs": [
    {
     "name": "stdout",
     "output_type": "stream",
     "text": [
      "Linear Discriminant Analysis - training results\n",
      "Confusion Matrix (Accuracy 0.9041)\n",
      "\n",
      "       Prediction\n",
      "Actual    0    1\n",
      "     0 1448   52\n",
      "     1  111   89\n",
      "Linear Discriminant Analysis - validation results\n",
      "Confusion Matrix (Accuracy 0.8905)\n",
      "\n",
      "       Prediction\n",
      "Actual    0    1\n",
      "     0 1262   55\n",
      "     1  108   63\n"
     ]
    }
   ],
   "source": [
    "LDA = LinearDiscriminantAnalysis()\n",
    "LDA.fit(train_X, train_y)\n",
    "LDA_confusion = confusionMatrices(LDA, 'Linear Discriminant Analysis')"
   ]
  },
  {
   "cell_type": "markdown",
   "id": "incorporated-ridge",
   "metadata": {},
   "source": [
    "### Evaluation Metrics"
   ]
  },
  {
   "cell_type": "markdown",
   "id": "incident-academy",
   "metadata": {},
   "source": [
    "### Accuracy Score"
   ]
  },
  {
   "cell_type": "code",
   "execution_count": 38,
   "id": "about-treat",
   "metadata": {},
   "outputs": [
    {
     "name": "stdout",
     "output_type": "stream",
     "text": [
      "Accuracy score for Logistic Regression is: (0.905, 0.897)\n",
      "Accuracy score for Decision Tree is: (0.905, 0.89)\n",
      "Accuracy score for Bagging is: (0.887, 0.888)\n",
      "Accuracy score for Boosting is: (1.0, 0.86)\n",
      "Accuracy score for Random Forest is: (1.0, 0.886)\n",
      "Accuracy score for Neural Network Option 1 is: (0.917, 0.882)\n",
      "Accuracy score for Neural Network Option 2 is: (0.867, 0.87)\n",
      "Accuracy score for Linear Discriminant Analysis is: (0.904, 0.89)\n"
     ]
    }
   ],
   "source": [
    "def accuracy(model):\n",
    "    \n",
    "    accuracy_train = accuracy_score(train_y, model.predict(train_X))\n",
    "    accuracy_valid = accuracy_score(valid_y, model.predict(valid_X))\n",
    "    \n",
    "    return round(accuracy_train,3), round(accuracy_valid,3)\n",
    "\n",
    "print('Accuracy score for Logistic Regression is:', accuracy(logit_reg))\n",
    "print('Accuracy score for Decision Tree is:', accuracy(dTree))\n",
    "print('Accuracy score for Bagging is:', accuracy(bagging))\n",
    "print('Accuracy score for Boosting is:', accuracy(adaboost))\n",
    "print('Accuracy score for Random Forest is:', accuracy(rf))\n",
    "print('Accuracy score for Neural Network Option 1 is:', accuracy(gridSearch))\n",
    "print('Accuracy score for Neural Network Option 2 is:', accuracy(neuralNet2))\n",
    "print('Accuracy score for Linear Discriminant Analysis is:', accuracy(LDA))"
   ]
  },
  {
   "cell_type": "markdown",
   "id": "dependent-convertible",
   "metadata": {},
   "source": [
    "### F1 Score"
   ]
  },
  {
   "cell_type": "code",
   "execution_count": 39,
   "id": "opposed-thesis",
   "metadata": {},
   "outputs": [
    {
     "name": "stdout",
     "output_type": "stream",
     "text": [
      "F1 score for Logistic Regression is: (0.89, 0.88)\n",
      "F1 score for Decision Tree is: (0.88, 0.86)\n",
      "F1 score for Bagging is: (0.84, 0.84)\n",
      "F1 score for Boosting is: (1.0, 0.86)\n",
      "F1 score for Random Forest is: (1.0, 0.87)\n",
      "F1 score for Neural Network Option 1 is: (0.91, 0.87)\n",
      "F1 score for Neural Network Option 2 is: (0.86, 0.87)\n",
      "F1 score for Linear Discriminant Analysis is: (0.9, 0.88)\n"
     ]
    }
   ],
   "source": [
    "def f1(model):\n",
    "    \n",
    "    f1_train = f1_score(train_y, model.predict(train_X), average = 'weighted')\n",
    "    f1_valid = f1_score(valid_y, model.predict(valid_X), average = 'weighted')\n",
    "    \n",
    "    return round(f1_train,2), round(f1_valid,2)\n",
    "\n",
    "print('F1 score for Logistic Regression is:', f1(logit_reg))\n",
    "print('F1 score for Decision Tree is:', f1(dTree))\n",
    "print('F1 score for Bagging is:', f1(bagging))\n",
    "print('F1 score for Boosting is:', f1(adaboost))\n",
    "print('F1 score for Random Forest is:', f1(rf))\n",
    "print('F1 score for Neural Network Option 1 is:', f1(gridSearch))\n",
    "print('F1 score for Neural Network Option 2 is:', f1(neuralNet2))\n",
    "print('F1 score for Linear Discriminant Analysis is:', f1(LDA))"
   ]
  },
  {
   "cell_type": "markdown",
   "id": "german-cover",
   "metadata": {},
   "source": [
    "### Gains Chart"
   ]
  },
  {
   "cell_type": "code",
   "execution_count": 40,
   "id": "theoretical-divide",
   "metadata": {},
   "outputs": [
    {
     "data": {
      "text/plain": [
       "<matplotlib.legend.Legend at 0x7fcdd577e580>"
      ]
     },
     "execution_count": 40,
     "metadata": {},
     "output_type": "execute_result"
    },
    {
     "data": {
      "image/png": "[encoded data removed]",
      "text/plain": [
       "<Figure size 864x576 with 1 Axes>"
      ]
     },
     "metadata": {
      "needs_background": "light"
     },
     "output_type": "display_data"
    }
   ],
   "source": [
    "def modelGainsChart(model, title, ax=None):\n",
    "    \n",
    "    result = pd.DataFrame({\n",
    "        'actual': valid_y,  # use validate set\n",
    "        'prob': model.predict_proba(valid_X)[:, 1]\n",
    "    })\n",
    "\n",
    "    result = result.sort_values(by=['prob'], ascending=False).reset_index(drop=True)\n",
    "    \n",
    "    r = random.random()\n",
    "    b = random.random()\n",
    "    g = random.random()\n",
    "    color = (r, g, b)\n",
    "    \n",
    "    ax = gainsChart(result.actual, label = title, ax=ax, figsize=[12, 8], color = color)\n",
    "    ax.set_title(title)\n",
    "    \n",
    "    return ax\n",
    "\n",
    "\n",
    "\n",
    "ax = modelGainsChart(logit_reg, 'Logistic Regression')\n",
    "modelGainsChart(dTree, 'Decision Tree', ax)\n",
    "modelGainsChart(bagging, 'Bagging', ax)\n",
    "modelGainsChart(adaboost, 'Boosting', ax)\n",
    "modelGainsChart(rf, 'Random Forest', ax)\n",
    "modelGainsChart(gridSearch, 'Neural Network Option 1', ax)\n",
    "modelGainsChart(neuralNet2, 'Neural Network Option 2', ax)\n",
    "modelGainsChart(LDA, 'Linear Discriminant Analysis', ax)\n",
    "\n",
    "ax.set_title('All models')\n",
    "ax.set_xlabel('# of records')\n",
    "ax.set_ylabel('Cumulative gains')\n",
    "ax.legend(loc='center left', bbox_to_anchor=(1, 0.5))"
   ]
  },
  {
   "cell_type": "markdown",
   "id": "saved-baker",
   "metadata": {},
   "source": [
    "### ROC Curve"
   ]
  },
  {
   "cell_type": "code",
   "execution_count": 41,
   "id": "announced-jaguar",
   "metadata": {},
   "outputs": [
    {
     "data": {
      "text/plain": [
       "<Figure size 432x288 with 0 Axes>"
      ]
     },
     "metadata": {},
     "output_type": "display_data"
    },
    {
     "data": {
      "image/png": "[encoded data removed]",
      "text/plain": [
       "<Figure size 800x640 with 1 Axes>"
      ]
     },
     "metadata": {
      "needs_background": "light"
     },
     "output_type": "display_data"
    }
   ],
   "source": [
    "#Logistic Regression\n",
    "probs_logit_reg = logit_reg.predict_proba(valid_X)\n",
    "preds_logit_reg = probs_logit_reg[:,1]\n",
    "\n",
    "# Decision Tree\n",
    "probs_dTree = dTree.predict_proba(valid_X)\n",
    "preds_dTree = probs_dTree[:,1]\n",
    "\n",
    "#Bagging\n",
    "probs_bagging = bagging.predict_proba(valid_X)\n",
    "preds_bagging = probs_bagging[:,1]\n",
    "\n",
    "#Boosting\n",
    "probs_adaboost = adaboost.predict_proba(valid_X)\n",
    "preds_adaboost = probs_adaboost[:,1]\n",
    "\n",
    "# Random Forest\n",
    "probs_rf = rf.predict_proba(valid_X)\n",
    "preds_rf = probs_rf[:,1]\n",
    "\n",
    "# Neural Net Option 1 \n",
    "probs_neuralNet = gridSearch.predict_proba(valid_X)\n",
    "preds_neuralNet = probs_neuralNet[:,1]\n",
    "\n",
    "# Neural Net Option 2\n",
    "probs_neuralNet2 = neuralNet2.predict_proba(valid_X)\n",
    "preds_neuralNet2 = probs_neuralNet2[:,1]\n",
    "\n",
    "# LDA\n",
    "probs_LDA = LDA.predict_proba(valid_X)\n",
    "preds_LDA = probs_LDA[:,1]\n",
    "\n",
    "\n",
    "fpr1, tpr1, threshold1 = roc_curve(valid_y, logit_reg.predict(valid_X))\n",
    "fpr2, tpr2, threshold2 = metrics.roc_curve(valid_y, preds_dTree)\n",
    "fpr3, tpr3, threshold3 = metrics.roc_curve(valid_y, preds_bagging)\n",
    "fpr4, tpr4, threshold4 = metrics.roc_curve(valid_y, preds_adaboost)\n",
    "fpr5, tpr5, threshold5 = metrics.roc_curve(valid_y, preds_rf)\n",
    "fpr6, tpr6, threshold6 = metrics.roc_curve(valid_y, preds_neuralNet)\n",
    "fpr7, tpr7, threshold7 = metrics.roc_curve(valid_y, preds_neuralNet2)\n",
    "fpr8, tpr8, threshold8 = metrics.roc_curve(valid_y, preds_LDA)\n",
    "\n",
    "\n",
    "logit_reg_roc_auc = metrics.auc(fpr1, tpr1)\n",
    "dTree_roc_auc = metrics.auc(fpr2, tpr2)\n",
    "bagging_roc_auc = metrics.auc(fpr3, tpr3)\n",
    "adaboost_roc_auc = metrics.auc(fpr4, tpr4)\n",
    "rf_roc_auc = metrics.auc(fpr5, tpr5)\n",
    "neuralNet_roc_auc = metrics.auc(fpr6, tpr6)\n",
    "neuralNet2_roc_auc = metrics.auc(fpr7, tpr7)\n",
    "LDA_roc_auc = metrics.auc(fpr8, tpr8)\n",
    "\n",
    "plt.figure()\n",
    "figure(figsize=(10, 8), dpi=80)\n",
    "plt.plot([0, 1], [0, 1],'r--')\n",
    "\n",
    "\n",
    "plt.plot(fpr1, tpr1, label='Logistic Regression (area = %0.2f)' % logit_reg_roc_auc)\n",
    "plt.plot(fpr2, tpr2, label = 'Decision Tree (area = %0.2f)' % dTree_roc_auc)\n",
    "plt.plot(fpr3, tpr3, label = 'Bagging (area = %0.2f)' % bagging_roc_auc)\n",
    "plt.plot(fpr4, tpr4, label = 'Boosting (area = %0.2f)' % adaboost_roc_auc)\n",
    "plt.plot(fpr5, tpr5, label = 'Random Forest (area = %0.2f)' % rf_roc_auc)\n",
    "plt.plot(fpr6, tpr6, label = 'Neural Network Option 1 (area = %0.2f)' % neuralNet_roc_auc)\n",
    "plt.plot(fpr7, tpr7, label = 'Neural Network Option 2 (area = %0.2f)' % neuralNet2_roc_auc)\n",
    "plt.plot(fpr8, tpr8, label = 'Linear Discriminant Analysis (area = %0.2f)' % LDA_roc_auc)\n",
    "\n",
    "\n",
    "plt.xlim([0.0, 1.0])\n",
    "plt.ylim([0.0, 1.05])\n",
    "plt.xlabel('False Positive Rate')\n",
    "plt.ylabel('True Positive Rate')\n",
    "plt.title('Receiver Operating Characteristic')\n",
    "plt.legend(loc=\"lower right\")\n",
    "plt.savefig('Log_ROC')\n",
    "plt.show()"
   ]
  },
  {
   "cell_type": "markdown",
   "id": "affected-stuff",
   "metadata": {},
   "source": [
    "## Next Steps: Drop Variables, Balance Dataset, Re-Run Models"
   ]
  },
  {
   "cell_type": "markdown",
   "id": "described-mainstream",
   "metadata": {},
   "source": [
    "### Data Pre-Processing"
   ]
  },
  {
   "cell_type": "markdown",
   "id": "liberal-moscow",
   "metadata": {},
   "source": [
    "Input Stepwise Regressions to determine what to drop."
   ]
  },
  {
   "cell_type": "code",
   "execution_count": 43,
   "id": "fitted-chester",
   "metadata": {},
   "outputs": [
    {
     "name": "stdout",
     "output_type": "stream",
     "text": [
      "regularization [21.5443469]\n",
      "intercept  -2.7175250327687177\n",
      "                      coeff  abs_coeff\n",
      "pdays              1.573255   1.573255\n",
      "poutcome           1.450106   1.450106\n",
      "duration           1.101764   1.101764\n",
      "contact           -0.458323   0.458323\n",
      "loan              -0.289908   0.289908\n",
      "housing           -0.193215   0.193215\n",
      "previous           0.159625   0.159625\n",
      "education          0.143702   0.143702\n",
      "marital_single     0.117746   0.117746\n",
      "marital_married   -0.113558   0.113558\n",
      "job_Unemployed     0.110391   0.110391\n",
      "age                0.107551   0.107551\n",
      "job_Self-employed -0.106616   0.106616\n",
      "day                0.087905   0.087905\n",
      "balance            0.085452   0.085452\n",
      "month             -0.050273   0.050273\n",
      "default            0.043150   0.043150\n",
      "job_Employed      -0.041047   0.041047\n",
      "campaign          -0.030727   0.030727\n",
      "marital_divorced   0.011444   0.011444\n"
     ]
    }
   ],
   "source": [
    "# For Logistic Regression\n",
    "\n",
    "print('regularization', logit_reg.C_)\n",
    "print('intercept ', logit_reg.intercept_[0])\n",
    "lr = pd.DataFrame({\n",
    "    'coeff': logit_reg.coef_[0],\n",
    "    'abs_coeff': np.abs(logit_reg.coef_[0])\n",
    "}, index = predictors)\n",
    "print(lr.sort_values(by=['abs_coeff'], ascending = False))"
   ]
  },
  {
   "cell_type": "code",
   "execution_count": 45,
   "id": "organic-mozambique",
   "metadata": {},
   "outputs": [],
   "source": [
    "train_X1 = train[predictors]\n",
    "train_y1 = train[outcome]\n",
    "valid_X1 = valid[predictors]\n",
    "valid_y1 = valid[outcome]"
   ]
  },
  {
   "cell_type": "code",
   "execution_count": 46,
   "id": "linear-search",
   "metadata": {},
   "outputs": [
    {
     "name": "stdout",
     "output_type": "stream",
     "text": [
      "Variables: age, education, default, balance, housing, loan, contact, day, month, duration, campaign, pdays, previous, poutcome, job_Employed, job_Self-employed, job_Unemployed, marital_divorced, marital_married, marital_single\n",
      "Start: score=0.00, constant\n",
      "Step: score=-0.89, add age\n",
      "Step: score=-0.89, unchanged None\n",
      "['age']\n"
     ]
    }
   ],
   "source": [
    "def train_model(variables): \n",
    "    if len(variables) == 0:\n",
    "        return None\n",
    "    lr = LogisticRegressionCV(penalty=\"l2\", solver='lbfgs', cv = 5, max_iter = 5000)\n",
    "    return lr.fit(train_X1[variables], train_y)\n",
    "\n",
    "def score_model(lr, variables):\n",
    "    if len(variables) == 0:\n",
    "        return 0\n",
    "    lr_valid = lr.predict(valid_X1[variables])\n",
    "    return -accuracy_score(valid_y1, [1 if p > 0.5 else 0 for p in lr_valid])\n",
    "\n",
    "lr_model, best_variables = stepwise_selection(predictors, train_model, score_model, direction = 'forward', verbose = True)\n",
    "\n",
    "print(best_variables)\n",
    "linear_predictors = best_variables"
   ]
  },
  {
   "cell_type": "code",
   "execution_count": 51,
   "id": "overhead-cutting",
   "metadata": {},
   "outputs": [],
   "source": [
    "trainD = train.loc[train.deposit == 1]\n",
    "validD = valid.loc[valid.deposit == 1]\n",
    "testD = test.loc[test.deposit == 1]\n",
    "\n",
    "outcome = 'deposit'\n",
    "\n",
    "train_X2 = trainD[predictors]\n",
    "train_y2 = trainD[outcome]\n",
    "valid_X2 = validD[predictors]\n",
    "valid_y2 = validD[outcome]"
   ]
  },
  {
   "cell_type": "code",
   "execution_count": 59,
   "id": "cutting-biodiversity",
   "metadata": {},
   "outputs": [
    {
     "name": "stdout",
     "output_type": "stream",
     "text": [
      "Variables: age, education, default, balance, housing, loan, contact, day, month, duration, campaign, pdays, previous, poutcome, job_Employed, job_Self-employed, job_Unemployed, marital_divorced, marital_married, marital_single\n",
      "Start: score=0.10, constant\n",
      "Step: score=0.09, add duration\n",
      "Step: score=0.08, add pdays\n",
      "Step: score=0.08, add poutcome\n",
      "Step: score=0.08, add contact\n",
      "Step: score=0.08, add job_Unemployed\n",
      "Step: score=0.08, add marital_single\n",
      "Step: score=0.08, add loan\n",
      "Step: score=0.08, add housing\n",
      "Step: score=0.07, add previous\n",
      "Step: score=0.07, add age\n",
      "Step: score=0.07, add education\n",
      "Step: score=0.07, add day\n",
      "Step: score=0.07, add balance\n",
      "Step: score=0.07, add job_Employed\n",
      "Step: score=0.07, add marital_divorced\n",
      "Step: score=0.07, add default\n",
      "Step: score=0.07, add campaign\n",
      "Step: score=0.07, add month\n",
      "Step: score=0.07, add job_Self-employed\n",
      "Step: score=0.07, add marital_married\n",
      "Step: score=0.07, unchanged None\n",
      "['duration', 'pdays', 'poutcome', 'contact', 'job_Unemployed', 'marital_single', 'loan', 'housing', 'previous', 'age', 'education', 'day', 'balance', 'job_Employed', 'marital_divorced', 'default', 'campaign', 'month', 'job_Self-employed', 'marital_married']\n"
     ]
    }
   ],
   "source": [
    "def train_model(variables): \n",
    "    if len(variables) == 0:\n",
    "        return None\n",
    "    model = LinearRegression()\n",
    "    return model.fit(train_X1[variables], train_y1)\n",
    "\n",
    "def score_model(model, variables):\n",
    "    if len(variables) == 0:\n",
    "        return mean_squared_error(train_y1, [train_y1.mean()] * len(train_y1), model)\n",
    "    return mean_squared_error(train_y1, model.predict(train_X1[variables]))\n",
    "\n",
    "model, best_variables = stepwise_selection(predictors, train_model, score_model, direction = 'forward', verbose = True)\n",
    "\n",
    "print(best_variables)\n",
    "model_predictors = best_variables"
   ]
  },
  {
   "cell_type": "code",
   "execution_count": 47,
   "id": "considered-target",
   "metadata": {},
   "outputs": [
    {
     "name": "stdout",
     "output_type": "stream",
     "text": [
      "Variables: age, education, default, balance, housing, loan, contact, day, month, duration, campaign, pdays, previous, poutcome, job_Employed, job_Self-employed, job_Unemployed, marital_divorced, marital_married, marital_single\n",
      "Start: score=0.00, constant\n",
      "Step: score=-0.89, add poutcome\n",
      "Step: score=-0.89, add balance\n",
      "Step: score=-0.89, unchanged None\n",
      "['poutcome', 'balance']\n"
     ]
    }
   ],
   "source": [
    "def train_model(variables): \n",
    "    if len(variables) == 0:\n",
    "        return None\n",
    "    dt = DecisionTreeClassifier(criterion = 'gini', min_samples_split = 30, max_leaf_nodes = 10)\n",
    "    return dt.fit(train_X1[variables], train_y)\n",
    "\n",
    "def score_model(dt, variables):\n",
    "    if len(variables) == 0:\n",
    "        return 0\n",
    "    dt_valid = dt.predict(valid_X1[variables])\n",
    "    return -accuracy_score(valid_y1, [1 if p > 0.5 else 0 for p in dt_valid])\n",
    "\n",
    "dt_model, best_variables = stepwise_selection(predictors, train_model, score_model, direction = 'forward', verbose = True)\n",
    "\n",
    "print(best_variables)\n",
    "dt_predictors = best_variables"
   ]
  },
  {
   "cell_type": "code",
   "execution_count": 48,
   "id": "parallel-framing",
   "metadata": {
    "scrolled": true
   },
   "outputs": [
    {
     "name": "stdout",
     "output_type": "stream",
     "text": [
      "Variables: age, education, default, balance, housing, loan, contact, day, month, duration, campaign, pdays, previous, poutcome, job_Employed, job_Self-employed, job_Unemployed, marital_divorced, marital_married, marital_single\n",
      "Start: score=0.00, constant\n",
      "Step: score=-0.89, add poutcome\n",
      "Step: score=-0.89, unchanged None\n",
      "['poutcome']\n"
     ]
    }
   ],
   "source": [
    "def train_model(variables): \n",
    "    if len(variables) == 0:\n",
    "        return None\n",
    "    bg = BaggingClassifier(dTree, max_samples = 0.5, max_features = 0.5)\n",
    "    return bg.fit(train_X1[variables], train_y)\n",
    "\n",
    "def score_model(bg, variables):\n",
    "    if len(variables) == 0:\n",
    "        return 0\n",
    "    bg_valid = bg.predict(valid_X1[variables])\n",
    "    return -accuracy_score(valid_y1, [1 if p > 0.5 else 0 for p in bg_valid])\n",
    "\n",
    "bg_model, best_variables = stepwise_selection(predictors, train_model, score_model, direction = 'forward', verbose = True)\n",
    "\n",
    "print(best_variables)\n",
    "bg_predictors = best_variables"
   ]
  },
  {
   "cell_type": "code",
   "execution_count": 49,
   "id": "governing-grain",
   "metadata": {},
   "outputs": [
    {
     "name": "stdout",
     "output_type": "stream",
     "text": [
      "Variables: age, education, default, balance, housing, loan, contact, day, month, duration, campaign, pdays, previous, poutcome, job_Employed, job_Self-employed, job_Unemployed, marital_divorced, marital_married, marital_single\n",
      "Start: score=0.00, constant\n",
      "Step: score=-0.89, add poutcome\n",
      "Step: score=-0.89, add education\n",
      "Step: score=-0.89, unchanged None\n",
      "['poutcome', 'education']\n"
     ]
    }
   ],
   "source": [
    "def train_model(variables): \n",
    "    if len(variables) == 0:\n",
    "        return None\n",
    "    bo = AdaBoostClassifier(n_estimators = 100, base_estimator = dTree)\n",
    "    return bo.fit(train_X1[variables], train_y)\n",
    "\n",
    "def score_model(bo, variables):\n",
    "    if len(variables) == 0:\n",
    "        return 0\n",
    "    bo_valid = bo.predict(valid_X1[variables])\n",
    "    return -accuracy_score(valid_y1, [1 if p > 0.5 else 0 for p in bo_valid])\n",
    "\n",
    "bo_model, best_variables = stepwise_selection(predictors, train_model, score_model, direction = 'forward', verbose = True)\n",
    "\n",
    "print(best_variables)\n",
    "bo_predictors = best_variables"
   ]
  },
  {
   "cell_type": "code",
   "execution_count": 50,
   "id": "worldwide-instruction",
   "metadata": {},
   "outputs": [
    {
     "name": "stdout",
     "output_type": "stream",
     "text": [
      "Variables: age, education, default, balance, housing, loan, contact, day, month, duration, campaign, pdays, previous, poutcome, job_Employed, job_Self-employed, job_Unemployed, marital_divorced, marital_married, marital_single\n",
      "Start: score=0.00, constant\n",
      "Step: score=-0.89, add poutcome\n",
      "Step: score=-0.89, unchanged None\n",
      "['poutcome']\n"
     ]
    }
   ],
   "source": [
    "def train_model(variables): \n",
    "    if len(variables) == 0:\n",
    "        return None\n",
    "    rfc = RandomForestClassifier(n_estimators = 100, random_state = 1)\n",
    "    return rfc.fit(train_X1[variables], train_y)\n",
    "\n",
    "def score_model(rfc, variables):\n",
    "    if len(variables) == 0:\n",
    "        return 0\n",
    "    rfc_valid = rfc.predict(valid_X1[variables])\n",
    "    return -accuracy_score(valid_y1, [1 if p > 0.5 else 0 for p in rfc_valid])\n",
    "\n",
    "rfc_model, best_variables = stepwise_selection(predictors, train_model, score_model, direction = 'forward', verbose = True)\n",
    "\n",
    "print(best_variables)\n",
    "rfc_predictors = best_variables"
   ]
  },
  {
   "cell_type": "markdown",
   "id": "ordinary-morrison",
   "metadata": {},
   "source": [
    "### Drop Variables"
   ]
  },
  {
   "cell_type": "markdown",
   "id": "pretty-science",
   "metadata": {},
   "source": [
    "### Balance Dataset"
   ]
  },
  {
   "cell_type": "code",
   "execution_count": 60,
   "id": "bizarre-studio",
   "metadata": {},
   "outputs": [
    {
     "data": {
      "text/plain": [
       "0    4000\n",
       "1     521\n",
       "Name: deposit, dtype: int64"
      ]
     },
     "execution_count": 60,
     "metadata": {},
     "output_type": "execute_result"
    }
   ],
   "source": [
    "bank['deposit'].value_counts()"
   ]
  },
  {
   "cell_type": "code",
   "execution_count": 61,
   "id": "weighted-manchester",
   "metadata": {},
   "outputs": [
    {
     "data": {
      "text/plain": [
       "0    1500\n",
       "1     200\n",
       "Name: deposit, dtype: int64"
      ]
     },
     "execution_count": 61,
     "metadata": {},
     "output_type": "execute_result"
    }
   ],
   "source": [
    "train.deposit.value_counts()"
   ]
  },
  {
   "cell_type": "code",
   "execution_count": 62,
   "id": "valid-parcel",
   "metadata": {},
   "outputs": [],
   "source": [
    "to_resample = train.loc[train['deposit'] == 1]"
   ]
  },
  {
   "cell_type": "code",
   "execution_count": 63,
   "id": "fossil-ghost",
   "metadata": {},
   "outputs": [],
   "source": [
    "# Rebalanced from 11% to 30%\n",
    "\n",
    "our_resample = to_resample.sample(n = 442, replace = True)"
   ]
  },
  {
   "cell_type": "code",
   "execution_count": 64,
   "id": "controversial-ticket",
   "metadata": {},
   "outputs": [
    {
     "data": {
      "text/plain": [
       "0    1500\n",
       "1     642\n",
       "Name: deposit, dtype: int64"
      ]
     },
     "execution_count": 64,
     "metadata": {},
     "output_type": "execute_result"
    }
   ],
   "source": [
    "train_rebal = pd.concat([train, our_resample])\n",
    "\n",
    "train_rebal['deposit'].value_counts()"
   ]
  },
  {
   "cell_type": "code",
   "execution_count": 65,
   "id": "friendly-green",
   "metadata": {},
   "outputs": [
    {
     "name": "stdout",
     "output_type": "stream",
     "text": [
      "Logistic regression - training results\n",
      "Confusion Matrix (Accuracy 0.8206)\n",
      "\n",
      "       Prediction\n",
      "Actual    0    1\n",
      "     0 1321  179\n",
      "     1  126   74\n",
      "Logistic regression - validation results\n",
      "Confusion Matrix (Accuracy 0.8112)\n",
      "\n",
      "       Prediction\n",
      "Actual    0    1\n",
      "     0 1153  164\n",
      "     1  117   54\n"
     ]
    }
   ],
   "source": [
    "train_XR = train_rebal[predictors]\n",
    "train_yR = train_rebal[outcome]\n",
    "\n",
    "\n",
    "\n",
    "logit_reg_rebal = LogisticRegressionCV(penalty=\"l2\", solver='lbfgs', cv = 5, max_iter = 5000)\n",
    "logit_reg_rebal.fit(train_XR, train_yR)\n",
    "confusionMatrices(logit_reg_rebal, 'Logistic regression')"
   ]
  },
  {
   "cell_type": "code",
   "execution_count": 69,
   "id": "comparative-range",
   "metadata": {},
   "outputs": [
    {
     "name": "stdout",
     "output_type": "stream",
     "text": [
      "Random Forest Classifier - training results\n",
      "Confusion Matrix (Accuracy 0.8824)\n",
      "\n",
      "       Prediction\n",
      "Actual    0    1\n",
      "     0 1500    0\n",
      "     1  200    0\n",
      "Random Forest Classifier - validation results\n",
      "Confusion Matrix (Accuracy 0.8851)\n",
      "\n",
      "       Prediction\n",
      "Actual    0    1\n",
      "     0 1317    0\n",
      "     1  171    0\n"
     ]
    }
   ],
   "source": [
    "rf_rebal = RandomForestClassifier(n_estimators = 100, random_state = 1)\n",
    "rf_rebal.fit(train_XR, train_yR)\n",
    "confusionMatrices(rf_rebal, 'Random Forest Classifier')"
   ]
  },
  {
   "cell_type": "code",
   "execution_count": 70,
   "id": "lesbian-radio",
   "metadata": {},
   "outputs": [
    {
     "name": "stdout",
     "output_type": "stream",
     "text": [
      "Neural Network - training results\n",
      "Confusion Matrix (Accuracy 0.8724)\n",
      "\n",
      "       Prediction\n",
      "Actual    0    1\n",
      "     0 1460   40\n",
      "     1  177   23\n",
      "Neural Network - validation results\n",
      "Confusion Matrix (Accuracy 0.8844)\n",
      "\n",
      "       Prediction\n",
      "Actual    0    1\n",
      "     0 1293   24\n",
      "     1  148   23\n"
     ]
    }
   ],
   "source": [
    "param_grid = {\n",
    "    'hidden_layer_sizes': list(range(2, 10)),\n",
    "}\n",
    "neuralNet_rebal = MLPClassifier(activation = 'logistic', solver = 'lbfgs', random_state = 1, max_iter = 5000)\n",
    "\n",
    "gridSearch_rebal = GridSearchCV(neuralNet_rebal, param_grid, cv = 5, n_jobs = -1)\n",
    "gridSearch_rebal.fit(train_XR, train_yR)\n",
    "neuralNet_rebal = gridSearch_rebal.best_estimator_\n",
    "\n",
    "confusionMatrices(gridSearch_rebal, 'Neural Network')"
   ]
  },
  {
   "cell_type": "code",
   "execution_count": 71,
   "id": "graphic-reputation",
   "metadata": {},
   "outputs": [
    {
     "name": "stdout",
     "output_type": "stream",
     "text": [
      "Accuracy score for Rebalanced Logistic Regression is: 0.825\n",
      "Accuracy score for Rebalanced Neural Network is: 0.828\n"
     ]
    }
   ],
   "source": [
    "def accuracy(model_rebal):\n",
    "    \n",
    "    accuracy_train_rebal = accuracy_score(train_yR, model_rebal.predict(train_XR))\n",
    "    \n",
    "    return round(accuracy_train_rebal,3)\n",
    "\n",
    "print('Accuracy score for Rebalanced Logistic Regression is:', accuracy(logit_reg_rebal))\n",
    "print('Accuracy score for Rebalanced Neural Network is:', accuracy(gridSearch_rebal))"
   ]
  },
  {
   "cell_type": "code",
   "execution_count": 72,
   "id": "dressed-douglas",
   "metadata": {},
   "outputs": [
    {
     "name": "stdout",
     "output_type": "stream",
     "text": [
      "F1 score for Rebalanced Logistic Regression is: 0.82\n",
      "F1 score for Rebalanced Neural Network is: 0.83\n"
     ]
    }
   ],
   "source": [
    "def f1(model_rebal):\n",
    "    \n",
    "    f1_train_rebal = f1_score(train_yR, model_rebal.predict(train_XR), average = 'weighted')\n",
    "    \n",
    "    return round(f1_train_rebal,2)\n",
    "\n",
    "print('F1 score for Rebalanced Logistic Regression is:', f1(logit_reg_rebal))\n",
    "print('F1 score for Rebalanced Neural Network is:', f1(gridSearch_rebal))"
   ]
  },
  {
   "cell_type": "code",
   "execution_count": 74,
   "id": "irish-policy",
   "metadata": {},
   "outputs": [
    {
     "name": "stdout",
     "output_type": "stream",
     "text": [
      "Variables: age, education, default, balance, housing, loan, contact, day, month, duration, campaign, pdays, previous, poutcome, job_Employed, job_Self-employed, job_Unemployed, marital_divorced, marital_married, marital_single\n",
      "Start: score=0.00, constant\n",
      "Step: score=-0.89, add education\n",
      "Step: score=-0.89, unchanged None\n",
      "['education']\n"
     ]
    }
   ],
   "source": [
    "def train_model(variables): \n",
    "    if len(variables) == 0:\n",
    "        return None\n",
    "    logit_reg_rebal = LogisticRegressionCV(penalty=\"l2\", solver='lbfgs', cv = 5, max_iter = 5000)\n",
    "    return logit_reg_rebal.fit(train_XR[variables], train_yR)\n",
    "\n",
    "def score_model(lr, variables):\n",
    "    if len(variables) == 0:\n",
    "        return 0\n",
    "    lr_valid = lr.predict(valid_X1[variables])\n",
    "    return -accuracy_score(valid_y1, [1 if p > 0.5 else 0 for p in lr_valid])\n",
    "\n",
    "logit_reg_rebal_model, best_variables = stepwise_selection(predictors, train_model, score_model, direction = 'forward', verbose = True)\n",
    "\n",
    "print(best_variables)\n",
    "logit_reg_rebal_predictors = best_variables"
   ]
  },
  {
   "cell_type": "code",
   "execution_count": null,
   "id": "facial-fundamental",
   "metadata": {},
   "outputs": [],
   "source": []
  }
 ],
 "metadata": {
  "kernelspec": {
   "display_name": "Python 3",
   "language": "python",
   "name": "python3"
  },
  "language_info": {
   "codemirror_mode": {
    "name": "ipython",
    "version": 3
   },
   "file_extension": ".py",
   "mimetype": "text/x-python",
   "name": "python",
   "nbconvert_exporter": "python",
   "pygments_lexer": "ipython3",
   "version": "3.9.2"
  }
 },
 "nbformat": 4,
 "nbformat_minor": 5
}
