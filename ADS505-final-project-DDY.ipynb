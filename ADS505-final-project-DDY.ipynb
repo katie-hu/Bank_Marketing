{
 "cells": [
  {
   "cell_type": "markdown",
   "id": "96afb93c",
   "metadata": {},
   "source": [
    "# USD-ADS 505 TEAM 4 Term Deposit Project\n",
    "\n",
    "    Katie Hu, Juliet Sieland-Harris, Dingyi Duan"
   ]
  },
  {
   "cell_type": "markdown",
   "id": "e0f3e392",
   "metadata": {},
   "source": [
    "## Import Libraries and Data Set"
   ]
  },
  {
   "cell_type": "code",
   "execution_count": 1,
   "id": "0d4d513c",
   "metadata": {},
   "outputs": [],
   "source": [
    "\n",
    "#Import Libraries\n",
    "\n",
    "import pandas as pd\n",
    "import math\n",
    "import matplotlib.pylab as plt\n",
    "import numpy as np\n",
    "import statsmodels.api as sm\n",
    "\n",
    "from sklearn import preprocessing\n",
    "from sklearn.preprocessing import StandardScaler\n",
    "from sklearn.model_selection import train_test_split, GridSearchCV\n",
    "\n",
    "import warnings\n",
    "warnings.filterwarnings('ignore')\n",
    "\n",
    "import random\n",
    "random.seed(1)"
   ]
  },
  {
   "cell_type": "code",
   "execution_count": 2,
   "id": "f46521c9",
   "metadata": {},
   "outputs": [
    {
     "data": {
      "text/html": [
       "<div>\n",
       "<style scoped>\n",
       "    .dataframe tbody tr th:only-of-type {\n",
       "        vertical-align: middle;\n",
       "    }\n",
       "\n",
       "    .dataframe tbody tr th {\n",
       "        vertical-align: top;\n",
       "    }\n",
       "\n",
       "    .dataframe thead th {\n",
       "        text-align: right;\n",
       "    }\n",
       "</style>\n",
       "<table border=\"1\" class=\"dataframe\">\n",
       "  <thead>\n",
       "    <tr style=\"text-align: right;\">\n",
       "      <th></th>\n",
       "      <th>age</th>\n",
       "      <th>job</th>\n",
       "      <th>marital</th>\n",
       "      <th>education</th>\n",
       "      <th>default</th>\n",
       "      <th>balance</th>\n",
       "      <th>housing</th>\n",
       "      <th>loan</th>\n",
       "      <th>contact</th>\n",
       "      <th>day</th>\n",
       "      <th>month</th>\n",
       "      <th>duration</th>\n",
       "      <th>campaign</th>\n",
       "      <th>pdays</th>\n",
       "      <th>previous</th>\n",
       "      <th>poutcome</th>\n",
       "      <th>y</th>\n",
       "    </tr>\n",
       "  </thead>\n",
       "  <tbody>\n",
       "    <tr>\n",
       "      <th>0</th>\n",
       "      <td>30</td>\n",
       "      <td>unemployed</td>\n",
       "      <td>married</td>\n",
       "      <td>primary</td>\n",
       "      <td>no</td>\n",
       "      <td>1787</td>\n",
       "      <td>no</td>\n",
       "      <td>no</td>\n",
       "      <td>cellular</td>\n",
       "      <td>19</td>\n",
       "      <td>oct</td>\n",
       "      <td>79</td>\n",
       "      <td>1</td>\n",
       "      <td>-1</td>\n",
       "      <td>0</td>\n",
       "      <td>unknown</td>\n",
       "      <td>no</td>\n",
       "    </tr>\n",
       "    <tr>\n",
       "      <th>1</th>\n",
       "      <td>33</td>\n",
       "      <td>services</td>\n",
       "      <td>married</td>\n",
       "      <td>secondary</td>\n",
       "      <td>no</td>\n",
       "      <td>4789</td>\n",
       "      <td>yes</td>\n",
       "      <td>yes</td>\n",
       "      <td>cellular</td>\n",
       "      <td>11</td>\n",
       "      <td>may</td>\n",
       "      <td>220</td>\n",
       "      <td>1</td>\n",
       "      <td>339</td>\n",
       "      <td>4</td>\n",
       "      <td>failure</td>\n",
       "      <td>no</td>\n",
       "    </tr>\n",
       "    <tr>\n",
       "      <th>2</th>\n",
       "      <td>35</td>\n",
       "      <td>management</td>\n",
       "      <td>single</td>\n",
       "      <td>tertiary</td>\n",
       "      <td>no</td>\n",
       "      <td>1350</td>\n",
       "      <td>yes</td>\n",
       "      <td>no</td>\n",
       "      <td>cellular</td>\n",
       "      <td>16</td>\n",
       "      <td>apr</td>\n",
       "      <td>185</td>\n",
       "      <td>1</td>\n",
       "      <td>330</td>\n",
       "      <td>1</td>\n",
       "      <td>failure</td>\n",
       "      <td>no</td>\n",
       "    </tr>\n",
       "    <tr>\n",
       "      <th>3</th>\n",
       "      <td>30</td>\n",
       "      <td>management</td>\n",
       "      <td>married</td>\n",
       "      <td>tertiary</td>\n",
       "      <td>no</td>\n",
       "      <td>1476</td>\n",
       "      <td>yes</td>\n",
       "      <td>yes</td>\n",
       "      <td>unknown</td>\n",
       "      <td>3</td>\n",
       "      <td>jun</td>\n",
       "      <td>199</td>\n",
       "      <td>4</td>\n",
       "      <td>-1</td>\n",
       "      <td>0</td>\n",
       "      <td>unknown</td>\n",
       "      <td>no</td>\n",
       "    </tr>\n",
       "    <tr>\n",
       "      <th>4</th>\n",
       "      <td>59</td>\n",
       "      <td>blue-collar</td>\n",
       "      <td>married</td>\n",
       "      <td>secondary</td>\n",
       "      <td>no</td>\n",
       "      <td>0</td>\n",
       "      <td>yes</td>\n",
       "      <td>no</td>\n",
       "      <td>unknown</td>\n",
       "      <td>5</td>\n",
       "      <td>may</td>\n",
       "      <td>226</td>\n",
       "      <td>1</td>\n",
       "      <td>-1</td>\n",
       "      <td>0</td>\n",
       "      <td>unknown</td>\n",
       "      <td>no</td>\n",
       "    </tr>\n",
       "  </tbody>\n",
       "</table>\n",
       "</div>"
      ],
      "text/plain": [
       "   age          job  marital  education default  balance housing loan  \\\n",
       "0   30   unemployed  married    primary      no     1787      no   no   \n",
       "1   33     services  married  secondary      no     4789     yes  yes   \n",
       "2   35   management   single   tertiary      no     1350     yes   no   \n",
       "3   30   management  married   tertiary      no     1476     yes  yes   \n",
       "4   59  blue-collar  married  secondary      no        0     yes   no   \n",
       "\n",
       "    contact  day month  duration  campaign  pdays  previous poutcome   y  \n",
       "0  cellular   19   oct        79         1     -1         0  unknown  no  \n",
       "1  cellular   11   may       220         1    339         4  failure  no  \n",
       "2  cellular   16   apr       185         1    330         1  failure  no  \n",
       "3   unknown    3   jun       199         4     -1         0  unknown  no  \n",
       "4   unknown    5   may       226         1     -1         0  unknown  no  "
      ]
     },
     "execution_count": 2,
     "metadata": {},
     "output_type": "execute_result"
    }
   ],
   "source": [
    "#Import Data Set\n",
    "\n",
    "bank = pd.read_csv('D:/USD-ADS_graduate/ADS-505/ADS505 Final Project/Dataset/bank.csv', sep=';')\n",
    "bank.head()"
   ]
  },
  {
   "cell_type": "markdown",
   "id": "644015cc",
   "metadata": {},
   "source": [
    "       1 - age (numeric)\n",
    "       2 - job : type of job (categorical: \"admin.\",\"unknown\",\"unemployed\",\"management\",\"housemaid\",\"entrepreneur\",\"student\", \"blue-collar\",\"self-employed\",\"retired\",\"technician\",\"services\") \n",
    "       3 - marital : marital status (categorical: \"married\",\"divorced\",\"single\"; note: \"divorced\" means divorced or widowed)\n",
    "       4 - education (categorical: \"unknown\",\"secondary\",\"primary\",\"tertiary\")\n",
    "       5 - default: has credit in default? (binary: \"yes\",\"no\")\n",
    "       6 - balance: average yearly balance, in euros (numeric) \n",
    "       7 - housing: has housing loan? (binary: \"yes\",\"no\")\n",
    "       8 - loan: has personal loan? (binary: \"yes\",\"no\")\n",
    "       9 - contact: contact communication type (categorical: \"unknown\",\"telephone\",\"cellular\") \n",
    "      10 - day: last contact day of the month (numeric)\n",
    "      11 - month: last contact month of year (categorical: \"jan\", \"feb\", \"mar\", ..., \"nov\", \"dec\")\n",
    "      12 - duration: last contact duration, in seconds (numeric)\n",
    "      13 - campaign: number of contacts performed during this campaign and for this client (numeric, includes last contact)\n",
    "      14 - pdays: number of days that passed by after the client was last contacted from a previous campaign (numeric, -1 means client was not previously contacted)\n",
    "      15 - previous: number of contacts performed before this campaign and for this client (numeric)\n",
    "      16 - poutcome: outcome of the previous marketing campaign (categorical: \"unknown\",\"other\",\"failure\",\"success\")\n",
    "\n",
    "      Output variable (desired target):\n",
    "      17 - y - has the client subscribed a term deposit? (binary: \"yes\",\"no\")"
   ]
  },
  {
   "cell_type": "markdown",
   "id": "a85f4f34",
   "metadata": {},
   "source": [
    "## EDA"
   ]
  },
  {
   "cell_type": "code",
   "execution_count": 3,
   "id": "4f1ba050",
   "metadata": {},
   "outputs": [
    {
     "data": {
      "text/plain": [
       "(4521, 17)"
      ]
     },
     "execution_count": 3,
     "metadata": {},
     "output_type": "execute_result"
    }
   ],
   "source": [
    "#Find Number of Columns and Rows in Data Set\n",
    "\n",
    "bank.shape"
   ]
  },
  {
   "cell_type": "code",
   "execution_count": 4,
   "id": "006a7514",
   "metadata": {},
   "outputs": [
    {
     "data": {
      "text/plain": [
       "age           int64\n",
       "job          object\n",
       "marital      object\n",
       "education    object\n",
       "default      object\n",
       "balance       int64\n",
       "housing      object\n",
       "loan         object\n",
       "contact      object\n",
       "day           int64\n",
       "month        object\n",
       "duration      int64\n",
       "campaign      int64\n",
       "pdays         int64\n",
       "previous      int64\n",
       "poutcome     object\n",
       "y            object\n",
       "dtype: object"
      ]
     },
     "execution_count": 4,
     "metadata": {},
     "output_type": "execute_result"
    }
   ],
   "source": [
    "#Find Type of Variables\n",
    "\n",
    "bank.dtypes"
   ]
  },
  {
   "cell_type": "code",
   "execution_count": 5,
   "id": "dc8008bb",
   "metadata": {},
   "outputs": [
    {
     "data": {
      "text/html": [
       "<div>\n",
       "<style scoped>\n",
       "    .dataframe tbody tr th:only-of-type {\n",
       "        vertical-align: middle;\n",
       "    }\n",
       "\n",
       "    .dataframe tbody tr th {\n",
       "        vertical-align: top;\n",
       "    }\n",
       "\n",
       "    .dataframe thead th {\n",
       "        text-align: right;\n",
       "    }\n",
       "</style>\n",
       "<table border=\"1\" class=\"dataframe\">\n",
       "  <thead>\n",
       "    <tr style=\"text-align: right;\">\n",
       "      <th></th>\n",
       "      <th>age</th>\n",
       "      <th>balance</th>\n",
       "      <th>day</th>\n",
       "      <th>duration</th>\n",
       "      <th>campaign</th>\n",
       "      <th>pdays</th>\n",
       "      <th>previous</th>\n",
       "    </tr>\n",
       "  </thead>\n",
       "  <tbody>\n",
       "    <tr>\n",
       "      <th>count</th>\n",
       "      <td>4521.000000</td>\n",
       "      <td>4521.000000</td>\n",
       "      <td>4521.000000</td>\n",
       "      <td>4521.000000</td>\n",
       "      <td>4521.000000</td>\n",
       "      <td>4521.000000</td>\n",
       "      <td>4521.000000</td>\n",
       "    </tr>\n",
       "    <tr>\n",
       "      <th>mean</th>\n",
       "      <td>41.170095</td>\n",
       "      <td>1422.657819</td>\n",
       "      <td>15.915284</td>\n",
       "      <td>263.961292</td>\n",
       "      <td>2.793630</td>\n",
       "      <td>39.766645</td>\n",
       "      <td>0.542579</td>\n",
       "    </tr>\n",
       "    <tr>\n",
       "      <th>std</th>\n",
       "      <td>10.576211</td>\n",
       "      <td>3009.638142</td>\n",
       "      <td>8.247667</td>\n",
       "      <td>259.856633</td>\n",
       "      <td>3.109807</td>\n",
       "      <td>100.121124</td>\n",
       "      <td>1.693562</td>\n",
       "    </tr>\n",
       "    <tr>\n",
       "      <th>min</th>\n",
       "      <td>19.000000</td>\n",
       "      <td>-3313.000000</td>\n",
       "      <td>1.000000</td>\n",
       "      <td>4.000000</td>\n",
       "      <td>1.000000</td>\n",
       "      <td>-1.000000</td>\n",
       "      <td>0.000000</td>\n",
       "    </tr>\n",
       "    <tr>\n",
       "      <th>25%</th>\n",
       "      <td>33.000000</td>\n",
       "      <td>69.000000</td>\n",
       "      <td>9.000000</td>\n",
       "      <td>104.000000</td>\n",
       "      <td>1.000000</td>\n",
       "      <td>-1.000000</td>\n",
       "      <td>0.000000</td>\n",
       "    </tr>\n",
       "    <tr>\n",
       "      <th>50%</th>\n",
       "      <td>39.000000</td>\n",
       "      <td>444.000000</td>\n",
       "      <td>16.000000</td>\n",
       "      <td>185.000000</td>\n",
       "      <td>2.000000</td>\n",
       "      <td>-1.000000</td>\n",
       "      <td>0.000000</td>\n",
       "    </tr>\n",
       "    <tr>\n",
       "      <th>75%</th>\n",
       "      <td>49.000000</td>\n",
       "      <td>1480.000000</td>\n",
       "      <td>21.000000</td>\n",
       "      <td>329.000000</td>\n",
       "      <td>3.000000</td>\n",
       "      <td>-1.000000</td>\n",
       "      <td>0.000000</td>\n",
       "    </tr>\n",
       "    <tr>\n",
       "      <th>max</th>\n",
       "      <td>87.000000</td>\n",
       "      <td>71188.000000</td>\n",
       "      <td>31.000000</td>\n",
       "      <td>3025.000000</td>\n",
       "      <td>50.000000</td>\n",
       "      <td>871.000000</td>\n",
       "      <td>25.000000</td>\n",
       "    </tr>\n",
       "  </tbody>\n",
       "</table>\n",
       "</div>"
      ],
      "text/plain": [
       "               age       balance          day     duration     campaign  \\\n",
       "count  4521.000000   4521.000000  4521.000000  4521.000000  4521.000000   \n",
       "mean     41.170095   1422.657819    15.915284   263.961292     2.793630   \n",
       "std      10.576211   3009.638142     8.247667   259.856633     3.109807   \n",
       "min      19.000000  -3313.000000     1.000000     4.000000     1.000000   \n",
       "25%      33.000000     69.000000     9.000000   104.000000     1.000000   \n",
       "50%      39.000000    444.000000    16.000000   185.000000     2.000000   \n",
       "75%      49.000000   1480.000000    21.000000   329.000000     3.000000   \n",
       "max      87.000000  71188.000000    31.000000  3025.000000    50.000000   \n",
       "\n",
       "             pdays     previous  \n",
       "count  4521.000000  4521.000000  \n",
       "mean     39.766645     0.542579  \n",
       "std     100.121124     1.693562  \n",
       "min      -1.000000     0.000000  \n",
       "25%      -1.000000     0.000000  \n",
       "50%      -1.000000     0.000000  \n",
       "75%      -1.000000     0.000000  \n",
       "max     871.000000    25.000000  "
      ]
     },
     "execution_count": 5,
     "metadata": {},
     "output_type": "execute_result"
    }
   ],
   "source": [
    "#Descriptive Statistics\n",
    "\n",
    "bank.describe()"
   ]
  },
  {
   "cell_type": "code",
   "execution_count": 6,
   "id": "3f7115df",
   "metadata": {},
   "outputs": [
    {
     "data": {
      "text/plain": [
       "age          0\n",
       "job          0\n",
       "marital      0\n",
       "education    0\n",
       "default      0\n",
       "balance      0\n",
       "housing      0\n",
       "loan         0\n",
       "contact      0\n",
       "day          0\n",
       "month        0\n",
       "duration     0\n",
       "campaign     0\n",
       "pdays        0\n",
       "previous     0\n",
       "poutcome     0\n",
       "y            0\n",
       "dtype: int64"
      ]
     },
     "execution_count": 6,
     "metadata": {},
     "output_type": "execute_result"
    }
   ],
   "source": [
    "#Find any missing values\n",
    "\n",
    "bank.isna().sum()"
   ]
  },
  {
   "cell_type": "markdown",
   "id": "79a517b7",
   "metadata": {},
   "source": [
    "    No missing or null values, OK."
   ]
  },
  {
   "cell_type": "code",
   "execution_count": 7,
   "id": "7d660071",
   "metadata": {},
   "outputs": [
    {
     "name": "stdout",
     "output_type": "stream",
     "text": [
      "521\n",
      "11.523999115239992\n"
     ]
    }
   ],
   "source": [
    "# check positive response\n",
    "\n",
    "print((bank['y'] == 'yes').sum())\n",
    "\n",
    "# check for response rate\n",
    "\n",
    "print(100*(bank['y'] == 'yes').sum() / len(bank))"
   ]
  },
  {
   "cell_type": "markdown",
   "id": "71bb7b21",
   "metadata": {},
   "source": [
    "    Slightly imblanced dataset, but OK"
   ]
  },
  {
   "cell_type": "markdown",
   "id": "17d676af",
   "metadata": {},
   "source": [
    "## Preprocessing"
   ]
  },
  {
   "cell_type": "markdown",
   "id": "d1fc4a99",
   "metadata": {},
   "source": [
    "### Change binary variables to \"0\" and \"1\""
   ]
  },
  {
   "cell_type": "code",
   "execution_count": 8,
   "id": "e561f2fc",
   "metadata": {},
   "outputs": [
    {
     "name": "stdout",
     "output_type": "stream",
     "text": [
      "521\n"
     ]
    },
    {
     "data": {
      "text/html": [
       "<div>\n",
       "<style scoped>\n",
       "    .dataframe tbody tr th:only-of-type {\n",
       "        vertical-align: middle;\n",
       "    }\n",
       "\n",
       "    .dataframe tbody tr th {\n",
       "        vertical-align: top;\n",
       "    }\n",
       "\n",
       "    .dataframe thead th {\n",
       "        text-align: right;\n",
       "    }\n",
       "</style>\n",
       "<table border=\"1\" class=\"dataframe\">\n",
       "  <thead>\n",
       "    <tr style=\"text-align: right;\">\n",
       "      <th></th>\n",
       "      <th>age</th>\n",
       "      <th>job</th>\n",
       "      <th>marital</th>\n",
       "      <th>education</th>\n",
       "      <th>default</th>\n",
       "      <th>balance</th>\n",
       "      <th>housing</th>\n",
       "      <th>loan</th>\n",
       "      <th>contact</th>\n",
       "      <th>day</th>\n",
       "      <th>month</th>\n",
       "      <th>duration</th>\n",
       "      <th>campaign</th>\n",
       "      <th>pdays</th>\n",
       "      <th>previous</th>\n",
       "      <th>poutcome</th>\n",
       "      <th>y</th>\n",
       "    </tr>\n",
       "  </thead>\n",
       "  <tbody>\n",
       "    <tr>\n",
       "      <th>0</th>\n",
       "      <td>30</td>\n",
       "      <td>unemployed</td>\n",
       "      <td>married</td>\n",
       "      <td>primary</td>\n",
       "      <td>0</td>\n",
       "      <td>1787</td>\n",
       "      <td>0</td>\n",
       "      <td>0</td>\n",
       "      <td>cellular</td>\n",
       "      <td>19</td>\n",
       "      <td>oct</td>\n",
       "      <td>79</td>\n",
       "      <td>1</td>\n",
       "      <td>-1</td>\n",
       "      <td>0</td>\n",
       "      <td>unknown</td>\n",
       "      <td>0</td>\n",
       "    </tr>\n",
       "    <tr>\n",
       "      <th>1</th>\n",
       "      <td>33</td>\n",
       "      <td>services</td>\n",
       "      <td>married</td>\n",
       "      <td>secondary</td>\n",
       "      <td>0</td>\n",
       "      <td>4789</td>\n",
       "      <td>1</td>\n",
       "      <td>1</td>\n",
       "      <td>cellular</td>\n",
       "      <td>11</td>\n",
       "      <td>may</td>\n",
       "      <td>220</td>\n",
       "      <td>1</td>\n",
       "      <td>339</td>\n",
       "      <td>4</td>\n",
       "      <td>failure</td>\n",
       "      <td>0</td>\n",
       "    </tr>\n",
       "    <tr>\n",
       "      <th>2</th>\n",
       "      <td>35</td>\n",
       "      <td>management</td>\n",
       "      <td>single</td>\n",
       "      <td>tertiary</td>\n",
       "      <td>0</td>\n",
       "      <td>1350</td>\n",
       "      <td>1</td>\n",
       "      <td>0</td>\n",
       "      <td>cellular</td>\n",
       "      <td>16</td>\n",
       "      <td>apr</td>\n",
       "      <td>185</td>\n",
       "      <td>1</td>\n",
       "      <td>330</td>\n",
       "      <td>1</td>\n",
       "      <td>failure</td>\n",
       "      <td>0</td>\n",
       "    </tr>\n",
       "    <tr>\n",
       "      <th>3</th>\n",
       "      <td>30</td>\n",
       "      <td>management</td>\n",
       "      <td>married</td>\n",
       "      <td>tertiary</td>\n",
       "      <td>0</td>\n",
       "      <td>1476</td>\n",
       "      <td>1</td>\n",
       "      <td>1</td>\n",
       "      <td>unknown</td>\n",
       "      <td>3</td>\n",
       "      <td>jun</td>\n",
       "      <td>199</td>\n",
       "      <td>4</td>\n",
       "      <td>-1</td>\n",
       "      <td>0</td>\n",
       "      <td>unknown</td>\n",
       "      <td>0</td>\n",
       "    </tr>\n",
       "    <tr>\n",
       "      <th>4</th>\n",
       "      <td>59</td>\n",
       "      <td>blue-collar</td>\n",
       "      <td>married</td>\n",
       "      <td>secondary</td>\n",
       "      <td>0</td>\n",
       "      <td>0</td>\n",
       "      <td>1</td>\n",
       "      <td>0</td>\n",
       "      <td>unknown</td>\n",
       "      <td>5</td>\n",
       "      <td>may</td>\n",
       "      <td>226</td>\n",
       "      <td>1</td>\n",
       "      <td>-1</td>\n",
       "      <td>0</td>\n",
       "      <td>unknown</td>\n",
       "      <td>0</td>\n",
       "    </tr>\n",
       "  </tbody>\n",
       "</table>\n",
       "</div>"
      ],
      "text/plain": [
       "   age          job  marital  education  default  balance  housing  loan  \\\n",
       "0   30   unemployed  married    primary        0     1787        0     0   \n",
       "1   33     services  married  secondary        0     4789        1     1   \n",
       "2   35   management   single   tertiary        0     1350        1     0   \n",
       "3   30   management  married   tertiary        0     1476        1     1   \n",
       "4   59  blue-collar  married  secondary        0        0        1     0   \n",
       "\n",
       "    contact  day month  duration  campaign  pdays  previous poutcome  y  \n",
       "0  cellular   19   oct        79         1     -1         0  unknown  0  \n",
       "1  cellular   11   may       220         1    339         4  failure  0  \n",
       "2  cellular   16   apr       185         1    330         1  failure  0  \n",
       "3   unknown    3   jun       199         4     -1         0  unknown  0  \n",
       "4   unknown    5   may       226         1     -1         0  unknown  0  "
      ]
     },
     "execution_count": 8,
     "metadata": {},
     "output_type": "execute_result"
    }
   ],
   "source": [
    "# convert 'y' from 'yes' and 'no' to '1' and '0'\n",
    "bank['y'] = bank['y'].map(dict(yes=1, no=0))\n",
    "\n",
    "# convert 'default' from 'yes' and 'no' to '1' and '0'\n",
    "bank['default'] = bank['default'].map(dict(yes=1, no=0))\n",
    "\n",
    "# convert 'housing' from 'yes' and 'no' to '1' and '0'\n",
    "bank['housing'] = bank['housing'].map(dict(yes=1, no=0))\n",
    "\n",
    "# convert 'load' from 'yes' and 'no' to '1' and '0'\n",
    "bank['loan'] = bank['loan'].map(dict(yes=1, no=0))\n",
    "\n",
    "# check for the positive response\n",
    "print(bank['y'].tolist().count(1))\n",
    "\n",
    "bank.head()"
   ]
  },
  {
   "cell_type": "markdown",
   "id": "71ce1d34",
   "metadata": {},
   "source": [
    "### Normalized Bar Charts for the categorical variables"
   ]
  },
  {
   "cell_type": "code",
   "execution_count": 9,
   "id": "686debd0",
   "metadata": {},
   "outputs": [
    {
     "data": {
      "text/plain": [
       "<AxesSubplot:xlabel='marital'>"
      ]
     },
     "execution_count": 9,
     "metadata": {},
     "output_type": "execute_result"
    },
    {
     "data": {
      "image/png": "[encoded data removed]",
      "text/plain": [
       "<Figure size 432x288 with 1 Axes>"
      ]
     },
     "metadata": {
      "needs_background": "light"
     },
     "output_type": "display_data"
    }
   ],
   "source": [
    "crosstab_marital = pd.crosstab(bank['marital'], bank['y'])\n",
    "crosstab_marital_norm = crosstab_marital.div(crosstab_marital.sum(axis=1), axis = 0)\n",
    "crosstab_marital_norm.plot(kind='bar', stacked = True)"
   ]
  },
  {
   "cell_type": "code",
   "execution_count": 10,
   "id": "4a6a3618",
   "metadata": {},
   "outputs": [
    {
     "data": {
      "text/plain": [
       "<AxesSubplot:xlabel='education'>"
      ]
     },
     "execution_count": 10,
     "metadata": {},
     "output_type": "execute_result"
    },
    {
     "data": {
      "image/png": "[encoded data removed]",
      "text/plain": [
       "<Figure size 432x288 with 1 Axes>"
      ]
     },
     "metadata": {
      "needs_background": "light"
     },
     "output_type": "display_data"
    }
   ],
   "source": [
    "crosstab_education = pd.crosstab(bank['education'], bank['y'])\n",
    "crosstab_education_norm = crosstab_education.div(crosstab_education.sum(axis=1), axis = 0)\n",
    "crosstab_education_norm.plot(kind='bar', stacked = True)"
   ]
  },
  {
   "cell_type": "code",
   "execution_count": 11,
   "id": "ad617b46",
   "metadata": {},
   "outputs": [
    {
     "data": {
      "text/plain": [
       "<AxesSubplot:xlabel='default'>"
      ]
     },
     "execution_count": 11,
     "metadata": {},
     "output_type": "execute_result"
    },
    {
     "data": {
      "image/png": "[encoded data removed]",
      "text/plain": [
       "<Figure size 432x288 with 1 Axes>"
      ]
     },
     "metadata": {
      "needs_background": "light"
     },
     "output_type": "display_data"
    }
   ],
   "source": [
    "crosstab_default = pd.crosstab(bank['default'], bank['y'])\n",
    "crosstab_default_norm = crosstab_default.div(crosstab_default.sum(axis=1), axis = 0)\n",
    "crosstab_default_norm.plot(kind='bar', stacked = True)"
   ]
  },
  {
   "cell_type": "code",
   "execution_count": 12,
   "id": "97db6476",
   "metadata": {},
   "outputs": [
    {
     "data": {
      "text/plain": [
       "<AxesSubplot:xlabel='housing'>"
      ]
     },
     "execution_count": 12,
     "metadata": {},
     "output_type": "execute_result"
    },
    {
     "data": {
      "image/png": "[encoded data removed]",
      "text/plain": [
       "<Figure size 432x288 with 1 Axes>"
      ]
     },
     "metadata": {
      "needs_background": "light"
     },
     "output_type": "display_data"
    }
   ],
   "source": [
    "crosstab_housing = pd.crosstab(bank['housing'], bank['y'])\n",
    "crosstab_housing_norm = crosstab_housing.div(crosstab_housing.sum(axis=1), axis = 0)\n",
    "crosstab_housing_norm.plot(kind='bar', stacked = True)"
   ]
  },
  {
   "cell_type": "code",
   "execution_count": 13,
   "id": "1e4f3533",
   "metadata": {},
   "outputs": [
    {
     "data": {
      "text/plain": [
       "<AxesSubplot:xlabel='loan'>"
      ]
     },
     "execution_count": 13,
     "metadata": {},
     "output_type": "execute_result"
    },
    {
     "data": {
      "image/png": "[encoded data removed]",
      "text/plain": [
       "<Figure size 432x288 with 1 Axes>"
      ]
     },
     "metadata": {
      "needs_background": "light"
     },
     "output_type": "display_data"
    }
   ],
   "source": [
    "crosstab_loan = pd.crosstab(bank['loan'], bank['y'])\n",
    "crosstab_loan_norm = crosstab_loan.div(crosstab_loan.sum(axis=1), axis = 0)\n",
    "crosstab_loan_norm.plot(kind='bar', stacked = True)"
   ]
  },
  {
   "cell_type": "code",
   "execution_count": 14,
   "id": "d9d129e5",
   "metadata": {},
   "outputs": [
    {
     "data": {
      "text/plain": [
       "<AxesSubplot:xlabel='contact'>"
      ]
     },
     "execution_count": 14,
     "metadata": {},
     "output_type": "execute_result"
    },
    {
     "data": {
      "image/png": "[encoded data removed]",
      "text/plain": [
       "<Figure size 432x288 with 1 Axes>"
      ]
     },
     "metadata": {
      "needs_background": "light"
     },
     "output_type": "display_data"
    }
   ],
   "source": [
    "crosstab_contact = pd.crosstab(bank['contact'], bank['y'])\n",
    "crosstab_contact_norm = crosstab_contact.div(crosstab_contact.sum(axis=1), axis = 0)\n",
    "crosstab_contact_norm.plot(kind='bar', stacked = True)"
   ]
  },
  {
   "cell_type": "code",
   "execution_count": 15,
   "id": "7746ac91",
   "metadata": {},
   "outputs": [
    {
     "data": {
      "text/plain": [
       "<AxesSubplot:xlabel='day'>"
      ]
     },
     "execution_count": 15,
     "metadata": {},
     "output_type": "execute_result"
    },
    {
     "data": {
      "image/png": "[encoded data removed]",
      "text/plain": [
       "<Figure size 432x288 with 1 Axes>"
      ]
     },
     "metadata": {
      "needs_background": "light"
     },
     "output_type": "display_data"
    }
   ],
   "source": [
    "crosstab_day = pd.crosstab(bank['day'], bank['y'])\n",
    "crosstab_day_norm = crosstab_day.div(crosstab_day.sum(axis=1), axis = 0)\n",
    "crosstab_day_norm.plot(kind='bar', stacked = True)"
   ]
  },
  {
   "cell_type": "code",
   "execution_count": 16,
   "id": "ffeeea00",
   "metadata": {},
   "outputs": [
    {
     "data": {
      "text/plain": [
       "<AxesSubplot:xlabel='month'>"
      ]
     },
     "execution_count": 16,
     "metadata": {},
     "output_type": "execute_result"
    },
    {
     "data": {
      "image/png": "[encoded data removed]",
      "text/plain": [
       "<Figure size 432x288 with 1 Axes>"
      ]
     },
     "metadata": {
      "needs_background": "light"
     },
     "output_type": "display_data"
    }
   ],
   "source": [
    "crosstab_month = pd.crosstab(bank['month'], bank['y'])\n",
    "crosstab_month_norm = crosstab_month.div(crosstab_month.sum(axis=1), axis = 0)\n",
    "crosstab_month_norm.plot(kind='bar', stacked = True)"
   ]
  },
  {
   "cell_type": "code",
   "execution_count": 17,
   "id": "17ba406a",
   "metadata": {},
   "outputs": [
    {
     "data": {
      "text/plain": [
       "<AxesSubplot:xlabel='pdays'>"
      ]
     },
     "execution_count": 17,
     "metadata": {},
     "output_type": "execute_result"
    },
    {
     "data": {
      "image/png": "[encoded data removed]",
      "text/plain": [
       "<Figure size 432x288 with 1 Axes>"
      ]
     },
     "metadata": {
      "needs_background": "light"
     },
     "output_type": "display_data"
    }
   ],
   "source": [
    "# convert 'pdays' to '0' as 'Never contacted since last campaign' and '1' as 'Contacted'\n",
    "b = [-1,0,99999]\n",
    "l = ['0','1']\n",
    "\n",
    "bank['pdays'].astype(int)\n",
    "bank['pdays'] = pd.cut(bank['pdays'], bins=b, labels=l, include_lowest=True)\n",
    "\n",
    "crosstab_pdays = pd.crosstab(bank['pdays'], bank['y'])\n",
    "crosstab_pdays_norm = crosstab_pdays.div(crosstab_pdays.sum(axis=1), axis = 0)\n",
    "crosstab_pdays_norm.plot(kind='bar', stacked = True)"
   ]
  },
  {
   "cell_type": "code",
   "execution_count": 18,
   "id": "fde80b35",
   "metadata": {},
   "outputs": [
    {
     "data": {
      "text/plain": [
       "<AxesSubplot:xlabel='poutcome'>"
      ]
     },
     "execution_count": 18,
     "metadata": {},
     "output_type": "execute_result"
    },
    {
     "data": {
      "image/png": "[encoded data removed]",
      "text/plain": [
       "<Figure size 432x288 with 1 Axes>"
      ]
     },
     "metadata": {
      "needs_background": "light"
     },
     "output_type": "display_data"
    }
   ],
   "source": [
    "crosstab_poutcome = pd.crosstab(bank['poutcome'], bank['y'])\n",
    "crosstab_poutcome_norm = crosstab_poutcome.div(crosstab_poutcome.sum(axis=1), axis = 0)\n",
    "crosstab_poutcome_norm.plot(kind='bar', stacked = True)"
   ]
  },
  {
   "cell_type": "code",
   "execution_count": 19,
   "id": "08f3e0e3",
   "metadata": {},
   "outputs": [
    {
     "data": {
      "text/plain": [
       "<AxesSubplot:xlabel='job'>"
      ]
     },
     "execution_count": 19,
     "metadata": {},
     "output_type": "execute_result"
    },
    {
     "data": {
      "image/png": "[encoded data removed]",
      "text/plain": [
       "<Figure size 432x288 with 1 Axes>"
      ]
     },
     "metadata": {
      "needs_background": "light"
     },
     "output_type": "display_data"
    }
   ],
   "source": [
    "bank['job'] = bank['job'].replace({'management': 'Employed', 'blue-collar': 'Employed',\n",
    "                                 'technician': 'Employed', 'admin.': 'Employed',\n",
    "                                 'services': 'Employed', 'retired': 'Unemployed',\n",
    "                                 'self-employed': 'Self-employed', 'entrepreneur':'Employed',\n",
    "                                 'unemployed': 'Unemployed', 'housemaid': 'Employed',\n",
    "                                 'student': 'Unemployed', 'unknown': 'Employed'})\n",
    "\n",
    "crosstab_job = pd.crosstab(bank['job'], bank['y'])\n",
    "crosstab_job_norm = crosstab_job.div(crosstab_job.sum(axis=1), axis = 0)\n",
    "crosstab_job_norm.plot(kind='bar', stacked = True)"
   ]
  },
  {
   "cell_type": "markdown",
   "id": "c62d5b2b",
   "metadata": {},
   "source": [
    "### Change 'day' to '0' and '1' for 'Firstdayofmonth'"
   ]
  },
  {
   "cell_type": "code",
   "execution_count": 20,
   "id": "f4c9d344",
   "metadata": {},
   "outputs": [
    {
     "data": {
      "text/plain": [
       "<AxesSubplot:xlabel='day'>"
      ]
     },
     "execution_count": 20,
     "metadata": {},
     "output_type": "execute_result"
    },
    {
     "data": {
      "image/png": "[encoded data removed]",
      "text/plain": [
       "<Figure size 432x288 with 1 Axes>"
      ]
     },
     "metadata": {
      "needs_background": "light"
     },
     "output_type": "display_data"
    }
   ],
   "source": [
    "b_day = [1,2,999]\n",
    "l_day = ['1','0']\n",
    "\n",
    "bank[\"day\"] = pd.to_numeric(bank[\"day\"])\n",
    "\n",
    "bank['day'] = pd.cut(bank['day'], bins=b_day, labels=l_day, include_lowest=True)\n",
    "\n",
    "crosstab_day = pd.crosstab(bank['day'], bank['y'])\n",
    "crosstab_day_norm = crosstab_day.div(crosstab_day.sum(axis=1), axis = 0)\n",
    "crosstab_day_norm.plot(kind='bar', stacked = True)"
   ]
  },
  {
   "cell_type": "markdown",
   "id": "0d75f2ec",
   "metadata": {},
   "source": [
    "### Change 'education' from categorical to ordinal"
   ]
  },
  {
   "cell_type": "code",
   "execution_count": 21,
   "id": "831c2200",
   "metadata": {},
   "outputs": [
    {
     "data": {
      "text/plain": [
       "<AxesSubplot:xlabel='education'>"
      ]
     },
     "execution_count": 21,
     "metadata": {},
     "output_type": "execute_result"
    },
    {
     "data": {
      "image/png": "[encoded data removed]",
      "text/plain": [
       "<Figure size 432x288 with 1 Axes>"
      ]
     },
     "metadata": {
      "needs_background": "light"
     },
     "output_type": "display_data"
    }
   ],
   "source": [
    "bank['education'] = bank['education'].replace({'primary': '0',\n",
    "                                              'secondary':'0.25',\n",
    "                                              'tertiary':'0.5',\n",
    "                                              'unknown':'1'})\n",
    "bank['education'].astype(float)\n",
    "crosstab_education = pd.crosstab(bank['education'], bank['y'])\n",
    "crosstab_education_norm = crosstab_education.div(crosstab_education.sum(axis=1), axis = 0)\n",
    "crosstab_education_norm.plot(kind='bar', stacked = True)"
   ]
  },
  {
   "cell_type": "markdown",
   "id": "90deb515",
   "metadata": {},
   "source": [
    "### Change 'contact' and 'poutcome' to norminal"
   ]
  },
  {
   "cell_type": "code",
   "execution_count": 22,
   "id": "d7674486",
   "metadata": {},
   "outputs": [],
   "source": [
    "bank['contact'] = bank['contact'].replace({'cellular': '0',\n",
    "                                           'telephone':'1',\n",
    "                                           'unknown':'2'\n",
    "                                  })\n",
    "\n",
    "bank['poutcome'] = bank['poutcome'].replace({'failure': '0',\n",
    "                                             'other':'1',\n",
    "                                             'success':'2',\n",
    "                                             'unknown':'3'\n",
    "                                  })"
   ]
  },
  {
   "cell_type": "markdown",
   "id": "a378458c",
   "metadata": {},
   "source": [
    "### Change 'age' to categorical of 'Youth', 'Adult', 'Senior' and then '0', '1', '2'"
   ]
  },
  {
   "cell_type": "code",
   "execution_count": 23,
   "id": "60ac988f",
   "metadata": {},
   "outputs": [
    {
     "data": {
      "image/png": "[encoded data removed]",
      "text/plain": [
       "<Figure size 432x288 with 1 Axes>"
      ]
     },
     "metadata": {
      "needs_background": "light"
     },
     "output_type": "display_data"
    }
   ],
   "source": [
    "b_age = [0,21,65,99999]\n",
    "l_age = ['Youth','Adult','Senior']\n",
    "\n",
    "bank['age'] = pd.cut(bank['age'], bins=b_age, labels=l_age, include_lowest=True)\n",
    "\n",
    "crosstab_age = pd.crosstab(bank['age'], bank['y'])\n",
    "crosstab_age_norm = crosstab_age.div(crosstab_age.sum(axis=1), axis = 0)\n",
    "crosstab_age_norm.plot(kind='bar', stacked = True)\n",
    "\n",
    "# convert the categories into numbers\n",
    "bank['age'] = bank['age'].replace({'Youth': '0',\n",
    "                                   'Adult':'1',\n",
    "                                   'Senior':'2'\n",
    "                                  })"
   ]
  },
  {
   "cell_type": "markdown",
   "id": "3b25304b",
   "metadata": {},
   "source": [
    "### Change 'month' to norminal"
   ]
  },
  {
   "cell_type": "code",
   "execution_count": 24,
   "id": "7f0892d9",
   "metadata": {},
   "outputs": [
    {
     "data": {
      "image/png": "[encoded data removed]",
      "text/plain": [
       "<Figure size 432x288 with 1 Axes>"
      ]
     },
     "metadata": {
      "needs_background": "light"
     },
     "output_type": "display_data"
    }
   ],
   "source": [
    "bank['month'] = bank['month'].replace({'jan': '1','feb':'2','mar':'3','apr':'4','may':'5',\n",
    "                                       'jun':'6','jul':'7','aug':'8','sep':'9','oct':'10',\n",
    "                                       'nov':'11','dec':'12'\n",
    "                                  })\n",
    "\n",
    "bank[\"month\"] = pd.to_numeric(bank[\"month\"])\n",
    "\n",
    "b_month = [0,3,6,9,12]\n",
    "l_month = ['Q1','Q2','Q3','Q4']\n",
    "\n",
    "bank['month'] = pd.cut(bank['month'], bins=b_month, labels=l_month, include_lowest=True)\n",
    "\n",
    "crosstab_month = pd.crosstab(bank['month'], bank['y'])\n",
    "crosstab_month_norm = crosstab_month.div(crosstab_month.sum(axis=1), axis = 0)\n",
    "crosstab_month_norm.plot(kind='bar', stacked = True)\n",
    "\n",
    "bank['month'] = bank['month'].replace({'Q1': '1',\n",
    "                                       'Q2':'2',\n",
    "                                       'Q3':'3',\n",
    "                                       'Q4':'4'\n",
    "                                            })"
   ]
  },
  {
   "cell_type": "markdown",
   "id": "6ac69aab",
   "metadata": {},
   "source": [
    "### Create dummy variables for the categorical features"
   ]
  },
  {
   "cell_type": "code",
   "execution_count": 25,
   "id": "354c005e",
   "metadata": {},
   "outputs": [
    {
     "data": {
      "text/html": [
       "<div>\n",
       "<style scoped>\n",
       "    .dataframe tbody tr th:only-of-type {\n",
       "        vertical-align: middle;\n",
       "    }\n",
       "\n",
       "    .dataframe tbody tr th {\n",
       "        vertical-align: top;\n",
       "    }\n",
       "\n",
       "    .dataframe thead th {\n",
       "        text-align: right;\n",
       "    }\n",
       "</style>\n",
       "<table border=\"1\" class=\"dataframe\">\n",
       "  <thead>\n",
       "    <tr style=\"text-align: right;\">\n",
       "      <th></th>\n",
       "      <th>age</th>\n",
       "      <th>education</th>\n",
       "      <th>default</th>\n",
       "      <th>balance</th>\n",
       "      <th>housing</th>\n",
       "      <th>loan</th>\n",
       "      <th>contact</th>\n",
       "      <th>day</th>\n",
       "      <th>month</th>\n",
       "      <th>duration</th>\n",
       "      <th>...</th>\n",
       "      <th>pdays</th>\n",
       "      <th>previous</th>\n",
       "      <th>poutcome</th>\n",
       "      <th>y</th>\n",
       "      <th>job_Employed</th>\n",
       "      <th>job_Self-employed</th>\n",
       "      <th>job_Unemployed</th>\n",
       "      <th>marital_divorced</th>\n",
       "      <th>marital_married</th>\n",
       "      <th>marital_single</th>\n",
       "    </tr>\n",
       "  </thead>\n",
       "  <tbody>\n",
       "    <tr>\n",
       "      <th>0</th>\n",
       "      <td>1</td>\n",
       "      <td>0</td>\n",
       "      <td>0</td>\n",
       "      <td>1787</td>\n",
       "      <td>0</td>\n",
       "      <td>0</td>\n",
       "      <td>0</td>\n",
       "      <td>0</td>\n",
       "      <td>4</td>\n",
       "      <td>79</td>\n",
       "      <td>...</td>\n",
       "      <td>0</td>\n",
       "      <td>0</td>\n",
       "      <td>3</td>\n",
       "      <td>0</td>\n",
       "      <td>0</td>\n",
       "      <td>0</td>\n",
       "      <td>1</td>\n",
       "      <td>0</td>\n",
       "      <td>1</td>\n",
       "      <td>0</td>\n",
       "    </tr>\n",
       "    <tr>\n",
       "      <th>1</th>\n",
       "      <td>1</td>\n",
       "      <td>0.25</td>\n",
       "      <td>0</td>\n",
       "      <td>4789</td>\n",
       "      <td>1</td>\n",
       "      <td>1</td>\n",
       "      <td>0</td>\n",
       "      <td>0</td>\n",
       "      <td>2</td>\n",
       "      <td>220</td>\n",
       "      <td>...</td>\n",
       "      <td>1</td>\n",
       "      <td>4</td>\n",
       "      <td>0</td>\n",
       "      <td>0</td>\n",
       "      <td>1</td>\n",
       "      <td>0</td>\n",
       "      <td>0</td>\n",
       "      <td>0</td>\n",
       "      <td>1</td>\n",
       "      <td>0</td>\n",
       "    </tr>\n",
       "    <tr>\n",
       "      <th>2</th>\n",
       "      <td>1</td>\n",
       "      <td>0.5</td>\n",
       "      <td>0</td>\n",
       "      <td>1350</td>\n",
       "      <td>1</td>\n",
       "      <td>0</td>\n",
       "      <td>0</td>\n",
       "      <td>0</td>\n",
       "      <td>2</td>\n",
       "      <td>185</td>\n",
       "      <td>...</td>\n",
       "      <td>1</td>\n",
       "      <td>1</td>\n",
       "      <td>0</td>\n",
       "      <td>0</td>\n",
       "      <td>1</td>\n",
       "      <td>0</td>\n",
       "      <td>0</td>\n",
       "      <td>0</td>\n",
       "      <td>0</td>\n",
       "      <td>1</td>\n",
       "    </tr>\n",
       "    <tr>\n",
       "      <th>3</th>\n",
       "      <td>1</td>\n",
       "      <td>0.5</td>\n",
       "      <td>0</td>\n",
       "      <td>1476</td>\n",
       "      <td>1</td>\n",
       "      <td>1</td>\n",
       "      <td>2</td>\n",
       "      <td>0</td>\n",
       "      <td>2</td>\n",
       "      <td>199</td>\n",
       "      <td>...</td>\n",
       "      <td>0</td>\n",
       "      <td>0</td>\n",
       "      <td>3</td>\n",
       "      <td>0</td>\n",
       "      <td>1</td>\n",
       "      <td>0</td>\n",
       "      <td>0</td>\n",
       "      <td>0</td>\n",
       "      <td>1</td>\n",
       "      <td>0</td>\n",
       "    </tr>\n",
       "    <tr>\n",
       "      <th>4</th>\n",
       "      <td>1</td>\n",
       "      <td>0.25</td>\n",
       "      <td>0</td>\n",
       "      <td>0</td>\n",
       "      <td>1</td>\n",
       "      <td>0</td>\n",
       "      <td>2</td>\n",
       "      <td>0</td>\n",
       "      <td>2</td>\n",
       "      <td>226</td>\n",
       "      <td>...</td>\n",
       "      <td>0</td>\n",
       "      <td>0</td>\n",
       "      <td>3</td>\n",
       "      <td>0</td>\n",
       "      <td>1</td>\n",
       "      <td>0</td>\n",
       "      <td>0</td>\n",
       "      <td>0</td>\n",
       "      <td>1</td>\n",
       "      <td>0</td>\n",
       "    </tr>\n",
       "  </tbody>\n",
       "</table>\n",
       "<p>5 rows × 21 columns</p>\n",
       "</div>"
      ],
      "text/plain": [
       "  age education  default  balance  housing  loan contact day month  duration  \\\n",
       "0   1         0        0     1787        0     0       0   0     4        79   \n",
       "1   1      0.25        0     4789        1     1       0   0     2       220   \n",
       "2   1       0.5        0     1350        1     0       0   0     2       185   \n",
       "3   1       0.5        0     1476        1     1       2   0     2       199   \n",
       "4   1      0.25        0        0        1     0       2   0     2       226   \n",
       "\n",
       "   ...  pdays previous  poutcome  y  job_Employed  job_Self-employed  \\\n",
       "0  ...      0        0         3  0             0                  0   \n",
       "1  ...      1        4         0  0             1                  0   \n",
       "2  ...      1        1         0  0             1                  0   \n",
       "3  ...      0        0         3  0             1                  0   \n",
       "4  ...      0        0         3  0             1                  0   \n",
       "\n",
       "   job_Unemployed  marital_divorced  marital_married  marital_single  \n",
       "0               1                 0                1               0  \n",
       "1               0                 0                1               0  \n",
       "2               0                 0                0               1  \n",
       "3               0                 0                1               0  \n",
       "4               0                 0                1               0  \n",
       "\n",
       "[5 rows x 21 columns]"
      ]
     },
     "execution_count": 25,
     "metadata": {},
     "output_type": "execute_result"
    }
   ],
   "source": [
    "# create dummy variables for categorical features\n",
    "\n",
    "cat_df = bank[['job','marital']]\n",
    "dummy_df = pd.get_dummies(cat_df)\n",
    "\n",
    "# merge dummy variables to the original bank\n",
    "\n",
    "bank = pd.concat([bank, dummy_df], axis=1)  \n",
    "\n",
    "# drop the original categorical features\n",
    "\n",
    "bank = bank.drop(['job','marital'], axis = 1)\n",
    "\n",
    "bank.head()"
   ]
  },
  {
   "cell_type": "markdown",
   "id": "92ecbccf",
   "metadata": {},
   "source": [
    "### Check for multicollinearity and use cut-off value of 0.7\n",
    "\n",
    "https://blog.clairvoyantsoft.com/correlation-and-collinearity-how-they-can-make-or-break-a-model-9135fbe6936a"
   ]
  },
  {
   "cell_type": "code",
   "execution_count": 26,
   "id": "8073c961",
   "metadata": {},
   "outputs": [
    {
     "name": "stdout",
     "output_type": "stream",
     "text": [
      "{'job_Unemployed', 'marital_single'}\n"
     ]
    },
    {
     "data": {
      "text/html": [
       "<style  type=\"text/css\" >\n",
       "#T_c3089_row0_col0,#T_c3089_row1_col1,#T_c3089_row2_col2,#T_c3089_row3_col3,#T_c3089_row4_col4,#T_c3089_row5_col5,#T_c3089_row6_col6,#T_c3089_row7_col7,#T_c3089_row8_col8,#T_c3089_row9_col9,#T_c3089_row10_col10,#T_c3089_row11_col11,#T_c3089_row12_col12,#T_c3089_row13_col13{\n",
       "            background-color:  #b40426;\n",
       "            color:  #f1f1f1;\n",
       "        }#T_c3089_row0_col1,#T_c3089_row1_col0,#T_c3089_row1_col3,#T_c3089_row2_col7,#T_c3089_row3_col1,#T_c3089_row4_col5,#T_c3089_row5_col4,#T_c3089_row5_col6,#T_c3089_row6_col5,#T_c3089_row7_col3,#T_c3089_row8_col9,#T_c3089_row8_col10,#T_c3089_row10_col2,#T_c3089_row10_col8,#T_c3089_row12_col11,#T_c3089_row12_col13,#T_c3089_row13_col12{\n",
       "            background-color:  #3b4cc0;\n",
       "            color:  #f1f1f1;\n",
       "        }#T_c3089_row0_col2{\n",
       "            background-color:  #6e90f2;\n",
       "            color:  #000000;\n",
       "        }#T_c3089_row0_col3,#T_c3089_row3_col0,#T_c3089_row9_col2,#T_c3089_row11_col7{\n",
       "            background-color:  #6282ea;\n",
       "            color:  #000000;\n",
       "        }#T_c3089_row0_col4,#T_c3089_row0_col5,#T_c3089_row1_col5,#T_c3089_row4_col1,#T_c3089_row5_col0{\n",
       "            background-color:  #4a63d3;\n",
       "            color:  #f1f1f1;\n",
       "        }#T_c3089_row0_col6,#T_c3089_row10_col5,#T_c3089_row12_col7{\n",
       "            background-color:  #455cce;\n",
       "            color:  #f1f1f1;\n",
       "        }#T_c3089_row0_col7,#T_c3089_row9_col5,#T_c3089_row12_col3,#T_c3089_row13_col6{\n",
       "            background-color:  #5875e1;\n",
       "            color:  #000000;\n",
       "        }#T_c3089_row0_col8,#T_c3089_row0_col10,#T_c3089_row3_col12,#T_c3089_row9_col12,#T_c3089_row12_col8,#T_c3089_row13_col10{\n",
       "            background-color:  #cfdaea;\n",
       "            color:  #000000;\n",
       "        }#T_c3089_row0_col9{\n",
       "            background-color:  #aec9fc;\n",
       "            color:  #000000;\n",
       "        }#T_c3089_row0_col11,#T_c3089_row2_col10{\n",
       "            background-color:  #afcafc;\n",
       "            color:  #000000;\n",
       "        }#T_c3089_row0_col12,#T_c3089_row4_col12,#T_c3089_row7_col8,#T_c3089_row9_col10{\n",
       "            background-color:  #c4d5f3;\n",
       "            color:  #000000;\n",
       "        }#T_c3089_row0_col13,#T_c3089_row1_col13,#T_c3089_row5_col10{\n",
       "            background-color:  #cbd8ee;\n",
       "            color:  #000000;\n",
       "        }#T_c3089_row1_col2,#T_c3089_row1_col7,#T_c3089_row11_col0{\n",
       "            background-color:  #5d7ce6;\n",
       "            color:  #000000;\n",
       "        }#T_c3089_row1_col4,#T_c3089_row12_col6{\n",
       "            background-color:  #4961d2;\n",
       "            color:  #f1f1f1;\n",
       "        }#T_c3089_row1_col6,#T_c3089_row10_col4,#T_c3089_row13_col4{\n",
       "            background-color:  #5572df;\n",
       "            color:  #000000;\n",
       "        }#T_c3089_row1_col8,#T_c3089_row8_col12,#T_c3089_row10_col13{\n",
       "            background-color:  #cad8ef;\n",
       "            color:  #000000;\n",
       "        }#T_c3089_row1_col9,#T_c3089_row4_col9,#T_c3089_row7_col9,#T_c3089_row10_col11{\n",
       "            background-color:  #abc8fd;\n",
       "            color:  #000000;\n",
       "        }#T_c3089_row1_col10{\n",
       "            background-color:  #d6dce4;\n",
       "            color:  #000000;\n",
       "        }#T_c3089_row1_col11{\n",
       "            background-color:  #9bbcff;\n",
       "            color:  #000000;\n",
       "        }#T_c3089_row1_col12,#T_c3089_row11_col8{\n",
       "            background-color:  #cdd9ec;\n",
       "            color:  #000000;\n",
       "        }#T_c3089_row2_col0,#T_c3089_row8_col5,#T_c3089_row9_col0,#T_c3089_row9_col3,#T_c3089_row13_col0,#T_c3089_row13_col1{\n",
       "            background-color:  #506bda;\n",
       "            color:  #000000;\n",
       "        }#T_c3089_row2_col1,#T_c3089_row13_col3{\n",
       "            background-color:  #4055c8;\n",
       "            color:  #f1f1f1;\n",
       "        }#T_c3089_row2_col3,#T_c3089_row5_col3,#T_c3089_row7_col1,#T_c3089_row11_col3,#T_c3089_row11_col4,#T_c3089_row12_col1,#T_c3089_row12_col5{\n",
       "            background-color:  #5470de;\n",
       "            color:  #000000;\n",
       "        }#T_c3089_row2_col4,#T_c3089_row3_col5,#T_c3089_row4_col6,#T_c3089_row6_col4,#T_c3089_row10_col6{\n",
       "            background-color:  #536edd;\n",
       "            color:  #000000;\n",
       "        }#T_c3089_row2_col5,#T_c3089_row3_col4,#T_c3089_row4_col3{\n",
       "            background-color:  #4c66d6;\n",
       "            color:  #000000;\n",
       "        }#T_c3089_row2_col6,#T_c3089_row8_col3{\n",
       "            background-color:  #5977e3;\n",
       "            color:  #000000;\n",
       "        }#T_c3089_row2_col8{\n",
       "            background-color:  #e9d5cb;\n",
       "            color:  #000000;\n",
       "        }#T_c3089_row2_col9,#T_c3089_row2_col11{\n",
       "            background-color:  #a3c2fe;\n",
       "            color:  #000000;\n",
       "        }#T_c3089_row2_col12,#T_c3089_row5_col8,#T_c3089_row6_col13{\n",
       "            background-color:  #d1dae9;\n",
       "            color:  #000000;\n",
       "        }#T_c3089_row2_col13{\n",
       "            background-color:  #c3d5f4;\n",
       "            color:  #000000;\n",
       "        }#T_c3089_row3_col2,#T_c3089_row4_col2,#T_c3089_row9_col8,#T_c3089_row10_col7,#T_c3089_row11_col12{\n",
       "            background-color:  #7093f3;\n",
       "            color:  #000000;\n",
       "        }#T_c3089_row3_col6,#T_c3089_row5_col7,#T_c3089_row6_col0,#T_c3089_row11_col6{\n",
       "            background-color:  #465ecf;\n",
       "            color:  #f1f1f1;\n",
       "        }#T_c3089_row3_col7,#T_c3089_row12_col0,#T_c3089_row12_col4{\n",
       "            background-color:  #4358cb;\n",
       "            color:  #f1f1f1;\n",
       "        }#T_c3089_row3_col8{\n",
       "            background-color:  #d5dbe5;\n",
       "            color:  #000000;\n",
       "        }#T_c3089_row3_col9,#T_c3089_row6_col9,#T_c3089_row7_col11{\n",
       "            background-color:  #adc9fd;\n",
       "            color:  #000000;\n",
       "        }#T_c3089_row3_col10,#T_c3089_row5_col13{\n",
       "            background-color:  #c9d7f0;\n",
       "            color:  #000000;\n",
       "        }#T_c3089_row3_col11,#T_c3089_row4_col11{\n",
       "            background-color:  #a9c6fd;\n",
       "            color:  #000000;\n",
       "        }#T_c3089_row3_col13{\n",
       "            background-color:  #c1d4f4;\n",
       "            color:  #000000;\n",
       "        }#T_c3089_row4_col0,#T_c3089_row5_col1,#T_c3089_row13_col5{\n",
       "            background-color:  #4b64d5;\n",
       "            color:  #f1f1f1;\n",
       "        }#T_c3089_row4_col7,#T_c3089_row6_col10,#T_c3089_row7_col13,#T_c3089_row13_col8{\n",
       "            background-color:  #d2dbe8;\n",
       "            color:  #000000;\n",
       "        }#T_c3089_row4_col8,#T_c3089_row6_col8,#T_c3089_row7_col4,#T_c3089_row8_col13,#T_c3089_row12_col10{\n",
       "            background-color:  #ccd9ed;\n",
       "            color:  #000000;\n",
       "        }#T_c3089_row4_col10{\n",
       "            background-color:  #d3dbe7;\n",
       "            color:  #000000;\n",
       "        }#T_c3089_row4_col13,#T_c3089_row5_col12{\n",
       "            background-color:  #cedaeb;\n",
       "            color:  #000000;\n",
       "        }#T_c3089_row5_col2{\n",
       "            background-color:  #6a8bef;\n",
       "            color:  #000000;\n",
       "        }#T_c3089_row5_col9,#T_c3089_row12_col9{\n",
       "            background-color:  #b3cdfb;\n",
       "            color:  #000000;\n",
       "        }#T_c3089_row5_col11,#T_c3089_row6_col11,#T_c3089_row9_col11{\n",
       "            background-color:  #9fbfff;\n",
       "            color:  #000000;\n",
       "        }#T_c3089_row6_col1,#T_c3089_row9_col7{\n",
       "            background-color:  #5673e0;\n",
       "            color:  #000000;\n",
       "        }#T_c3089_row6_col2,#T_c3089_row12_col2{\n",
       "            background-color:  #779af7;\n",
       "            color:  #000000;\n",
       "        }#T_c3089_row6_col3,#T_c3089_row8_col4,#T_c3089_row8_col6,#T_c3089_row11_col5{\n",
       "            background-color:  #485fd1;\n",
       "            color:  #f1f1f1;\n",
       "        }#T_c3089_row6_col7{\n",
       "            background-color:  #7b9ff9;\n",
       "            color:  #000000;\n",
       "        }#T_c3089_row6_col12,#T_c3089_row9_col13,#T_c3089_row10_col12{\n",
       "            background-color:  #c7d7f0;\n",
       "            color:  #000000;\n",
       "        }#T_c3089_row7_col0,#T_c3089_row7_col2,#T_c3089_row9_col6{\n",
       "            background-color:  #4f69d9;\n",
       "            color:  #000000;\n",
       "        }#T_c3089_row7_col5{\n",
       "            background-color:  #3c4ec2;\n",
       "            color:  #f1f1f1;\n",
       "        }#T_c3089_row7_col6{\n",
       "            background-color:  #7295f4;\n",
       "            color:  #000000;\n",
       "        }#T_c3089_row7_col10{\n",
       "            background-color:  #dbdcde;\n",
       "            color:  #000000;\n",
       "        }#T_c3089_row7_col12{\n",
       "            background-color:  #bfd3f6;\n",
       "            color:  #000000;\n",
       "        }#T_c3089_row8_col0,#T_c3089_row9_col1,#T_c3089_row9_col4,#T_c3089_row10_col0{\n",
       "            background-color:  #4e68d8;\n",
       "            color:  #000000;\n",
       "        }#T_c3089_row8_col1,#T_c3089_row8_col7,#T_c3089_row11_col1{\n",
       "            background-color:  #445acc;\n",
       "            color:  #f1f1f1;\n",
       "        }#T_c3089_row8_col2,#T_c3089_row8_col11{\n",
       "            background-color:  #a1c0ff;\n",
       "            color:  #000000;\n",
       "        }#T_c3089_row10_col1{\n",
       "            background-color:  #5b7ae5;\n",
       "            color:  #000000;\n",
       "        }#T_c3089_row10_col3{\n",
       "            background-color:  #4257c9;\n",
       "            color:  #f1f1f1;\n",
       "        }#T_c3089_row10_col9{\n",
       "            background-color:  #9dbdff;\n",
       "            color:  #000000;\n",
       "        }#T_c3089_row11_col2{\n",
       "            background-color:  #6b8df0;\n",
       "            color:  #000000;\n",
       "        }#T_c3089_row11_col9,#T_c3089_row13_col9{\n",
       "            background-color:  #a7c5fe;\n",
       "            color:  #000000;\n",
       "        }#T_c3089_row11_col10{\n",
       "            background-color:  #d4dbe6;\n",
       "            color:  #000000;\n",
       "        }#T_c3089_row11_col13{\n",
       "            background-color:  #a2c1ff;\n",
       "            color:  #000000;\n",
       "        }#T_c3089_row13_col2{\n",
       "            background-color:  #5f7fe8;\n",
       "            color:  #000000;\n",
       "        }#T_c3089_row13_col7{\n",
       "            background-color:  #6485ec;\n",
       "            color:  #000000;\n",
       "        }#T_c3089_row13_col11{\n",
       "            background-color:  #6f92f3;\n",
       "            color:  #000000;\n",
       "        }</style><table id=\"T_c3089_\" ><thead>    <tr>        <th class=\"blank level0\" ></th>        <th class=\"col_heading level0 col0\" >default</th>        <th class=\"col_heading level0 col1\" >balance</th>        <th class=\"col_heading level0 col2\" >housing</th>        <th class=\"col_heading level0 col3\" >loan</th>        <th class=\"col_heading level0 col4\" >duration</th>        <th class=\"col_heading level0 col5\" >campaign</th>        <th class=\"col_heading level0 col6\" >previous</th>        <th class=\"col_heading level0 col7\" >y</th>        <th class=\"col_heading level0 col8\" >job_Employed</th>        <th class=\"col_heading level0 col9\" >job_Self-employed</th>        <th class=\"col_heading level0 col10\" >job_Unemployed</th>        <th class=\"col_heading level0 col11\" >marital_divorced</th>        <th class=\"col_heading level0 col12\" >marital_married</th>        <th class=\"col_heading level0 col13\" >marital_single</th>    </tr></thead><tbody>\n",
       "                <tr>\n",
       "                        <th id=\"T_c3089_level0_row0\" class=\"row_heading level0 row0\" >default</th>\n",
       "                        <td id=\"T_c3089_row0_col0\" class=\"data row0 col0\" >1.000000</td>\n",
       "                        <td id=\"T_c3089_row0_col1\" class=\"data row0 col1\" >-0.070886</td>\n",
       "                        <td id=\"T_c3089_row0_col2\" class=\"data row0 col2\" >0.006881</td>\n",
       "                        <td id=\"T_c3089_row0_col3\" class=\"data row0 col3\" >0.063994</td>\n",
       "                        <td id=\"T_c3089_row0_col4\" class=\"data row0 col4\" >-0.011615</td>\n",
       "                        <td id=\"T_c3089_row0_col5\" class=\"data row0 col5\" >-0.012348</td>\n",
       "                        <td id=\"T_c3089_row0_col6\" class=\"data row0 col6\" >-0.026656</td>\n",
       "                        <td id=\"T_c3089_row0_col7\" class=\"data row0 col7\" >0.001303</td>\n",
       "                        <td id=\"T_c3089_row0_col8\" class=\"data row0 col8\" >-0.002460</td>\n",
       "                        <td id=\"T_c3089_row0_col9\" class=\"data row0 col9\" >0.008064</td>\n",
       "                        <td id=\"T_c3089_row0_col10\" class=\"data row0 col10\" >-0.002492</td>\n",
       "                        <td id=\"T_c3089_row0_col11\" class=\"data row0 col11\" >0.048878</td>\n",
       "                        <td id=\"T_c3089_row0_col12\" class=\"data row0 col12\" >-0.039031</td>\n",
       "                        <td id=\"T_c3089_row0_col13\" class=\"data row0 col13\" >0.007391</td>\n",
       "            </tr>\n",
       "            <tr>\n",
       "                        <th id=\"T_c3089_level0_row1\" class=\"row_heading level0 row1\" >balance</th>\n",
       "                        <td id=\"T_c3089_row1_col0\" class=\"data row1 col0\" >-0.070886</td>\n",
       "                        <td id=\"T_c3089_row1_col1\" class=\"data row1 col1\" >1.000000</td>\n",
       "                        <td id=\"T_c3089_row1_col2\" class=\"data row1 col2\" >-0.050227</td>\n",
       "                        <td id=\"T_c3089_row1_col3\" class=\"data row1 col3\" >-0.071349</td>\n",
       "                        <td id=\"T_c3089_row1_col4\" class=\"data row1 col4\" >-0.015950</td>\n",
       "                        <td id=\"T_c3089_row1_col5\" class=\"data row1 col5\" >-0.009976</td>\n",
       "                        <td id=\"T_c3089_row1_col6\" class=\"data row1 col6\" >0.026196</td>\n",
       "                        <td id=\"T_c3089_row1_col7\" class=\"data row1 col7\" >0.017905</td>\n",
       "                        <td id=\"T_c3089_row1_col8\" class=\"data row1 col8\" >-0.035817</td>\n",
       "                        <td id=\"T_c3089_row1_col9\" class=\"data row1 col9\" >-0.002064</td>\n",
       "                        <td id=\"T_c3089_row1_col10\" class=\"data row1 col10\" >0.042994</td>\n",
       "                        <td id=\"T_c3089_row1_col11\" class=\"data row1 col11\" >-0.036284</td>\n",
       "                        <td id=\"T_c3089_row1_col12\" class=\"data row1 col12\" >0.017158</td>\n",
       "                        <td id=\"T_c3089_row1_col13\" class=\"data row1 col13\" >0.007525</td>\n",
       "            </tr>\n",
       "            <tr>\n",
       "                        <th id=\"T_c3089_level0_row2\" class=\"row_heading level0 row2\" >housing</th>\n",
       "                        <td id=\"T_c3089_row2_col0\" class=\"data row2 col0\" >0.006881</td>\n",
       "                        <td id=\"T_c3089_row2_col1\" class=\"data row2 col1\" >-0.050227</td>\n",
       "                        <td id=\"T_c3089_row2_col2\" class=\"data row2 col2\" >1.000000</td>\n",
       "                        <td id=\"T_c3089_row2_col3\" class=\"data row2 col3\" >0.018451</td>\n",
       "                        <td id=\"T_c3089_row2_col4\" class=\"data row2 col4\" >0.015740</td>\n",
       "                        <td id=\"T_c3089_row2_col5\" class=\"data row2 col5\" >-0.003574</td>\n",
       "                        <td id=\"T_c3089_row2_col6\" class=\"data row2 col6\" >0.038621</td>\n",
       "                        <td id=\"T_c3089_row2_col7\" class=\"data row2 col7\" >-0.104683</td>\n",
       "                        <td id=\"T_c3089_row2_col8\" class=\"data row2 col8\" >0.178132</td>\n",
       "                        <td id=\"T_c3089_row2_col9\" class=\"data row2 col9\" >-0.035287</td>\n",
       "                        <td id=\"T_c3089_row2_col10\" class=\"data row2 col10\" >-0.183600</td>\n",
       "                        <td id=\"T_c3089_row2_col11\" class=\"data row2 col11\" >-0.001197</td>\n",
       "                        <td id=\"T_c3089_row2_col12\" class=\"data row2 col12\" >0.038432</td>\n",
       "                        <td id=\"T_c3089_row2_col13\" class=\"data row2 col13\" >-0.041449</td>\n",
       "            </tr>\n",
       "            <tr>\n",
       "                        <th id=\"T_c3089_level0_row3\" class=\"row_heading level0 row3\" >loan</th>\n",
       "                        <td id=\"T_c3089_row3_col0\" class=\"data row3 col0\" >0.063994</td>\n",
       "                        <td id=\"T_c3089_row3_col1\" class=\"data row3 col1\" >-0.071349</td>\n",
       "                        <td id=\"T_c3089_row3_col2\" class=\"data row3 col2\" >0.018451</td>\n",
       "                        <td id=\"T_c3089_row3_col3\" class=\"data row3 col3\" >1.000000</td>\n",
       "                        <td id=\"T_c3089_row3_col4\" class=\"data row3 col4\" >-0.004997</td>\n",
       "                        <td id=\"T_c3089_row3_col5\" class=\"data row3 col5\" >0.017120</td>\n",
       "                        <td id=\"T_c3089_row3_col6\" class=\"data row3 col6\" >-0.022115</td>\n",
       "                        <td id=\"T_c3089_row3_col7\" class=\"data row3 col7\" >-0.070517</td>\n",
       "                        <td id=\"T_c3089_row3_col8\" class=\"data row3 col8\" >0.034775</td>\n",
       "                        <td id=\"T_c3089_row3_col9\" class=\"data row3 col9\" >0.006331</td>\n",
       "                        <td id=\"T_c3089_row3_col10\" class=\"data row3 col10\" >-0.044615</td>\n",
       "                        <td id=\"T_c3089_row3_col11\" class=\"data row3 col11\" >0.017798</td>\n",
       "                        <td id=\"T_c3089_row3_col12\" class=\"data row3 col12\" >0.032272</td>\n",
       "                        <td id=\"T_c3089_row3_col13\" class=\"data row3 col13\" >-0.048496</td>\n",
       "            </tr>\n",
       "            <tr>\n",
       "                        <th id=\"T_c3089_level0_row4\" class=\"row_heading level0 row4\" >duration</th>\n",
       "                        <td id=\"T_c3089_row4_col0\" class=\"data row4 col0\" >-0.011615</td>\n",
       "                        <td id=\"T_c3089_row4_col1\" class=\"data row4 col1\" >-0.015950</td>\n",
       "                        <td id=\"T_c3089_row4_col2\" class=\"data row4 col2\" >0.015740</td>\n",
       "                        <td id=\"T_c3089_row4_col3\" class=\"data row4 col3\" >-0.004997</td>\n",
       "                        <td id=\"T_c3089_row4_col4\" class=\"data row4 col4\" >1.000000</td>\n",
       "                        <td id=\"T_c3089_row4_col5\" class=\"data row4 col5\" >-0.068382</td>\n",
       "                        <td id=\"T_c3089_row4_col6\" class=\"data row4 col6\" >0.018080</td>\n",
       "                        <td id=\"T_c3089_row4_col7\" class=\"data row4 col7\" >0.401118</td>\n",
       "                        <td id=\"T_c3089_row4_col8\" class=\"data row4 col8\" >-0.020995</td>\n",
       "                        <td id=\"T_c3089_row4_col9\" class=\"data row4 col9\" >0.000130</td>\n",
       "                        <td id=\"T_c3089_row4_col10\" class=\"data row4 col10\" >0.024313</td>\n",
       "                        <td id=\"T_c3089_row4_col11\" class=\"data row4 col11\" >0.021373</td>\n",
       "                        <td id=\"T_c3089_row4_col12\" class=\"data row4 col12\" >-0.036436</td>\n",
       "                        <td id=\"T_c3089_row4_col13\" class=\"data row4 col13\" >0.024560</td>\n",
       "            </tr>\n",
       "            <tr>\n",
       "                        <th id=\"T_c3089_level0_row5\" class=\"row_heading level0 row5\" >campaign</th>\n",
       "                        <td id=\"T_c3089_row5_col0\" class=\"data row5 col0\" >-0.012348</td>\n",
       "                        <td id=\"T_c3089_row5_col1\" class=\"data row5 col1\" >-0.009976</td>\n",
       "                        <td id=\"T_c3089_row5_col2\" class=\"data row5 col2\" >-0.003574</td>\n",
       "                        <td id=\"T_c3089_row5_col3\" class=\"data row5 col3\" >0.017120</td>\n",
       "                        <td id=\"T_c3089_row5_col4\" class=\"data row5 col4\" >-0.068382</td>\n",
       "                        <td id=\"T_c3089_row5_col5\" class=\"data row5 col5\" >1.000000</td>\n",
       "                        <td id=\"T_c3089_row5_col6\" class=\"data row5 col6\" >-0.067833</td>\n",
       "                        <td id=\"T_c3089_row5_col7\" class=\"data row5 col7\" >-0.061147</td>\n",
       "                        <td id=\"T_c3089_row5_col8\" class=\"data row5 col8\" >0.007217</td>\n",
       "                        <td id=\"T_c3089_row5_col9\" class=\"data row5 col9\" >0.032040</td>\n",
       "                        <td id=\"T_c3089_row5_col10\" class=\"data row5 col10\" >-0.029648</td>\n",
       "                        <td id=\"T_c3089_row5_col11\" class=\"data row5 col11\" >-0.022157</td>\n",
       "                        <td id=\"T_c3089_row5_col12\" class=\"data row5 col12\" >0.022000</td>\n",
       "                        <td id=\"T_c3089_row5_col13\" class=\"data row5 col13\" >-0.008093</td>\n",
       "            </tr>\n",
       "            <tr>\n",
       "                        <th id=\"T_c3089_level0_row6\" class=\"row_heading level0 row6\" >previous</th>\n",
       "                        <td id=\"T_c3089_row6_col0\" class=\"data row6 col0\" >-0.026656</td>\n",
       "                        <td id=\"T_c3089_row6_col1\" class=\"data row6 col1\" >0.026196</td>\n",
       "                        <td id=\"T_c3089_row6_col2\" class=\"data row6 col2\" >0.038621</td>\n",
       "                        <td id=\"T_c3089_row6_col3\" class=\"data row6 col3\" >-0.022115</td>\n",
       "                        <td id=\"T_c3089_row6_col4\" class=\"data row6 col4\" >0.018080</td>\n",
       "                        <td id=\"T_c3089_row6_col5\" class=\"data row6 col5\" >-0.067833</td>\n",
       "                        <td id=\"T_c3089_row6_col6\" class=\"data row6 col6\" >1.000000</td>\n",
       "                        <td id=\"T_c3089_row6_col7\" class=\"data row6 col7\" >0.116714</td>\n",
       "                        <td id=\"T_c3089_row6_col8\" class=\"data row6 col8\" >-0.018123</td>\n",
       "                        <td id=\"T_c3089_row6_col9\" class=\"data row6 col9\" >0.005772</td>\n",
       "                        <td id=\"T_c3089_row6_col10\" class=\"data row6 col10\" >0.017232</td>\n",
       "                        <td id=\"T_c3089_row6_col11\" class=\"data row6 col11\" >-0.022158</td>\n",
       "                        <td id=\"T_c3089_row6_col12\" class=\"data row6 col12\" >-0.017640</td>\n",
       "                        <td id=\"T_c3089_row6_col13\" class=\"data row6 col13\" >0.035558</td>\n",
       "            </tr>\n",
       "            <tr>\n",
       "                        <th id=\"T_c3089_level0_row7\" class=\"row_heading level0 row7\" >y</th>\n",
       "                        <td id=\"T_c3089_row7_col0\" class=\"data row7 col0\" >0.001303</td>\n",
       "                        <td id=\"T_c3089_row7_col1\" class=\"data row7 col1\" >0.017905</td>\n",
       "                        <td id=\"T_c3089_row7_col2\" class=\"data row7 col2\" >-0.104683</td>\n",
       "                        <td id=\"T_c3089_row7_col3\" class=\"data row7 col3\" >-0.070517</td>\n",
       "                        <td id=\"T_c3089_row7_col4\" class=\"data row7 col4\" >0.401118</td>\n",
       "                        <td id=\"T_c3089_row7_col5\" class=\"data row7 col5\" >-0.061147</td>\n",
       "                        <td id=\"T_c3089_row7_col6\" class=\"data row7 col6\" >0.116714</td>\n",
       "                        <td id=\"T_c3089_row7_col7\" class=\"data row7 col7\" >1.000000</td>\n",
       "                        <td id=\"T_c3089_row7_col8\" class=\"data row7 col8\" >-0.068186</td>\n",
       "                        <td id=\"T_c3089_row7_col9\" class=\"data row7 col9\" >-0.003827</td>\n",
       "                        <td id=\"T_c3089_row7_col10\" class=\"data row7 col10\" >0.081782</td>\n",
       "                        <td id=\"T_c3089_row7_col11\" class=\"data row7 col11\" >0.034840</td>\n",
       "                        <td id=\"T_c3089_row7_col12\" class=\"data row7 col12\" >-0.064643</td>\n",
       "                        <td id=\"T_c3089_row7_col13\" class=\"data row7 col13\" >0.045815</td>\n",
       "            </tr>\n",
       "            <tr>\n",
       "                        <th id=\"T_c3089_level0_row8\" class=\"row_heading level0 row8\" >job_Employed</th>\n",
       "                        <td id=\"T_c3089_row8_col0\" class=\"data row8 col0\" >-0.002460</td>\n",
       "                        <td id=\"T_c3089_row8_col1\" class=\"data row8 col1\" >-0.035817</td>\n",
       "                        <td id=\"T_c3089_row8_col2\" class=\"data row8 col2\" >0.178132</td>\n",
       "                        <td id=\"T_c3089_row8_col3\" class=\"data row8 col3\" >0.034775</td>\n",
       "                        <td id=\"T_c3089_row8_col4\" class=\"data row8 col4\" >-0.020995</td>\n",
       "                        <td id=\"T_c3089_row8_col5\" class=\"data row8 col5\" >0.007217</td>\n",
       "                        <td id=\"T_c3089_row8_col6\" class=\"data row8 col6\" >-0.018123</td>\n",
       "                        <td id=\"T_c3089_row8_col7\" class=\"data row8 col7\" >-0.068186</td>\n",
       "                        <td id=\"T_c3089_row8_col8\" class=\"data row8 col8\" >1.000000</td>\n",
       "                        <td id=\"T_c3089_row8_col9\" class=\"data row8 col9\" >-0.512803</td>\n",
       "                        <td id=\"T_c3089_row8_col10\" class=\"data row8 col10\" >-0.821871</td>\n",
       "                        <td id=\"T_c3089_row8_col11\" class=\"data row8 col11\" >-0.013982</td>\n",
       "                        <td id=\"T_c3089_row8_col12\" class=\"data row8 col12\" >-0.001758</td>\n",
       "                        <td id=\"T_c3089_row8_col13\" class=\"data row8 col13\" >0.012116</td>\n",
       "            </tr>\n",
       "            <tr>\n",
       "                        <th id=\"T_c3089_level0_row9\" class=\"row_heading level0 row9\" >job_Self-employed</th>\n",
       "                        <td id=\"T_c3089_row9_col0\" class=\"data row9 col0\" >0.008064</td>\n",
       "                        <td id=\"T_c3089_row9_col1\" class=\"data row9 col1\" >-0.002064</td>\n",
       "                        <td id=\"T_c3089_row9_col2\" class=\"data row9 col2\" >-0.035287</td>\n",
       "                        <td id=\"T_c3089_row9_col3\" class=\"data row9 col3\" >0.006331</td>\n",
       "                        <td id=\"T_c3089_row9_col4\" class=\"data row9 col4\" >0.000130</td>\n",
       "                        <td id=\"T_c3089_row9_col5\" class=\"data row9 col5\" >0.032040</td>\n",
       "                        <td id=\"T_c3089_row9_col6\" class=\"data row9 col6\" >0.005772</td>\n",
       "                        <td id=\"T_c3089_row9_col7\" class=\"data row9 col7\" >-0.003827</td>\n",
       "                        <td id=\"T_c3089_row9_col8\" class=\"data row9 col8\" >-0.512803</td>\n",
       "                        <td id=\"T_c3089_row9_col9\" class=\"data row9 col9\" >1.000000</td>\n",
       "                        <td id=\"T_c3089_row9_col10\" class=\"data row9 col10\" >-0.067611</td>\n",
       "                        <td id=\"T_c3089_row9_col11\" class=\"data row9 col11\" >-0.022269</td>\n",
       "                        <td id=\"T_c3089_row9_col12\" class=\"data row9 col12\" >0.031850</td>\n",
       "                        <td id=\"T_c3089_row9_col13\" class=\"data row9 col13\" >-0.018858</td>\n",
       "            </tr>\n",
       "            <tr>\n",
       "                        <th id=\"T_c3089_level0_row10\" class=\"row_heading level0 row10\" >job_Unemployed</th>\n",
       "                        <td id=\"T_c3089_row10_col0\" class=\"data row10 col0\" >-0.002492</td>\n",
       "                        <td id=\"T_c3089_row10_col1\" class=\"data row10 col1\" >0.042994</td>\n",
       "                        <td id=\"T_c3089_row10_col2\" class=\"data row10 col2\" >-0.183600</td>\n",
       "                        <td id=\"T_c3089_row10_col3\" class=\"data row10 col3\" >-0.044615</td>\n",
       "                        <td id=\"T_c3089_row10_col4\" class=\"data row10 col4\" >0.024313</td>\n",
       "                        <td id=\"T_c3089_row10_col5\" class=\"data row10 col5\" >-0.029648</td>\n",
       "                        <td id=\"T_c3089_row10_col6\" class=\"data row10 col6\" >0.017232</td>\n",
       "                        <td id=\"T_c3089_row10_col7\" class=\"data row10 col7\" >0.081782</td>\n",
       "                        <td id=\"T_c3089_row10_col8\" class=\"data row10 col8\" >-0.821871</td>\n",
       "                        <td id=\"T_c3089_row10_col9\" class=\"data row10 col9\" >-0.067611</td>\n",
       "                        <td id=\"T_c3089_row10_col10\" class=\"data row10 col10\" >1.000000</td>\n",
       "                        <td id=\"T_c3089_row10_col11\" class=\"data row10 col11\" >0.031026</td>\n",
       "                        <td id=\"T_c3089_row10_col12\" class=\"data row10 col12\" >-0.019092</td>\n",
       "                        <td id=\"T_c3089_row10_col13\" class=\"data row10 col13\" >-0.001567</td>\n",
       "            </tr>\n",
       "            <tr>\n",
       "                        <th id=\"T_c3089_level0_row11\" class=\"row_heading level0 row11\" >marital_divorced</th>\n",
       "                        <td id=\"T_c3089_row11_col0\" class=\"data row11 col0\" >0.048878</td>\n",
       "                        <td id=\"T_c3089_row11_col1\" class=\"data row11 col1\" >-0.036284</td>\n",
       "                        <td id=\"T_c3089_row11_col2\" class=\"data row11 col2\" >-0.001197</td>\n",
       "                        <td id=\"T_c3089_row11_col3\" class=\"data row11 col3\" >0.017798</td>\n",
       "                        <td id=\"T_c3089_row11_col4\" class=\"data row11 col4\" >0.021373</td>\n",
       "                        <td id=\"T_c3089_row11_col5\" class=\"data row11 col5\" >-0.022157</td>\n",
       "                        <td id=\"T_c3089_row11_col6\" class=\"data row11 col6\" >-0.022158</td>\n",
       "                        <td id=\"T_c3089_row11_col7\" class=\"data row11 col7\" >0.034840</td>\n",
       "                        <td id=\"T_c3089_row11_col8\" class=\"data row11 col8\" >-0.013982</td>\n",
       "                        <td id=\"T_c3089_row11_col9\" class=\"data row11 col9\" >-0.022269</td>\n",
       "                        <td id=\"T_c3089_row11_col10\" class=\"data row11 col10\" >0.031026</td>\n",
       "                        <td id=\"T_c3089_row11_col11\" class=\"data row11 col11\" >1.000000</td>\n",
       "                        <td id=\"T_c3089_row11_col12\" class=\"data row11 col12\" >-0.463175</td>\n",
       "                        <td id=\"T_c3089_row11_col13\" class=\"data row11 col13\" >-0.218091</td>\n",
       "            </tr>\n",
       "            <tr>\n",
       "                        <th id=\"T_c3089_level0_row12\" class=\"row_heading level0 row12\" >marital_married</th>\n",
       "                        <td id=\"T_c3089_row12_col0\" class=\"data row12 col0\" >-0.039031</td>\n",
       "                        <td id=\"T_c3089_row12_col1\" class=\"data row12 col1\" >0.017158</td>\n",
       "                        <td id=\"T_c3089_row12_col2\" class=\"data row12 col2\" >0.038432</td>\n",
       "                        <td id=\"T_c3089_row12_col3\" class=\"data row12 col3\" >0.032272</td>\n",
       "                        <td id=\"T_c3089_row12_col4\" class=\"data row12 col4\" >-0.036436</td>\n",
       "                        <td id=\"T_c3089_row12_col5\" class=\"data row12 col5\" >0.022000</td>\n",
       "                        <td id=\"T_c3089_row12_col6\" class=\"data row12 col6\" >-0.017640</td>\n",
       "                        <td id=\"T_c3089_row12_col7\" class=\"data row12 col7\" >-0.064643</td>\n",
       "                        <td id=\"T_c3089_row12_col8\" class=\"data row12 col8\" >-0.001758</td>\n",
       "                        <td id=\"T_c3089_row12_col9\" class=\"data row12 col9\" >0.031850</td>\n",
       "                        <td id=\"T_c3089_row12_col10\" class=\"data row12 col10\" >-0.019092</td>\n",
       "                        <td id=\"T_c3089_row12_col11\" class=\"data row12 col11\" >-0.463175</td>\n",
       "                        <td id=\"T_c3089_row12_col12\" class=\"data row12 col12\" >1.000000</td>\n",
       "                        <td id=\"T_c3089_row12_col13\" class=\"data row12 col13\" >-0.763919</td>\n",
       "            </tr>\n",
       "            <tr>\n",
       "                        <th id=\"T_c3089_level0_row13\" class=\"row_heading level0 row13\" >marital_single</th>\n",
       "                        <td id=\"T_c3089_row13_col0\" class=\"data row13 col0\" >0.007391</td>\n",
       "                        <td id=\"T_c3089_row13_col1\" class=\"data row13 col1\" >0.007525</td>\n",
       "                        <td id=\"T_c3089_row13_col2\" class=\"data row13 col2\" >-0.041449</td>\n",
       "                        <td id=\"T_c3089_row13_col3\" class=\"data row13 col3\" >-0.048496</td>\n",
       "                        <td id=\"T_c3089_row13_col4\" class=\"data row13 col4\" >0.024560</td>\n",
       "                        <td id=\"T_c3089_row13_col5\" class=\"data row13 col5\" >-0.008093</td>\n",
       "                        <td id=\"T_c3089_row13_col6\" class=\"data row13 col6\" >0.035558</td>\n",
       "                        <td id=\"T_c3089_row13_col7\" class=\"data row13 col7\" >0.045815</td>\n",
       "                        <td id=\"T_c3089_row13_col8\" class=\"data row13 col8\" >0.012116</td>\n",
       "                        <td id=\"T_c3089_row13_col9\" class=\"data row13 col9\" >-0.018858</td>\n",
       "                        <td id=\"T_c3089_row13_col10\" class=\"data row13 col10\" >-0.001567</td>\n",
       "                        <td id=\"T_c3089_row13_col11\" class=\"data row13 col11\" >-0.218091</td>\n",
       "                        <td id=\"T_c3089_row13_col12\" class=\"data row13 col12\" >-0.763919</td>\n",
       "                        <td id=\"T_c3089_row13_col13\" class=\"data row13 col13\" >1.000000</td>\n",
       "            </tr>\n",
       "    </tbody></table>"
      ],
      "text/plain": [
       "<pandas.io.formats.style.Styler at 0x1ba6e1b7e80>"
      ]
     },
     "execution_count": 26,
     "metadata": {},
     "output_type": "execute_result"
    }
   ],
   "source": [
    "corr = bank.corr(method='pearson')\n",
    "correlated_features = set()\n",
    "\n",
    "for i in range(len(corr .columns)):\n",
    "    for j in range(i):\n",
    "        if abs(corr.iloc[i, j]) > 0.7:\n",
    "            colname = corr.columns[i]\n",
    "            correlated_features.add(colname)\n",
    "print(correlated_features)\n",
    "\n",
    "# heatmap\n",
    "corr.style.background_gradient(cmap='coolwarm')"
   ]
  },
  {
   "cell_type": "code",
   "execution_count": 27,
   "id": "d5233e7f",
   "metadata": {},
   "outputs": [
    {
     "name": "stdout",
     "output_type": "stream",
     "text": [
      "set()\n"
     ]
    }
   ],
   "source": [
    "# remove correlated features\n",
    "bank = bank.drop(['job_Unemployed','marital_single'],axis = 1)\n",
    "\n",
    "corr = bank.corr(method='pearson')\n",
    "correlated_features = set()\n",
    "\n",
    "for i in range(len(corr .columns)):\n",
    "    for j in range(i):\n",
    "        if abs(corr.iloc[i, j]) > 0.7:\n",
    "            colname = corr.columns[i]\n",
    "            correlated_features.add(colname)\n",
    "print(correlated_features)"
   ]
  },
  {
   "cell_type": "markdown",
   "id": "b3b096a6",
   "metadata": {},
   "source": [
    "## Split train : valid : test = 0.4 : 0.35 : 0.25"
   ]
  },
  {
   "cell_type": "code",
   "execution_count": 28,
   "id": "8e9ba2bd",
   "metadata": {},
   "outputs": [
    {
     "name": "stdout",
     "output_type": "stream",
     "text": [
      "1808 1573 1140\n"
     ]
    }
   ],
   "source": [
    "train, rem = train_test_split(bank, test_size=0.6)\n",
    "valid, test = train_test_split(rem, test_size=0.42)\n",
    "\n",
    "print(len(train),len(valid),len(test))"
   ]
  },
  {
   "cell_type": "code",
   "execution_count": 29,
   "id": "b0e69d4d",
   "metadata": {},
   "outputs": [
    {
     "data": {
      "text/html": [
       "<div>\n",
       "<style scoped>\n",
       "    .dataframe tbody tr th:only-of-type {\n",
       "        vertical-align: middle;\n",
       "    }\n",
       "\n",
       "    .dataframe tbody tr th {\n",
       "        vertical-align: top;\n",
       "    }\n",
       "\n",
       "    .dataframe thead th {\n",
       "        text-align: right;\n",
       "    }\n",
       "</style>\n",
       "<table border=\"1\" class=\"dataframe\">\n",
       "  <thead>\n",
       "    <tr style=\"text-align: right;\">\n",
       "      <th></th>\n",
       "      <th>age</th>\n",
       "      <th>education</th>\n",
       "      <th>default</th>\n",
       "      <th>balance</th>\n",
       "      <th>housing</th>\n",
       "      <th>loan</th>\n",
       "      <th>contact</th>\n",
       "      <th>day</th>\n",
       "      <th>month</th>\n",
       "      <th>duration</th>\n",
       "      <th>campaign</th>\n",
       "      <th>pdays</th>\n",
       "      <th>previous</th>\n",
       "      <th>poutcome</th>\n",
       "      <th>y</th>\n",
       "      <th>job_Employed</th>\n",
       "      <th>job_Self-employed</th>\n",
       "      <th>marital_divorced</th>\n",
       "      <th>marital_married</th>\n",
       "    </tr>\n",
       "  </thead>\n",
       "  <tbody>\n",
       "    <tr>\n",
       "      <th>2111</th>\n",
       "      <td>1</td>\n",
       "      <td>0.5</td>\n",
       "      <td>0</td>\n",
       "      <td>0</td>\n",
       "      <td>0</td>\n",
       "      <td>0</td>\n",
       "      <td>0</td>\n",
       "      <td>0</td>\n",
       "      <td>3</td>\n",
       "      <td>38</td>\n",
       "      <td>16</td>\n",
       "      <td>0</td>\n",
       "      <td>0</td>\n",
       "      <td>3</td>\n",
       "      <td>0</td>\n",
       "      <td>1</td>\n",
       "      <td>0</td>\n",
       "      <td>0</td>\n",
       "      <td>0</td>\n",
       "    </tr>\n",
       "    <tr>\n",
       "      <th>1416</th>\n",
       "      <td>1</td>\n",
       "      <td>0.25</td>\n",
       "      <td>0</td>\n",
       "      <td>578</td>\n",
       "      <td>1</td>\n",
       "      <td>0</td>\n",
       "      <td>2</td>\n",
       "      <td>0</td>\n",
       "      <td>2</td>\n",
       "      <td>112</td>\n",
       "      <td>2</td>\n",
       "      <td>0</td>\n",
       "      <td>0</td>\n",
       "      <td>3</td>\n",
       "      <td>0</td>\n",
       "      <td>1</td>\n",
       "      <td>0</td>\n",
       "      <td>0</td>\n",
       "      <td>0</td>\n",
       "    </tr>\n",
       "    <tr>\n",
       "      <th>1755</th>\n",
       "      <td>1</td>\n",
       "      <td>0.25</td>\n",
       "      <td>0</td>\n",
       "      <td>226</td>\n",
       "      <td>1</td>\n",
       "      <td>0</td>\n",
       "      <td>2</td>\n",
       "      <td>0</td>\n",
       "      <td>2</td>\n",
       "      <td>762</td>\n",
       "      <td>3</td>\n",
       "      <td>0</td>\n",
       "      <td>0</td>\n",
       "      <td>3</td>\n",
       "      <td>1</td>\n",
       "      <td>1</td>\n",
       "      <td>0</td>\n",
       "      <td>0</td>\n",
       "      <td>1</td>\n",
       "    </tr>\n",
       "    <tr>\n",
       "      <th>3840</th>\n",
       "      <td>1</td>\n",
       "      <td>0.25</td>\n",
       "      <td>0</td>\n",
       "      <td>425</td>\n",
       "      <td>1</td>\n",
       "      <td>0</td>\n",
       "      <td>1</td>\n",
       "      <td>0</td>\n",
       "      <td>3</td>\n",
       "      <td>693</td>\n",
       "      <td>2</td>\n",
       "      <td>0</td>\n",
       "      <td>0</td>\n",
       "      <td>3</td>\n",
       "      <td>0</td>\n",
       "      <td>1</td>\n",
       "      <td>0</td>\n",
       "      <td>0</td>\n",
       "      <td>1</td>\n",
       "    </tr>\n",
       "    <tr>\n",
       "      <th>3944</th>\n",
       "      <td>1</td>\n",
       "      <td>0.5</td>\n",
       "      <td>0</td>\n",
       "      <td>171</td>\n",
       "      <td>1</td>\n",
       "      <td>0</td>\n",
       "      <td>0</td>\n",
       "      <td>0</td>\n",
       "      <td>3</td>\n",
       "      <td>73</td>\n",
       "      <td>6</td>\n",
       "      <td>0</td>\n",
       "      <td>0</td>\n",
       "      <td>3</td>\n",
       "      <td>0</td>\n",
       "      <td>1</td>\n",
       "      <td>0</td>\n",
       "      <td>0</td>\n",
       "      <td>1</td>\n",
       "    </tr>\n",
       "  </tbody>\n",
       "</table>\n",
       "</div>"
      ],
      "text/plain": [
       "     age education  default  balance  housing  loan contact day month  \\\n",
       "2111   1       0.5        0        0        0     0       0   0     3   \n",
       "1416   1      0.25        0      578        1     0       2   0     2   \n",
       "1755   1      0.25        0      226        1     0       2   0     2   \n",
       "3840   1      0.25        0      425        1     0       1   0     3   \n",
       "3944   1       0.5        0      171        1     0       0   0     3   \n",
       "\n",
       "      duration  campaign pdays  previous poutcome  y  job_Employed  \\\n",
       "2111        38        16     0         0        3  0             1   \n",
       "1416       112         2     0         0        3  0             1   \n",
       "1755       762         3     0         0        3  1             1   \n",
       "3840       693         2     0         0        3  0             1   \n",
       "3944        73         6     0         0        3  0             1   \n",
       "\n",
       "      job_Self-employed  marital_divorced  marital_married  \n",
       "2111                  0                 0                0  \n",
       "1416                  0                 0                0  \n",
       "1755                  0                 0                1  \n",
       "3840                  0                 0                1  \n",
       "3944                  0                 0                1  "
      ]
     },
     "execution_count": 29,
     "metadata": {},
     "output_type": "execute_result"
    }
   ],
   "source": [
    "train.head()"
   ]
  },
  {
   "cell_type": "code",
   "execution_count": 30,
   "id": "b0a043fe",
   "metadata": {},
   "outputs": [],
   "source": [
    "X_train = train.drop(['y'],1)\n",
    "y_train = train['y']\n",
    "\n",
    "X_valid = valid.drop(['y'],1)\n",
    "y_valid = valid['y']\n",
    "\n",
    "X_test = test.drop(['y'],1)\n",
    "y_test = test['y']"
   ]
  },
  {
   "cell_type": "markdown",
   "id": "43c6fd1b",
   "metadata": {},
   "source": [
    "### Standardization"
   ]
  },
  {
   "cell_type": "code",
   "execution_count": 31,
   "id": "4c7d789b",
   "metadata": {},
   "outputs": [],
   "source": [
    "# train\n",
    "X_train = StandardScaler().fit_transform(X_train)\n",
    "\n",
    "# valid\n",
    "X_valid = StandardScaler().fit_transform(X_valid)\n",
    "\n",
    "# test\n",
    "X_test = StandardScaler().fit_transform(X_test)"
   ]
  },
  {
   "cell_type": "markdown",
   "id": "87df3078",
   "metadata": {},
   "source": [
    "## Models"
   ]
  },
  {
   "cell_type": "code",
   "execution_count": 32,
   "id": "72d9e2d2",
   "metadata": {},
   "outputs": [],
   "source": [
    "from dmba import classificationSummary, gainsChart\n",
    "from sklearn import metrics\n",
    "from matplotlib.pyplot import figure\n",
    "from sklearn.metrics import roc_curve, roc_auc_score\n",
    "\n",
    "# define the confusion matrices\n",
    "\n",
    "def confusionMatrices(model, title):\n",
    "    print(title + '- training results')\n",
    "    classificationSummary(y_train, model.predict(X_train))\n",
    "    print(title + '- test results')\n",
    "    valid_pred = model.predict(X_valid)\n",
    "    classificationSummary(y_valid, valid_pred )"
   ]
  },
  {
   "cell_type": "markdown",
   "id": "ccb057d3",
   "metadata": {},
   "source": [
    "#### Logistic Regression"
   ]
  },
  {
   "cell_type": "code",
   "execution_count": 33,
   "id": "883e9317",
   "metadata": {},
   "outputs": [
    {
     "name": "stdout",
     "output_type": "stream",
     "text": [
      "Logistic regression- training results\n",
      "Confusion Matrix (Accuracy 0.8971)\n",
      "\n",
      "       Prediction\n",
      "Actual    0    1\n",
      "     0 1581   28\n",
      "     1  158   41\n",
      "Logistic regression- test results\n",
      "Confusion Matrix (Accuracy 0.8907)\n",
      "\n",
      "       Prediction\n",
      "Actual    0    1\n",
      "     0 1364   21\n",
      "     1  151   37\n"
     ]
    }
   ],
   "source": [
    "from sklearn.linear_model import LogisticRegressionCV\n",
    "\n",
    "LR = LogisticRegressionCV(penalty=\"l2\", solver='saga', cv=5, max_iter=5000)\n",
    "\n",
    "LR.fit(X_train, y_train)\n",
    "\n",
    "LR_confusion = confusionMatrices(LR, 'Logistic regression')"
   ]
  },
  {
   "cell_type": "markdown",
   "id": "1ce99bf8",
   "metadata": {},
   "source": [
    "#### Decision Tree (CART)"
   ]
  },
  {
   "cell_type": "code",
   "execution_count": 34,
   "id": "a4b68563",
   "metadata": {},
   "outputs": [
    {
     "name": "stdout",
     "output_type": "stream",
     "text": [
      "Decision Tree- training results\n",
      "Confusion Matrix (Accuracy 0.9071)\n",
      "\n",
      "       Prediction\n",
      "Actual    0    1\n",
      "     0 1560   49\n",
      "     1  119   80\n",
      "Decision Tree- test results\n",
      "Confusion Matrix (Accuracy 0.8900)\n",
      "\n",
      "       Prediction\n",
      "Actual    0    1\n",
      "     0 1340   45\n",
      "     1  128   60\n"
     ]
    }
   ],
   "source": [
    "from sklearn.tree import plot_tree, DecisionTreeClassifier\n",
    "import matplotlib.pyplot as plt\n",
    "\n",
    "DT = DecisionTreeClassifier(criterion = \"gini\", min_samples_split=30, max_leaf_nodes=10)\n",
    "\n",
    "DT.fit(X_train,y_train)\n",
    "\n",
    "DT_confusion = confusionMatrices(DT, 'Decision Tree')"
   ]
  },
  {
   "cell_type": "markdown",
   "id": "1f5cce06",
   "metadata": {},
   "source": [
    "#### Random Forest"
   ]
  },
  {
   "cell_type": "code",
   "execution_count": 35,
   "id": "cb4518a1",
   "metadata": {},
   "outputs": [
    {
     "name": "stdout",
     "output_type": "stream",
     "text": [
      "Random Forest- training results\n",
      "Confusion Matrix (Accuracy 1.0000)\n",
      "\n",
      "       Prediction\n",
      "Actual    0    1\n",
      "     0 1609    0\n",
      "     1    0  199\n",
      "Random Forest- test results\n",
      "Confusion Matrix (Accuracy 0.8792)\n",
      "\n",
      "       Prediction\n",
      "Actual    0    1\n",
      "     0 1345   40\n",
      "     1  150   38\n"
     ]
    }
   ],
   "source": [
    "from sklearn.ensemble import RandomForestClassifier\n",
    "from sklearn.feature_selection import SelectFromModel\n",
    "\n",
    "RF = RandomForestClassifier(n_estimators=100, random_state=12345, n_jobs=-1)\n",
    "\n",
    "RF.fit(X_train, y_train)\n",
    "\n",
    "RF_confusion = confusionMatrices(RF, 'Random Forest')"
   ]
  },
  {
   "cell_type": "markdown",
   "id": "0e26f34a",
   "metadata": {},
   "source": [
    "#### Neural Network"
   ]
  },
  {
   "cell_type": "code",
   "execution_count": 36,
   "id": "8b7bb2ca",
   "metadata": {},
   "outputs": [
    {
     "name": "stdout",
     "output_type": "stream",
     "text": [
      "Neural network- training results\n",
      "Confusion Matrix (Accuracy 0.9192)\n",
      "\n",
      "       Prediction\n",
      "Actual    0    1\n",
      "     0 1595   14\n",
      "     1  132   67\n",
      "Neural network- test results\n",
      "Confusion Matrix (Accuracy 0.8824)\n",
      "\n",
      "       Prediction\n",
      "Actual    0    1\n",
      "     0 1353   32\n",
      "     1  153   35\n"
     ]
    }
   ],
   "source": [
    "from sklearn.neural_network import MLPClassifier\n",
    "from sklearn.model_selection import GridSearchCV\n",
    "\n",
    "param_grid = {\n",
    "    'hidden_layer_sizes': list(range(2, 10)),\n",
    "}\n",
    "NN = MLPClassifier(activation='logistic', solver='lbfgs', random_state=12345, max_iter=5000)\n",
    "\n",
    "gridSearch = GridSearchCV(NN, param_grid, cv=5, n_jobs=-1)\n",
    "gridSearch.fit(X_train, y_train)\n",
    "NN = gridSearch.best_estimator_\n",
    "\n",
    "NN_confusion = confusionMatrices(NN, 'Neural network')"
   ]
  },
  {
   "cell_type": "markdown",
   "id": "ab93ce79",
   "metadata": {},
   "source": [
    "#### Linear Discriminant Analysis"
   ]
  },
  {
   "cell_type": "code",
   "execution_count": 37,
   "id": "1974e899",
   "metadata": {},
   "outputs": [
    {
     "name": "stdout",
     "output_type": "stream",
     "text": [
      "Linear Discriminant Analysis- training results\n",
      "Confusion Matrix (Accuracy 0.9004)\n",
      "\n",
      "       Prediction\n",
      "Actual    0    1\n",
      "     0 1554   55\n",
      "     1  125   74\n",
      "Linear Discriminant Analysis- test results\n",
      "Confusion Matrix (Accuracy 0.8951)\n",
      "\n",
      "       Prediction\n",
      "Actual    0    1\n",
      "     0 1345   40\n",
      "     1  125   63\n"
     ]
    }
   ],
   "source": [
    "from sklearn.discriminant_analysis import LinearDiscriminantAnalysis\n",
    "\n",
    "LDA = LinearDiscriminantAnalysis()\n",
    "\n",
    "LDA.fit(X_train, y_train)\n",
    "\n",
    "LDA_confusion = confusionMatrices(LDA, 'Linear Discriminant Analysis')"
   ]
  },
  {
   "cell_type": "markdown",
   "id": "bb47a770",
   "metadata": {},
   "source": [
    "## Evaluation"
   ]
  },
  {
   "cell_type": "markdown",
   "id": "c8b2d19f",
   "metadata": {},
   "source": [
    "#### Accuracy score"
   ]
  },
  {
   "cell_type": "code",
   "execution_count": 38,
   "id": "e5109ef5",
   "metadata": {},
   "outputs": [
    {
     "name": "stdout",
     "output_type": "stream",
     "text": [
      "Accuracy score for Logistic Regression is: (0.897, 0.891)\n",
      "Accuracy score for Decision Tree is: (0.907, 0.89)\n",
      "Accuracy score for Random Forest is: (1.0, 0.879)\n",
      "Accuracy score for Neural Network is: (0.919, 0.882)\n",
      "Accuracy score for Linear Discriminant Analysis is: (0.9, 0.895)\n"
     ]
    }
   ],
   "source": [
    "# accuracy score function\n",
    "\n",
    "from sklearn.metrics import accuracy_score\n",
    "\n",
    "def accuracy(model):\n",
    "    \n",
    "    accuracy_train = accuracy_score(y_train, model.predict(X_train))\n",
    "    accuracy_valid = accuracy_score(y_valid, model.predict(X_valid))\n",
    "    \n",
    "    return round(accuracy_train,3), round(accuracy_valid,3)\n",
    "\n",
    "print('Accuracy score for Logistic Regression is:', accuracy(LR))\n",
    "print('Accuracy score for Decision Tree is:', accuracy(DT))\n",
    "print('Accuracy score for Random Forest is:', accuracy(RF))\n",
    "print('Accuracy score for Neural Network is:', accuracy(NN))\n",
    "print('Accuracy score for Linear Discriminant Analysis is:', accuracy(LDA))"
   ]
  },
  {
   "cell_type": "markdown",
   "id": "b0a932a7",
   "metadata": {},
   "source": [
    "#### F1 score"
   ]
  },
  {
   "cell_type": "code",
   "execution_count": 39,
   "id": "352c5428",
   "metadata": {},
   "outputs": [
    {
     "name": "stdout",
     "output_type": "stream",
     "text": [
      "f1 score for Logistic Regression is: (0.87, 0.86)\n",
      "f1 score for Decision Tree is: (0.9, 0.88)\n",
      "f1 score for Random Forest is: (1.0, 0.86)\n",
      "f1 score for Neural Network is: (0.9, 0.86)\n",
      "f1 score for Linear Discriminant Analysis is: (0.89, 0.88)\n"
     ]
    }
   ],
   "source": [
    "# f1 score function\n",
    "\n",
    "from sklearn.metrics import f1_score\n",
    "\n",
    "def f1(model):\n",
    "    \n",
    "    f1_train = f1_score(y_train, model.predict(X_train), average='weighted')\n",
    "    f1_valid = f1_score(y_valid, model.predict(X_valid), average='weighted')\n",
    "    \n",
    "    return round(f1_train,2), round(f1_valid,2)\n",
    "\n",
    "print('f1 score for Logistic Regression is:', f1(LR))\n",
    "print('f1 score for Decision Tree is:', f1(DT))\n",
    "print('f1 score for Random Forest is:', f1(RF))\n",
    "print('f1 score for Neural Network is:', f1(NN))\n",
    "print('f1 score for Linear Discriminant Analysis is:', f1(LDA))"
   ]
  },
  {
   "cell_type": "markdown",
   "id": "6b41e149",
   "metadata": {},
   "source": [
    "#### Gains Chart"
   ]
  },
  {
   "cell_type": "code",
   "execution_count": 40,
   "id": "f380fca9",
   "metadata": {},
   "outputs": [
    {
     "data": {
      "text/plain": [
       "<matplotlib.legend.Legend at 0x1ba70161550>"
      ]
     },
     "execution_count": 40,
     "metadata": {},
     "output_type": "execute_result"
    },
    {
     "data": {
      "image/png": "[encoded data removed]",
      "text/plain": [
       "<Figure size 864x576 with 1 Axes>"
      ]
     },
     "metadata": {
      "needs_background": "light"
     },
     "output_type": "display_data"
    }
   ],
   "source": [
    "def modelGainsChart(model, title, ax=None):\n",
    "    \n",
    "    \n",
    "    result = pd.DataFrame({\n",
    "        'actual': y_valid,  # use validate set\n",
    "        'prob': model.predict_proba(X_valid)[:, 1]\n",
    "    })\n",
    "\n",
    "    result = result.sort_values(by=['prob'], ascending=False).reset_index(drop=True)\n",
    "    \n",
    "    r = random.random()\n",
    "    b = random.random()\n",
    "    g = random.random()\n",
    "    color = (r, g, b)\n",
    "    \n",
    "    ax = gainsChart(result.actual, label = title, ax=ax, figsize=[12, 8], color = color)\n",
    "    ax.set_title(title)\n",
    "    \n",
    "    return ax\n",
    "\n",
    "\n",
    "\n",
    "ax = modelGainsChart(LR, 'Logistic Regression')\n",
    "modelGainsChart(DT, 'Decision Tree', ax)\n",
    "modelGainsChart(RF, 'Random Forest', ax)\n",
    "modelGainsChart(NN, 'Neural Network', ax)\n",
    "modelGainsChart(LDA, 'Linear Discriminant Analysis', ax)\n",
    "\n",
    "ax.set_title('All models')\n",
    "ax.set_xlabel('# of records')\n",
    "ax.set_ylabel('Cumulative gains')\n",
    "ax.legend(loc='center left', bbox_to_anchor=(1, 0.5))"
   ]
  },
  {
   "cell_type": "markdown",
   "id": "d616a6f2",
   "metadata": {},
   "source": [
    "#### ROC Curve"
   ]
  },
  {
   "cell_type": "code",
   "execution_count": 41,
   "id": "1d2ee1f4",
   "metadata": {},
   "outputs": [
    {
     "data": {
      "text/plain": [
       "<Figure size 432x288 with 0 Axes>"
      ]
     },
     "metadata": {},
     "output_type": "display_data"
    },
    {
     "data": {
      "image/png": "[encoded data removed]",
      "text/plain": [
       "<Figure size 800x640 with 1 Axes>"
      ]
     },
     "metadata": {
      "needs_background": "light"
     },
     "output_type": "display_data"
    }
   ],
   "source": [
    "from sklearn import metrics\n",
    "from matplotlib.pyplot import figure\n",
    "from sklearn.metrics import roc_curve, roc_auc_score\n",
    "\n",
    "# DT\n",
    "probs_dt = DT.predict_proba(X_valid)\n",
    "preds_dt = probs_dt[:,1]\n",
    "\n",
    "\n",
    "# RF\n",
    "probs_rf = RF.predict_proba(X_valid)\n",
    "preds_rf = probs_rf[:,1]\n",
    "\n",
    "# NN\n",
    "probs_nn = NN.predict_proba(X_valid)\n",
    "preds_nn = probs_nn[:,1]\n",
    "\n",
    "# LDA\n",
    "probs_lda = LDA.predict_proba(X_valid)\n",
    "preds_lda = probs_lda[:,1]\n",
    "\n",
    "\n",
    "fpr1, tpr1, threshold1 = roc_curve(y_valid, LR.predict(X_valid))\n",
    "fpr2, tpr2, threshold2 = metrics.roc_curve(y_valid, preds_dt)\n",
    "fpr3, tpr3, threshold3 = metrics.roc_curve(y_valid, preds_rf)\n",
    "fpr4, tpr4, threshold4 = metrics.roc_curve(y_valid, preds_nn)\n",
    "fpr5, tpr5, threshold5 = metrics.roc_curve(y_valid, preds_lda)\n",
    "\n",
    "\n",
    "lr_roc_auc = metrics.auc(fpr1, tpr1)\n",
    "dt_roc_auc = metrics.auc(fpr2, tpr2)\n",
    "rf_roc_auc = metrics.auc(fpr3, tpr3)\n",
    "nn_roc_auc = metrics.auc(fpr4, tpr4)\n",
    "lda_roc_auc = metrics.auc(fpr5, tpr5)\n",
    "\n",
    "\n",
    "plt.figure()\n",
    "figure(figsize=(10, 8), dpi=80)\n",
    "plt.plot([0, 1], [0, 1],'r--')\n",
    "\n",
    "\n",
    "plt.plot(fpr1, tpr1, label='Logistic Regression (area = %0.2f)' % lr_roc_auc)\n",
    "plt.plot(fpr2, tpr2, label = 'Decision Tree (area = %0.2f)' % dt_roc_auc)\n",
    "plt.plot(fpr3, tpr3, label = 'Random Forest (area = %0.2f)' % rf_roc_auc)\n",
    "plt.plot(fpr4, tpr4, label = 'Neural Network (area = %0.2f)' % nn_roc_auc)\n",
    "plt.plot(fpr5, tpr5, label = 'Linear Discriminant Analysis (area = %0.2f)' % lda_roc_auc)\n",
    "\n",
    "\n",
    "\n",
    "\n",
    "plt.xlim([0.0, 1.0])\n",
    "plt.ylim([0.0, 1.05])\n",
    "plt.xlabel('False Positive Rate')\n",
    "plt.ylabel('True Positive Rate')\n",
    "plt.title('Receiver Operating Characteristic')\n",
    "plt.legend(loc=\"lower right\")\n",
    "plt.savefig('Log_ROC')\n",
    "plt.show()"
   ]
  },
  {
   "cell_type": "code",
   "execution_count": null,
   "id": "9d787b15",
   "metadata": {},
   "outputs": [],
   "source": []
  }
 ],
 "metadata": {
  "kernelspec": {
   "display_name": "Python 3",
   "language": "python",
   "name": "python3"
  },
  "language_info": {
   "codemirror_mode": {
    "name": "ipython",
    "version": 3
   },
   "file_extension": ".py",
   "mimetype": "text/x-python",
   "name": "python",
   "nbconvert_exporter": "python",
   "pygments_lexer": "ipython3",
   "version": "3.8.8"
  }
 },
 "nbformat": 4,
 "nbformat_minor": 5
}
