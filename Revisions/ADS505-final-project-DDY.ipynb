{
 "cells": [
  {
   "cell_type": "markdown",
   "id": "e0f3e392",
   "metadata": {},
   "source": [
    "### Import Libraries and Data Set"
   ]
  },
  {
   "cell_type": "code",
   "execution_count": 1,
   "id": "0d4d513c",
   "metadata": {},
   "outputs": [],
   "source": [
    "\n",
    "#Import Libraries\n",
    "\n",
    "import pandas as pd\n",
    "import math\n",
    "import matplotlib.pylab as plt\n",
    "import numpy as np\n",
    "import statsmodels.api as sm\n",
    "\n",
    "from sklearn import preprocessing\n",
    "from sklearn.preprocessing import StandardScaler\n",
    "from sklearn.model_selection import train_test_split, GridSearchCV\n",
    "\n",
    "import warnings\n",
    "warnings.filterwarnings('ignore')"
   ]
  },
  {
   "cell_type": "code",
   "execution_count": 2,
   "id": "f46521c9",
   "metadata": {},
   "outputs": [
    {
     "data": {
      "text/html": [
       "<div>\n",
       "<style scoped>\n",
       "    .dataframe tbody tr th:only-of-type {\n",
       "        vertical-align: middle;\n",
       "    }\n",
       "\n",
       "    .dataframe tbody tr th {\n",
       "        vertical-align: top;\n",
       "    }\n",
       "\n",
       "    .dataframe thead th {\n",
       "        text-align: right;\n",
       "    }\n",
       "</style>\n",
       "<table border=\"1\" class=\"dataframe\">\n",
       "  <thead>\n",
       "    <tr style=\"text-align: right;\">\n",
       "      <th></th>\n",
       "      <th>age</th>\n",
       "      <th>job</th>\n",
       "      <th>marital</th>\n",
       "      <th>education</th>\n",
       "      <th>default</th>\n",
       "      <th>balance</th>\n",
       "      <th>housing</th>\n",
       "      <th>loan</th>\n",
       "      <th>contact</th>\n",
       "      <th>day</th>\n",
       "      <th>month</th>\n",
       "      <th>duration</th>\n",
       "      <th>campaign</th>\n",
       "      <th>pdays</th>\n",
       "      <th>previous</th>\n",
       "      <th>poutcome</th>\n",
       "      <th>y</th>\n",
       "    </tr>\n",
       "  </thead>\n",
       "  <tbody>\n",
       "    <tr>\n",
       "      <th>0</th>\n",
       "      <td>30</td>\n",
       "      <td>unemployed</td>\n",
       "      <td>married</td>\n",
       "      <td>primary</td>\n",
       "      <td>no</td>\n",
       "      <td>1787</td>\n",
       "      <td>no</td>\n",
       "      <td>no</td>\n",
       "      <td>cellular</td>\n",
       "      <td>19</td>\n",
       "      <td>oct</td>\n",
       "      <td>79</td>\n",
       "      <td>1</td>\n",
       "      <td>-1</td>\n",
       "      <td>0</td>\n",
       "      <td>unknown</td>\n",
       "      <td>no</td>\n",
       "    </tr>\n",
       "    <tr>\n",
       "      <th>1</th>\n",
       "      <td>33</td>\n",
       "      <td>services</td>\n",
       "      <td>married</td>\n",
       "      <td>secondary</td>\n",
       "      <td>no</td>\n",
       "      <td>4789</td>\n",
       "      <td>yes</td>\n",
       "      <td>yes</td>\n",
       "      <td>cellular</td>\n",
       "      <td>11</td>\n",
       "      <td>may</td>\n",
       "      <td>220</td>\n",
       "      <td>1</td>\n",
       "      <td>339</td>\n",
       "      <td>4</td>\n",
       "      <td>failure</td>\n",
       "      <td>no</td>\n",
       "    </tr>\n",
       "    <tr>\n",
       "      <th>2</th>\n",
       "      <td>35</td>\n",
       "      <td>management</td>\n",
       "      <td>single</td>\n",
       "      <td>tertiary</td>\n",
       "      <td>no</td>\n",
       "      <td>1350</td>\n",
       "      <td>yes</td>\n",
       "      <td>no</td>\n",
       "      <td>cellular</td>\n",
       "      <td>16</td>\n",
       "      <td>apr</td>\n",
       "      <td>185</td>\n",
       "      <td>1</td>\n",
       "      <td>330</td>\n",
       "      <td>1</td>\n",
       "      <td>failure</td>\n",
       "      <td>no</td>\n",
       "    </tr>\n",
       "    <tr>\n",
       "      <th>3</th>\n",
       "      <td>30</td>\n",
       "      <td>management</td>\n",
       "      <td>married</td>\n",
       "      <td>tertiary</td>\n",
       "      <td>no</td>\n",
       "      <td>1476</td>\n",
       "      <td>yes</td>\n",
       "      <td>yes</td>\n",
       "      <td>unknown</td>\n",
       "      <td>3</td>\n",
       "      <td>jun</td>\n",
       "      <td>199</td>\n",
       "      <td>4</td>\n",
       "      <td>-1</td>\n",
       "      <td>0</td>\n",
       "      <td>unknown</td>\n",
       "      <td>no</td>\n",
       "    </tr>\n",
       "    <tr>\n",
       "      <th>4</th>\n",
       "      <td>59</td>\n",
       "      <td>blue-collar</td>\n",
       "      <td>married</td>\n",
       "      <td>secondary</td>\n",
       "      <td>no</td>\n",
       "      <td>0</td>\n",
       "      <td>yes</td>\n",
       "      <td>no</td>\n",
       "      <td>unknown</td>\n",
       "      <td>5</td>\n",
       "      <td>may</td>\n",
       "      <td>226</td>\n",
       "      <td>1</td>\n",
       "      <td>-1</td>\n",
       "      <td>0</td>\n",
       "      <td>unknown</td>\n",
       "      <td>no</td>\n",
       "    </tr>\n",
       "  </tbody>\n",
       "</table>\n",
       "</div>"
      ],
      "text/plain": [
       "   age          job  marital  education default  balance housing loan  \\\n",
       "0   30   unemployed  married    primary      no     1787      no   no   \n",
       "1   33     services  married  secondary      no     4789     yes  yes   \n",
       "2   35   management   single   tertiary      no     1350     yes   no   \n",
       "3   30   management  married   tertiary      no     1476     yes  yes   \n",
       "4   59  blue-collar  married  secondary      no        0     yes   no   \n",
       "\n",
       "    contact  day month  duration  campaign  pdays  previous poutcome   y  \n",
       "0  cellular   19   oct        79         1     -1         0  unknown  no  \n",
       "1  cellular   11   may       220         1    339         4  failure  no  \n",
       "2  cellular   16   apr       185         1    330         1  failure  no  \n",
       "3   unknown    3   jun       199         4     -1         0  unknown  no  \n",
       "4   unknown    5   may       226         1     -1         0  unknown  no  "
      ]
     },
     "execution_count": 2,
     "metadata": {},
     "output_type": "execute_result"
    }
   ],
   "source": [
    "#Import Data Set\n",
    "\n",
    "bank_df = pd.read_csv('D:/USD-ADS_graduate/ADS-505/ADS505 Final Project/Dataset/bank.csv', sep=';')\n",
    "bank_df.head()"
   ]
  },
  {
   "cell_type": "markdown",
   "id": "644015cc",
   "metadata": {},
   "source": [
    "       1 - age (numeric)\n",
    "       2 - job : type of job (categorical: \"admin.\",\"unknown\",\"unemployed\",\"management\",\"housemaid\",\"entrepreneur\",\"student\", \"blue-collar\",\"self-employed\",\"retired\",\"technician\",\"services\") \n",
    "       3 - marital : marital status (categorical: \"married\",\"divorced\",\"single\"; note: \"divorced\" means divorced or widowed)\n",
    "       4 - education (categorical: \"unknown\",\"secondary\",\"primary\",\"tertiary\")\n",
    "       5 - default: has credit in default? (binary: \"yes\",\"no\")\n",
    "       6 - balance: average yearly balance, in euros (numeric) \n",
    "       7 - housing: has housing loan? (binary: \"yes\",\"no\")\n",
    "       8 - loan: has personal loan? (binary: \"yes\",\"no\")\n",
    "       9 - contact: contact communication type (categorical: \"unknown\",\"telephone\",\"cellular\") \n",
    "      10 - day: last contact day of the month (numeric)\n",
    "      11 - month: last contact month of year (categorical: \"jan\", \"feb\", \"mar\", ..., \"nov\", \"dec\")\n",
    "      12 - duration: last contact duration, in seconds (numeric)\n",
    "      13 - campaign: number of contacts performed during this campaign and for this client (numeric, includes last contact)\n",
    "      14 - pdays: number of days that passed by after the client was last contacted from a previous campaign (numeric, -1 means client was not previously contacted)\n",
    "      15 - previous: number of contacts performed before this campaign and for this client (numeric)\n",
    "      16 - poutcome: outcome of the previous marketing campaign (categorical: \"unknown\",\"other\",\"failure\",\"success\")\n",
    "\n",
    "      Output variable (desired target):\n",
    "      17 - y - has the client subscribed a term deposit? (binary: \"yes\",\"no\")"
   ]
  },
  {
   "cell_type": "markdown",
   "id": "a85f4f34",
   "metadata": {},
   "source": [
    "### EDA"
   ]
  },
  {
   "cell_type": "code",
   "execution_count": 3,
   "id": "4f1ba050",
   "metadata": {},
   "outputs": [
    {
     "data": {
      "text/plain": [
       "(4521, 17)"
      ]
     },
     "execution_count": 3,
     "metadata": {},
     "output_type": "execute_result"
    }
   ],
   "source": [
    "#Find Number of Columns and Rows in Data Set\n",
    "\n",
    "bank_df.shape"
   ]
  },
  {
   "cell_type": "code",
   "execution_count": 4,
   "id": "006a7514",
   "metadata": {},
   "outputs": [
    {
     "data": {
      "text/plain": [
       "age           int64\n",
       "job          object\n",
       "marital      object\n",
       "education    object\n",
       "default      object\n",
       "balance       int64\n",
       "housing      object\n",
       "loan         object\n",
       "contact      object\n",
       "day           int64\n",
       "month        object\n",
       "duration      int64\n",
       "campaign      int64\n",
       "pdays         int64\n",
       "previous      int64\n",
       "poutcome     object\n",
       "y            object\n",
       "dtype: object"
      ]
     },
     "execution_count": 4,
     "metadata": {},
     "output_type": "execute_result"
    }
   ],
   "source": [
    "#Find Type of Variables\n",
    "\n",
    "bank_df.dtypes"
   ]
  },
  {
   "cell_type": "code",
   "execution_count": 5,
   "id": "dc8008bb",
   "metadata": {},
   "outputs": [
    {
     "data": {
      "text/html": [
       "<div>\n",
       "<style scoped>\n",
       "    .dataframe tbody tr th:only-of-type {\n",
       "        vertical-align: middle;\n",
       "    }\n",
       "\n",
       "    .dataframe tbody tr th {\n",
       "        vertical-align: top;\n",
       "    }\n",
       "\n",
       "    .dataframe thead th {\n",
       "        text-align: right;\n",
       "    }\n",
       "</style>\n",
       "<table border=\"1\" class=\"dataframe\">\n",
       "  <thead>\n",
       "    <tr style=\"text-align: right;\">\n",
       "      <th></th>\n",
       "      <th>age</th>\n",
       "      <th>balance</th>\n",
       "      <th>day</th>\n",
       "      <th>duration</th>\n",
       "      <th>campaign</th>\n",
       "      <th>pdays</th>\n",
       "      <th>previous</th>\n",
       "    </tr>\n",
       "  </thead>\n",
       "  <tbody>\n",
       "    <tr>\n",
       "      <th>count</th>\n",
       "      <td>4521.000000</td>\n",
       "      <td>4521.000000</td>\n",
       "      <td>4521.000000</td>\n",
       "      <td>4521.000000</td>\n",
       "      <td>4521.000000</td>\n",
       "      <td>4521.000000</td>\n",
       "      <td>4521.000000</td>\n",
       "    </tr>\n",
       "    <tr>\n",
       "      <th>mean</th>\n",
       "      <td>41.170095</td>\n",
       "      <td>1422.657819</td>\n",
       "      <td>15.915284</td>\n",
       "      <td>263.961292</td>\n",
       "      <td>2.793630</td>\n",
       "      <td>39.766645</td>\n",
       "      <td>0.542579</td>\n",
       "    </tr>\n",
       "    <tr>\n",
       "      <th>std</th>\n",
       "      <td>10.576211</td>\n",
       "      <td>3009.638142</td>\n",
       "      <td>8.247667</td>\n",
       "      <td>259.856633</td>\n",
       "      <td>3.109807</td>\n",
       "      <td>100.121124</td>\n",
       "      <td>1.693562</td>\n",
       "    </tr>\n",
       "    <tr>\n",
       "      <th>min</th>\n",
       "      <td>19.000000</td>\n",
       "      <td>-3313.000000</td>\n",
       "      <td>1.000000</td>\n",
       "      <td>4.000000</td>\n",
       "      <td>1.000000</td>\n",
       "      <td>-1.000000</td>\n",
       "      <td>0.000000</td>\n",
       "    </tr>\n",
       "    <tr>\n",
       "      <th>25%</th>\n",
       "      <td>33.000000</td>\n",
       "      <td>69.000000</td>\n",
       "      <td>9.000000</td>\n",
       "      <td>104.000000</td>\n",
       "      <td>1.000000</td>\n",
       "      <td>-1.000000</td>\n",
       "      <td>0.000000</td>\n",
       "    </tr>\n",
       "    <tr>\n",
       "      <th>50%</th>\n",
       "      <td>39.000000</td>\n",
       "      <td>444.000000</td>\n",
       "      <td>16.000000</td>\n",
       "      <td>185.000000</td>\n",
       "      <td>2.000000</td>\n",
       "      <td>-1.000000</td>\n",
       "      <td>0.000000</td>\n",
       "    </tr>\n",
       "    <tr>\n",
       "      <th>75%</th>\n",
       "      <td>49.000000</td>\n",
       "      <td>1480.000000</td>\n",
       "      <td>21.000000</td>\n",
       "      <td>329.000000</td>\n",
       "      <td>3.000000</td>\n",
       "      <td>-1.000000</td>\n",
       "      <td>0.000000</td>\n",
       "    </tr>\n",
       "    <tr>\n",
       "      <th>max</th>\n",
       "      <td>87.000000</td>\n",
       "      <td>71188.000000</td>\n",
       "      <td>31.000000</td>\n",
       "      <td>3025.000000</td>\n",
       "      <td>50.000000</td>\n",
       "      <td>871.000000</td>\n",
       "      <td>25.000000</td>\n",
       "    </tr>\n",
       "  </tbody>\n",
       "</table>\n",
       "</div>"
      ],
      "text/plain": [
       "               age       balance          day     duration     campaign  \\\n",
       "count  4521.000000   4521.000000  4521.000000  4521.000000  4521.000000   \n",
       "mean     41.170095   1422.657819    15.915284   263.961292     2.793630   \n",
       "std      10.576211   3009.638142     8.247667   259.856633     3.109807   \n",
       "min      19.000000  -3313.000000     1.000000     4.000000     1.000000   \n",
       "25%      33.000000     69.000000     9.000000   104.000000     1.000000   \n",
       "50%      39.000000    444.000000    16.000000   185.000000     2.000000   \n",
       "75%      49.000000   1480.000000    21.000000   329.000000     3.000000   \n",
       "max      87.000000  71188.000000    31.000000  3025.000000    50.000000   \n",
       "\n",
       "             pdays     previous  \n",
       "count  4521.000000  4521.000000  \n",
       "mean     39.766645     0.542579  \n",
       "std     100.121124     1.693562  \n",
       "min      -1.000000     0.000000  \n",
       "25%      -1.000000     0.000000  \n",
       "50%      -1.000000     0.000000  \n",
       "75%      -1.000000     0.000000  \n",
       "max     871.000000    25.000000  "
      ]
     },
     "execution_count": 5,
     "metadata": {},
     "output_type": "execute_result"
    }
   ],
   "source": [
    "#Descriptive Statistics\n",
    "\n",
    "bank_df.describe()"
   ]
  },
  {
   "cell_type": "code",
   "execution_count": 6,
   "id": "3f7115df",
   "metadata": {},
   "outputs": [
    {
     "data": {
      "text/plain": [
       "age          0\n",
       "job          0\n",
       "marital      0\n",
       "education    0\n",
       "default      0\n",
       "balance      0\n",
       "housing      0\n",
       "loan         0\n",
       "contact      0\n",
       "day          0\n",
       "month        0\n",
       "duration     0\n",
       "campaign     0\n",
       "pdays        0\n",
       "previous     0\n",
       "poutcome     0\n",
       "y            0\n",
       "dtype: int64"
      ]
     },
     "execution_count": 6,
     "metadata": {},
     "output_type": "execute_result"
    }
   ],
   "source": [
    "#Find any missing values\n",
    "\n",
    "bank_df.isna().sum()"
   ]
  },
  {
   "cell_type": "markdown",
   "id": "79a517b7",
   "metadata": {},
   "source": [
    "    No missing or null values, OK."
   ]
  },
  {
   "cell_type": "code",
   "execution_count": 7,
   "id": "7d660071",
   "metadata": {},
   "outputs": [
    {
     "name": "stdout",
     "output_type": "stream",
     "text": [
      "521\n",
      "11.523999115239992\n"
     ]
    }
   ],
   "source": [
    "# check positive response\n",
    "\n",
    "print((bank_df['y'] == 'yes').sum())\n",
    "\n",
    "# check for response rate\n",
    "\n",
    "print(100*(bank_df['y'] == 'yes').sum() / len(bank_df))"
   ]
  },
  {
   "cell_type": "markdown",
   "id": "71bb7b21",
   "metadata": {},
   "source": [
    "    Slightly imblanced dataset, but OK"
   ]
  },
  {
   "cell_type": "markdown",
   "id": "cc9d0078",
   "metadata": {},
   "source": [
    "#### Use histogram  to check for skewness for numeric variables:"
   ]
  },
  {
   "cell_type": "code",
   "execution_count": 8,
   "id": "dd99e60a",
   "metadata": {},
   "outputs": [
    {
     "data": {
      "text/plain": [
       "Text(0.5, 1.0, 'Frequency of age')"
      ]
     },
     "execution_count": 8,
     "metadata": {},
     "output_type": "execute_result"
    },
    {
     "data": {
      "image/png": "[encoded data removed]",
      "text/plain": [
       "<Figure size 432x288 with 1 Axes>"
      ]
     },
     "metadata": {
      "needs_background": "light"
     },
     "output_type": "display_data"
    }
   ],
   "source": [
    "bank_df['age'].plot.hist()\n",
    "plt.xlabel('age')\n",
    "plt.title('Frequency of age')"
   ]
  },
  {
   "cell_type": "markdown",
   "id": "e0eee161",
   "metadata": {},
   "source": [
    "# "
   ]
  },
  {
   "cell_type": "code",
   "execution_count": 9,
   "id": "826caf13",
   "metadata": {},
   "outputs": [
    {
     "data": {
      "text/plain": [
       "Text(0.5, 1.0, 'Frequency of balance')"
      ]
     },
     "execution_count": 9,
     "metadata": {},
     "output_type": "execute_result"
    },
    {
     "data": {
      "image/png": "[encoded data removed]",
      "text/plain": [
       "<Figure size 432x288 with 1 Axes>"
      ]
     },
     "metadata": {
      "needs_background": "light"
     },
     "output_type": "display_data"
    }
   ],
   "source": [
    "bank_df['balance'].plot.hist()\n",
    "plt.xlabel('balance')\n",
    "plt.title('Frequency of balance')"
   ]
  },
  {
   "cell_type": "markdown",
   "id": "8105bc59",
   "metadata": {},
   "source": [
    "# "
   ]
  },
  {
   "cell_type": "code",
   "execution_count": 10,
   "id": "0e7617d9",
   "metadata": {},
   "outputs": [
    {
     "data": {
      "text/plain": [
       "Text(0.5, 1.0, 'last contact day of the month')"
      ]
     },
     "execution_count": 10,
     "metadata": {},
     "output_type": "execute_result"
    },
    {
     "data": {
      "image/png": "[encoded data removed]",
      "text/plain": [
       "<Figure size 432x288 with 1 Axes>"
      ]
     },
     "metadata": {
      "needs_background": "light"
     },
     "output_type": "display_data"
    }
   ],
   "source": [
    "bank_df['day'].plot.hist()\n",
    "plt.xlabel('days')\n",
    "plt.title('last contact day of the month')"
   ]
  },
  {
   "cell_type": "markdown",
   "id": "125b485c",
   "metadata": {},
   "source": [
    "# "
   ]
  },
  {
   "cell_type": "code",
   "execution_count": 11,
   "id": "84d707bc",
   "metadata": {},
   "outputs": [
    {
     "data": {
      "text/plain": [
       "Text(0.5, 1.0, 'last contact duration (sec)')"
      ]
     },
     "execution_count": 11,
     "metadata": {},
     "output_type": "execute_result"
    },
    {
     "data": {
      "image/png": "[encoded data removed]",
      "text/plain": [
       "<Figure size 432x288 with 1 Axes>"
      ]
     },
     "metadata": {
      "needs_background": "light"
     },
     "output_type": "display_data"
    }
   ],
   "source": [
    "bank_df['duration'].plot.hist()\n",
    "plt.xlabel('duration')\n",
    "plt.title('last contact duration (sec)')"
   ]
  },
  {
   "cell_type": "markdown",
   "id": "d09e8c28",
   "metadata": {},
   "source": [
    "# "
   ]
  },
  {
   "cell_type": "code",
   "execution_count": 12,
   "id": "2a081151",
   "metadata": {},
   "outputs": [
    {
     "data": {
      "text/plain": [
       "Text(0.5, 1.0, 'Number of contact performed before')"
      ]
     },
     "execution_count": 12,
     "metadata": {},
     "output_type": "execute_result"
    },
    {
     "data": {
      "image/png": "[encoded data removed]",
      "text/plain": [
       "<Figure size 432x288 with 1 Axes>"
      ]
     },
     "metadata": {
      "needs_background": "light"
     },
     "output_type": "display_data"
    }
   ],
   "source": [
    "bank_df['campaign'].plot.hist()\n",
    "plt.xlabel('campaign')\n",
    "plt.title('Number of contact performed before')"
   ]
  },
  {
   "cell_type": "markdown",
   "id": "53dc9b4b",
   "metadata": {},
   "source": [
    "# "
   ]
  },
  {
   "cell_type": "code",
   "execution_count": 13,
   "id": "232a9041",
   "metadata": {},
   "outputs": [
    {
     "data": {
      "text/plain": [
       "Text(0.5, 1.0, 'number of days that passed by')"
      ]
     },
     "execution_count": 13,
     "metadata": {},
     "output_type": "execute_result"
    },
    {
     "data": {
      "image/png": "[encoded data removed]",
      "text/plain": [
       "<Figure size 432x288 with 1 Axes>"
      ]
     },
     "metadata": {
      "needs_background": "light"
     },
     "output_type": "display_data"
    }
   ],
   "source": [
    "bank_df['pdays'].plot.hist()\n",
    "plt.xlabel('pdays')\n",
    "plt.title('number of days that passed by')"
   ]
  },
  {
   "cell_type": "markdown",
   "id": "f3cb9b64",
   "metadata": {},
   "source": [
    "# "
   ]
  },
  {
   "cell_type": "code",
   "execution_count": 14,
   "id": "9afbcc00",
   "metadata": {},
   "outputs": [
    {
     "data": {
      "text/plain": [
       "Text(0.5, 1.0, 'number of contacts performed')"
      ]
     },
     "execution_count": 14,
     "metadata": {},
     "output_type": "execute_result"
    },
    {
     "data": {
      "image/png": "[encoded data removed]",
      "text/plain": [
       "<Figure size 432x288 with 1 Axes>"
      ]
     },
     "metadata": {
      "needs_background": "light"
     },
     "output_type": "display_data"
    }
   ],
   "source": [
    "bank_df['previous'].plot.hist()\n",
    "plt.xlabel('previous')\n",
    "plt.title('number of contacts performed')"
   ]
  },
  {
   "cell_type": "markdown",
   "id": "c893d0bf",
   "metadata": {},
   "source": [
    "    In order to deal with skewed data (positively skewed for the most part), we'll perform log transformation.\n",
    "    https://towardsdatascience.com/skewed-data-a-problem-to-your-statistical-model-9a6b5bb74e37\n",
    "    \n",
    "    Since Log transformation cannot be applied to zero or negative values, we will leave 'pdays', 'balance', 'previous' out since they contain zero or negative values."
   ]
  },
  {
   "cell_type": "code",
   "execution_count": 15,
   "id": "ee96bbcb",
   "metadata": {},
   "outputs": [],
   "source": [
    "bank_df['duration_log10'] = np.log(bank_df['duration'])\n",
    "bank_df['campaign_log10'] = np.log(bank_df['campaign'])"
   ]
  },
  {
   "cell_type": "code",
   "execution_count": 16,
   "id": "7c85cd2c",
   "metadata": {},
   "outputs": [
    {
     "data": {
      "text/plain": [
       "Text(0.5, 1.0, 'duration_log10')"
      ]
     },
     "execution_count": 16,
     "metadata": {},
     "output_type": "execute_result"
    },
    {
     "data": {
      "image/png": "[encoded data removed]",
      "text/plain": [
       "<Figure size 432x288 with 1 Axes>"
      ]
     },
     "metadata": {
      "needs_background": "light"
     },
     "output_type": "display_data"
    }
   ],
   "source": [
    "bank_df['duration_log10'].plot.hist()\n",
    "plt.xlabel('duration_log10')\n",
    "plt.title('duration_log10')"
   ]
  },
  {
   "cell_type": "code",
   "execution_count": 17,
   "id": "1c6088e9",
   "metadata": {},
   "outputs": [
    {
     "data": {
      "text/plain": [
       "Text(0.5, 1.0, 'campaign_log10')"
      ]
     },
     "execution_count": 17,
     "metadata": {},
     "output_type": "execute_result"
    },
    {
     "data": {
      "image/png": "[encoded data removed]",
      "text/plain": [
       "<Figure size 432x288 with 1 Axes>"
      ]
     },
     "metadata": {
      "needs_background": "light"
     },
     "output_type": "display_data"
    }
   ],
   "source": [
    "bank_df['campaign_log10'].plot.hist()\n",
    "plt.xlabel('campaign_log10')\n",
    "plt.title('campaign_log10')"
   ]
  },
  {
   "cell_type": "markdown",
   "id": "e803ee09",
   "metadata": {},
   "source": [
    "#### "
   ]
  },
  {
   "cell_type": "code",
   "execution_count": 18,
   "id": "d18b4f7a",
   "metadata": {},
   "outputs": [
    {
     "data": {
      "text/html": [
       "<div>\n",
       "<style scoped>\n",
       "    .dataframe tbody tr th:only-of-type {\n",
       "        vertical-align: middle;\n",
       "    }\n",
       "\n",
       "    .dataframe tbody tr th {\n",
       "        vertical-align: top;\n",
       "    }\n",
       "\n",
       "    .dataframe thead th {\n",
       "        text-align: right;\n",
       "    }\n",
       "</style>\n",
       "<table border=\"1\" class=\"dataframe\">\n",
       "  <thead>\n",
       "    <tr style=\"text-align: right;\">\n",
       "      <th></th>\n",
       "      <th>age</th>\n",
       "      <th>job</th>\n",
       "      <th>marital</th>\n",
       "      <th>education</th>\n",
       "      <th>default</th>\n",
       "      <th>balance</th>\n",
       "      <th>housing</th>\n",
       "      <th>loan</th>\n",
       "      <th>contact</th>\n",
       "      <th>day</th>\n",
       "      <th>month</th>\n",
       "      <th>pdays</th>\n",
       "      <th>previous</th>\n",
       "      <th>poutcome</th>\n",
       "      <th>y</th>\n",
       "      <th>duration_log10</th>\n",
       "      <th>campaign_log10</th>\n",
       "    </tr>\n",
       "  </thead>\n",
       "  <tbody>\n",
       "    <tr>\n",
       "      <th>0</th>\n",
       "      <td>30</td>\n",
       "      <td>unemployed</td>\n",
       "      <td>married</td>\n",
       "      <td>primary</td>\n",
       "      <td>no</td>\n",
       "      <td>1787</td>\n",
       "      <td>no</td>\n",
       "      <td>no</td>\n",
       "      <td>cellular</td>\n",
       "      <td>19</td>\n",
       "      <td>oct</td>\n",
       "      <td>-1</td>\n",
       "      <td>0</td>\n",
       "      <td>unknown</td>\n",
       "      <td>no</td>\n",
       "      <td>4.369448</td>\n",
       "      <td>0.000000</td>\n",
       "    </tr>\n",
       "    <tr>\n",
       "      <th>1</th>\n",
       "      <td>33</td>\n",
       "      <td>services</td>\n",
       "      <td>married</td>\n",
       "      <td>secondary</td>\n",
       "      <td>no</td>\n",
       "      <td>4789</td>\n",
       "      <td>yes</td>\n",
       "      <td>yes</td>\n",
       "      <td>cellular</td>\n",
       "      <td>11</td>\n",
       "      <td>may</td>\n",
       "      <td>339</td>\n",
       "      <td>4</td>\n",
       "      <td>failure</td>\n",
       "      <td>no</td>\n",
       "      <td>5.393628</td>\n",
       "      <td>0.000000</td>\n",
       "    </tr>\n",
       "    <tr>\n",
       "      <th>2</th>\n",
       "      <td>35</td>\n",
       "      <td>management</td>\n",
       "      <td>single</td>\n",
       "      <td>tertiary</td>\n",
       "      <td>no</td>\n",
       "      <td>1350</td>\n",
       "      <td>yes</td>\n",
       "      <td>no</td>\n",
       "      <td>cellular</td>\n",
       "      <td>16</td>\n",
       "      <td>apr</td>\n",
       "      <td>330</td>\n",
       "      <td>1</td>\n",
       "      <td>failure</td>\n",
       "      <td>no</td>\n",
       "      <td>5.220356</td>\n",
       "      <td>0.000000</td>\n",
       "    </tr>\n",
       "    <tr>\n",
       "      <th>3</th>\n",
       "      <td>30</td>\n",
       "      <td>management</td>\n",
       "      <td>married</td>\n",
       "      <td>tertiary</td>\n",
       "      <td>no</td>\n",
       "      <td>1476</td>\n",
       "      <td>yes</td>\n",
       "      <td>yes</td>\n",
       "      <td>unknown</td>\n",
       "      <td>3</td>\n",
       "      <td>jun</td>\n",
       "      <td>-1</td>\n",
       "      <td>0</td>\n",
       "      <td>unknown</td>\n",
       "      <td>no</td>\n",
       "      <td>5.293305</td>\n",
       "      <td>1.386294</td>\n",
       "    </tr>\n",
       "    <tr>\n",
       "      <th>4</th>\n",
       "      <td>59</td>\n",
       "      <td>blue-collar</td>\n",
       "      <td>married</td>\n",
       "      <td>secondary</td>\n",
       "      <td>no</td>\n",
       "      <td>0</td>\n",
       "      <td>yes</td>\n",
       "      <td>no</td>\n",
       "      <td>unknown</td>\n",
       "      <td>5</td>\n",
       "      <td>may</td>\n",
       "      <td>-1</td>\n",
       "      <td>0</td>\n",
       "      <td>unknown</td>\n",
       "      <td>no</td>\n",
       "      <td>5.420535</td>\n",
       "      <td>0.000000</td>\n",
       "    </tr>\n",
       "  </tbody>\n",
       "</table>\n",
       "</div>"
      ],
      "text/plain": [
       "   age          job  marital  education default  balance housing loan  \\\n",
       "0   30   unemployed  married    primary      no     1787      no   no   \n",
       "1   33     services  married  secondary      no     4789     yes  yes   \n",
       "2   35   management   single   tertiary      no     1350     yes   no   \n",
       "3   30   management  married   tertiary      no     1476     yes  yes   \n",
       "4   59  blue-collar  married  secondary      no        0     yes   no   \n",
       "\n",
       "    contact  day month  pdays  previous poutcome   y  duration_log10  \\\n",
       "0  cellular   19   oct     -1         0  unknown  no        4.369448   \n",
       "1  cellular   11   may    339         4  failure  no        5.393628   \n",
       "2  cellular   16   apr    330         1  failure  no        5.220356   \n",
       "3   unknown    3   jun     -1         0  unknown  no        5.293305   \n",
       "4   unknown    5   may     -1         0  unknown  no        5.420535   \n",
       "\n",
       "   campaign_log10  \n",
       "0        0.000000  \n",
       "1        0.000000  \n",
       "2        0.000000  \n",
       "3        1.386294  \n",
       "4        0.000000  "
      ]
     },
     "execution_count": 18,
     "metadata": {},
     "output_type": "execute_result"
    }
   ],
   "source": [
    "bank_df = bank_df.drop(['duration','campaign'], axis = 1)\n",
    "bank_df.head()"
   ]
  },
  {
   "cell_type": "markdown",
   "id": "ba575792",
   "metadata": {},
   "source": [
    "    For categorical/binary features, we will use overlay bar chart to observe the relations of them to y"
   ]
  },
  {
   "cell_type": "code",
   "execution_count": 19,
   "id": "bb15e4ef",
   "metadata": {},
   "outputs": [
    {
     "name": "stdout",
     "output_type": "stream",
     "text": [
      "job            y  \n",
      "admin.         no     420\n",
      "               yes     58\n",
      "blue-collar    no     877\n",
      "               yes     69\n",
      "entrepreneur   no     153\n",
      "               yes     15\n",
      "housemaid      no      98\n",
      "               yes     14\n",
      "management     no     838\n",
      "               yes    131\n",
      "retired        no     176\n",
      "               yes     54\n",
      "self-employed  no     163\n",
      "               yes     20\n",
      "services       no     379\n",
      "               yes     38\n",
      "student        no      65\n",
      "               yes     19\n",
      "technician     no     685\n",
      "               yes     83\n",
      "unemployed     no     115\n",
      "               yes     13\n",
      "unknown        no      31\n",
      "               yes      7\n",
      "Name: y, dtype: int64\n"
     ]
    },
    {
     "data": {
      "text/plain": [
       "Text(0.5, 1.0, 'y VS. jobs')"
      ]
     },
     "execution_count": 19,
     "metadata": {},
     "output_type": "execute_result"
    },
    {
     "data": {
      "image/png": "[encoded data removed]",
      "text/plain": [
       "<Figure size 432x288 with 1 Axes>"
      ]
     },
     "metadata": {
      "needs_background": "light"
     },
     "output_type": "display_data"
    }
   ],
   "source": [
    "print(bank_df.groupby(['job'])['y'].value_counts())\n",
    "\n",
    "crosstab_job = pd.crosstab(bank_df['job'], bank_df['y'])\n",
    "crosstab_job.plot(kind='bar', stacked = True)\n",
    "plt.ylabel(\"Total records\")\n",
    "plt.title('y VS. jobs')"
   ]
  },
  {
   "cell_type": "code",
   "execution_count": 20,
   "id": "9097973e",
   "metadata": {},
   "outputs": [
    {
     "name": "stdout",
     "output_type": "stream",
     "text": [
      "marital   y  \n",
      "divorced  no      451\n",
      "          yes      77\n",
      "married   no     2520\n",
      "          yes     277\n",
      "single    no     1029\n",
      "          yes     167\n",
      "Name: y, dtype: int64\n"
     ]
    },
    {
     "data": {
      "text/plain": [
       "Text(0.5, 1.0, 'y VS. marital')"
      ]
     },
     "execution_count": 20,
     "metadata": {},
     "output_type": "execute_result"
    },
    {
     "data": {
      "image/png": "[encoded data removed]",
      "text/plain": [
       "<Figure size 432x288 with 1 Axes>"
      ]
     },
     "metadata": {
      "needs_background": "light"
     },
     "output_type": "display_data"
    }
   ],
   "source": [
    "print(bank_df.groupby(['marital'])['y'].value_counts())\n",
    "\n",
    "crosstab_marital = pd.crosstab(bank_df['marital'], bank_df['y'])\n",
    "crosstab_marital.plot(kind='bar', stacked = True)\n",
    "plt.ylabel(\"Total records\")\n",
    "plt.title('y VS. marital')"
   ]
  },
  {
   "cell_type": "code",
   "execution_count": 21,
   "id": "fbc3409c",
   "metadata": {},
   "outputs": [
    {
     "name": "stdout",
     "output_type": "stream",
     "text": [
      "education  y  \n",
      "primary    no      614\n",
      "           yes      64\n",
      "secondary  no     2061\n",
      "           yes     245\n",
      "tertiary   no     1157\n",
      "           yes     193\n",
      "unknown    no      168\n",
      "           yes      19\n",
      "Name: y, dtype: int64\n"
     ]
    },
    {
     "data": {
      "text/plain": [
       "Text(0.5, 1.0, 'y VS. education')"
      ]
     },
     "execution_count": 21,
     "metadata": {},
     "output_type": "execute_result"
    },
    {
     "data": {
      "image/png": "[encoded data removed]",
      "text/plain": [
       "<Figure size 432x288 with 1 Axes>"
      ]
     },
     "metadata": {
      "needs_background": "light"
     },
     "output_type": "display_data"
    }
   ],
   "source": [
    "print(bank_df.groupby(['education'])['y'].value_counts())\n",
    "\n",
    "crosstab_education = pd.crosstab(bank_df['education'], bank_df['y'])\n",
    "crosstab_education.plot(kind='bar', stacked = True)\n",
    "plt.ylabel(\"Total records\")\n",
    "plt.title('y VS. education')"
   ]
  },
  {
   "cell_type": "code",
   "execution_count": 22,
   "id": "a5722611",
   "metadata": {},
   "outputs": [
    {
     "name": "stdout",
     "output_type": "stream",
     "text": [
      "default  y  \n",
      "no       no     3933\n",
      "         yes     512\n",
      "yes      no       67\n",
      "         yes       9\n",
      "Name: y, dtype: int64\n"
     ]
    },
    {
     "data": {
      "text/plain": [
       "Text(0.5, 1.0, 'y VS. default')"
      ]
     },
     "execution_count": 22,
     "metadata": {},
     "output_type": "execute_result"
    },
    {
     "data": {
      "image/png": "[encoded data removed]",
      "text/plain": [
       "<Figure size 432x288 with 1 Axes>"
      ]
     },
     "metadata": {
      "needs_background": "light"
     },
     "output_type": "display_data"
    }
   ],
   "source": [
    "print(bank_df.groupby(['default'])['y'].value_counts())\n",
    "\n",
    "crosstab_default = pd.crosstab(bank_df['default'], bank_df['y'])\n",
    "crosstab_default.plot(kind='bar', stacked = True)\n",
    "plt.ylabel(\"Total records\")\n",
    "plt.title('y VS. default')"
   ]
  },
  {
   "cell_type": "markdown",
   "id": "42fde701",
   "metadata": {},
   "source": [
    "    The ' default' feature is heavily imblanced, using this variable may introduce biases. Decided to drop this feature."
   ]
  },
  {
   "cell_type": "code",
   "execution_count": 23,
   "id": "2fc202f9",
   "metadata": {},
   "outputs": [],
   "source": [
    "bank_df = bank_df.drop(['default'], 1)"
   ]
  },
  {
   "cell_type": "markdown",
   "id": "39b94f45",
   "metadata": {},
   "source": [
    "#### "
   ]
  },
  {
   "cell_type": "code",
   "execution_count": 24,
   "id": "901150e2",
   "metadata": {},
   "outputs": [
    {
     "name": "stdout",
     "output_type": "stream",
     "text": [
      "housing  y  \n",
      "no       no     1661\n",
      "         yes     301\n",
      "yes      no     2339\n",
      "         yes     220\n",
      "Name: y, dtype: int64\n"
     ]
    },
    {
     "data": {
      "text/plain": [
       "Text(0.5, 1.0, 'y VS. housing')"
      ]
     },
     "execution_count": 24,
     "metadata": {},
     "output_type": "execute_result"
    },
    {
     "data": {
      "image/png": "[encoded data removed]",
      "text/plain": [
       "<Figure size 432x288 with 1 Axes>"
      ]
     },
     "metadata": {
      "needs_background": "light"
     },
     "output_type": "display_data"
    }
   ],
   "source": [
    "print(bank_df.groupby(['housing'])['y'].value_counts())\n",
    "\n",
    "crosstab_housing = pd.crosstab(bank_df['housing'], bank_df['y'])\n",
    "crosstab_housing.plot(kind='bar', stacked = True)\n",
    "plt.ylabel(\"Total records\")\n",
    "plt.title('y VS. housing')"
   ]
  },
  {
   "cell_type": "code",
   "execution_count": 25,
   "id": "8c68d7e4",
   "metadata": {},
   "outputs": [
    {
     "name": "stdout",
     "output_type": "stream",
     "text": [
      "loan  y  \n",
      "no    no     3352\n",
      "      yes     478\n",
      "yes   no      648\n",
      "      yes      43\n",
      "Name: y, dtype: int64\n"
     ]
    },
    {
     "data": {
      "text/plain": [
       "Text(0.5, 1.0, 'y VS. loan')"
      ]
     },
     "execution_count": 25,
     "metadata": {},
     "output_type": "execute_result"
    },
    {
     "data": {
      "image/png": "[encoded data removed]",
      "text/plain": [
       "<Figure size 432x288 with 1 Axes>"
      ]
     },
     "metadata": {
      "needs_background": "light"
     },
     "output_type": "display_data"
    }
   ],
   "source": [
    "print(bank_df.groupby(['loan'])['y'].value_counts())\n",
    "\n",
    "crosstab_loan = pd.crosstab(bank_df['loan'], bank_df['y'])\n",
    "crosstab_loan.plot(kind='bar', stacked = True)\n",
    "plt.ylabel(\"Total records\")\n",
    "plt.title('y VS. loan')"
   ]
  },
  {
   "cell_type": "code",
   "execution_count": 26,
   "id": "f0ad67d4",
   "metadata": {},
   "outputs": [
    {
     "name": "stdout",
     "output_type": "stream",
     "text": [
      "contact    y  \n",
      "cellular   no     2480\n",
      "           yes     416\n",
      "telephone  no      257\n",
      "           yes      44\n",
      "unknown    no     1263\n",
      "           yes      61\n",
      "Name: y, dtype: int64\n"
     ]
    },
    {
     "data": {
      "text/plain": [
       "Text(0.5, 1.0, 'y VS. contact')"
      ]
     },
     "execution_count": 26,
     "metadata": {},
     "output_type": "execute_result"
    },
    {
     "data": {
      "image/png": "[encoded data removed]",
      "text/plain": [
       "<Figure size 432x288 with 1 Axes>"
      ]
     },
     "metadata": {
      "needs_background": "light"
     },
     "output_type": "display_data"
    }
   ],
   "source": [
    "print(bank_df.groupby(['contact'])['y'].value_counts())\n",
    "\n",
    "crosstab_contact = pd.crosstab(bank_df['contact'], bank_df['y'])\n",
    "crosstab_contact.plot(kind='bar', stacked = True)\n",
    "plt.ylabel(\"Total records\")\n",
    "plt.title('y VS. contact')"
   ]
  },
  {
   "cell_type": "code",
   "execution_count": 27,
   "id": "b9773dea",
   "metadata": {},
   "outputs": [
    {
     "name": "stdout",
     "output_type": "stream",
     "text": [
      "contact    y  \n",
      "cellular   no     2480\n",
      "           yes     416\n",
      "telephone  no      257\n",
      "           yes      44\n",
      "unknown    no     1263\n",
      "           yes      61\n",
      "Name: y, dtype: int64\n"
     ]
    },
    {
     "data": {
      "text/plain": [
       "Text(0.5, 1.0, 'y VS. contact')"
      ]
     },
     "execution_count": 27,
     "metadata": {},
     "output_type": "execute_result"
    },
    {
     "data": {
      "image/png": "[encoded data removed]",
      "text/plain": [
       "<Figure size 432x288 with 1 Axes>"
      ]
     },
     "metadata": {
      "needs_background": "light"
     },
     "output_type": "display_data"
    }
   ],
   "source": [
    "print(bank_df.groupby(['contact'])['y'].value_counts())\n",
    "\n",
    "crosstab_contact = pd.crosstab(bank_df['contact'], bank_df['y'])\n",
    "crosstab_contact.plot(kind='bar', stacked = True)\n",
    "plt.ylabel(\"Total records\")\n",
    "plt.title('y VS. contact')"
   ]
  },
  {
   "cell_type": "code",
   "execution_count": 28,
   "id": "7b360fec",
   "metadata": {},
   "outputs": [
    {
     "name": "stdout",
     "output_type": "stream",
     "text": [
      "day  y  \n",
      "1    no      17\n",
      "     yes     10\n",
      "2    no     100\n",
      "     yes     14\n",
      "3    no      93\n",
      "           ... \n",
      "29   yes     10\n",
      "30   no     141\n",
      "     yes     27\n",
      "31   no      55\n",
      "     yes      4\n",
      "Name: y, Length: 62, dtype: int64\n"
     ]
    },
    {
     "data": {
      "text/plain": [
       "Text(0.5, 1.0, 'y VS. day')"
      ]
     },
     "execution_count": 28,
     "metadata": {},
     "output_type": "execute_result"
    },
    {
     "data": {
      "image/png": "[encoded data removed]",
      "text/plain": [
       "<Figure size 432x288 with 1 Axes>"
      ]
     },
     "metadata": {
      "needs_background": "light"
     },
     "output_type": "display_data"
    }
   ],
   "source": [
    "print(bank_df.groupby(['day'])['y'].value_counts())\n",
    "\n",
    "crosstab_day = pd.crosstab(bank_df['day'], bank_df['y'])\n",
    "crosstab_day.plot(kind='bar', stacked = True)\n",
    "plt.ylabel(\"Total records\")\n",
    "plt.title('y VS. day')"
   ]
  },
  {
   "cell_type": "markdown",
   "id": "8eda6e66",
   "metadata": {},
   "source": [
    "    From the bar chart we can see that the 'day' categorizes three clusters, so we can change the 'day' into a 3-classes categorical variable. "
   ]
  },
  {
   "cell_type": "code",
   "execution_count": 29,
   "id": "68ab9d1b",
   "metadata": {},
   "outputs": [],
   "source": [
    "b = [1,10,20,30]\n",
    "l = ['Early-month','Mid-month','Late-month']\n",
    "\n",
    "bank_df['day'] = pd.cut(bank_df['day'], bins=b, labels=l, include_lowest=True) # replace 'day' with new labels"
   ]
  },
  {
   "cell_type": "markdown",
   "id": "0375c32c",
   "metadata": {},
   "source": [
    "#### "
   ]
  },
  {
   "cell_type": "code",
   "execution_count": 30,
   "id": "34ff8f38",
   "metadata": {},
   "outputs": [
    {
     "name": "stdout",
     "output_type": "stream",
     "text": [
      "month  y  \n",
      "apr    no      237\n",
      "       yes      56\n",
      "aug    no      554\n",
      "       yes      79\n",
      "dec    no       11\n",
      "       yes       9\n",
      "feb    no      184\n",
      "       yes      38\n",
      "jan    no      132\n",
      "       yes      16\n",
      "jul    no      645\n",
      "       yes      61\n",
      "jun    no      476\n",
      "       yes      55\n",
      "mar    no       28\n",
      "       yes      21\n",
      "may    no     1305\n",
      "       yes      93\n",
      "nov    no      350\n",
      "       yes      39\n",
      "oct    no       43\n",
      "       yes      37\n",
      "sep    no       35\n",
      "       yes      17\n",
      "Name: y, dtype: int64\n"
     ]
    },
    {
     "data": {
      "text/plain": [
       "Text(0.5, 1.0, 'y VS. month')"
      ]
     },
     "execution_count": 30,
     "metadata": {},
     "output_type": "execute_result"
    },
    {
     "data": {
      "image/png": "[encoded data removed]",
      "text/plain": [
       "<Figure size 432x288 with 1 Axes>"
      ]
     },
     "metadata": {
      "needs_background": "light"
     },
     "output_type": "display_data"
    }
   ],
   "source": [
    "print(bank_df.groupby(['month'])['y'].value_counts())\n",
    "\n",
    "crosstab_month = pd.crosstab(bank_df['month'], bank_df['y'])\n",
    "crosstab_month.plot(kind='bar', stacked = True)\n",
    "plt.ylabel(\"Total records\")\n",
    "plt.title('y VS. month')"
   ]
  },
  {
   "cell_type": "code",
   "execution_count": 31,
   "id": "ff255739",
   "metadata": {},
   "outputs": [
    {
     "name": "stdout",
     "output_type": "stream",
     "text": [
      "poutcome  y  \n",
      "failure   no      427\n",
      "          yes      63\n",
      "other     no      159\n",
      "          yes      38\n",
      "success   yes      83\n",
      "          no       46\n",
      "unknown   no     3368\n",
      "          yes     337\n",
      "Name: y, dtype: int64\n"
     ]
    },
    {
     "data": {
      "text/plain": [
       "Text(0.5, 1.0, 'y VS. poutcome')"
      ]
     },
     "execution_count": 31,
     "metadata": {},
     "output_type": "execute_result"
    },
    {
     "data": {
      "image/png": "[encoded data removed]",
      "text/plain": [
       "<Figure size 432x288 with 1 Axes>"
      ]
     },
     "metadata": {
      "needs_background": "light"
     },
     "output_type": "display_data"
    }
   ],
   "source": [
    "print(bank_df.groupby(['poutcome'])['y'].value_counts())\n",
    "\n",
    "crosstab_poutcome = pd.crosstab(bank_df['poutcome'], bank_df['y'])\n",
    "crosstab_poutcome.plot(kind='bar', stacked = True)\n",
    "plt.ylabel(\"Total records\")\n",
    "plt.title('y VS. poutcome')"
   ]
  },
  {
   "cell_type": "markdown",
   "id": "dfb59094",
   "metadata": {},
   "source": [
    "#### "
   ]
  },
  {
   "cell_type": "markdown",
   "id": "993166a1",
   "metadata": {},
   "source": [
    "    For 'pdays', we only care about whether a client was last contacted from a previous campaign or not. So we will convert '-1' to '0' and any other value to '1'"
   ]
  },
  {
   "cell_type": "code",
   "execution_count": 32,
   "id": "17ba406a",
   "metadata": {},
   "outputs": [
    {
     "name": "stdout",
     "output_type": "stream",
     "text": [
      "pdays\n",
      "0    3705\n",
      "1     816\n",
      "Name: y, dtype: int64\n"
     ]
    },
    {
     "data": {
      "text/plain": [
       "Text(0.5, 1.0, 'y VS. pdays')"
      ]
     },
     "execution_count": 32,
     "metadata": {},
     "output_type": "execute_result"
    },
    {
     "data": {
      "image/png": "[encoded data removed]",
      "text/plain": [
       "<Figure size 432x288 with 1 Axes>"
      ]
     },
     "metadata": {
      "needs_background": "light"
     },
     "output_type": "display_data"
    }
   ],
   "source": [
    "b = [-1,0,99999]\n",
    "l = ['0','1']\n",
    "\n",
    "bank_df['pdays'].astype(int)\n",
    "bank_df['pdays'] = pd.cut(bank_df['pdays'], bins=b, labels=l, include_lowest=True)\n",
    "\n",
    "print(bank_df.groupby(['pdays'])['y'].count())\n",
    "\n",
    "crosstab_pdays = pd.crosstab(bank_df['pdays'], bank_df['y'])\n",
    "crosstab_pdays.plot(kind='bar', stacked = True)\n",
    "plt.ylabel(\"Total records\")\n",
    "plt.title('y VS. pdays')"
   ]
  },
  {
   "cell_type": "code",
   "execution_count": 33,
   "id": "ff31e756",
   "metadata": {},
   "outputs": [],
   "source": [
    "# normalize the numeric values\n",
    "\n",
    "bank_df['balance_norm'] = StandardScaler().fit_transform(bank_df[['balance']])\n",
    "bank_df['age_norm'] = StandardScaler().fit_transform(bank_df[['age']])\n",
    "\n",
    "bank_df = bank_df.drop(['balance'],1)\n",
    "bank_df = bank_df.drop(['age'],1)"
   ]
  },
  {
   "cell_type": "code",
   "execution_count": 34,
   "id": "4fc55e59",
   "metadata": {},
   "outputs": [
    {
     "name": "stdout",
     "output_type": "stream",
     "text": [
      "521\n"
     ]
    },
    {
     "data": {
      "text/html": [
       "<div>\n",
       "<style scoped>\n",
       "    .dataframe tbody tr th:only-of-type {\n",
       "        vertical-align: middle;\n",
       "    }\n",
       "\n",
       "    .dataframe tbody tr th {\n",
       "        vertical-align: top;\n",
       "    }\n",
       "\n",
       "    .dataframe thead th {\n",
       "        text-align: right;\n",
       "    }\n",
       "</style>\n",
       "<table border=\"1\" class=\"dataframe\">\n",
       "  <thead>\n",
       "    <tr style=\"text-align: right;\">\n",
       "      <th></th>\n",
       "      <th>job</th>\n",
       "      <th>marital</th>\n",
       "      <th>education</th>\n",
       "      <th>housing</th>\n",
       "      <th>loan</th>\n",
       "      <th>contact</th>\n",
       "      <th>day</th>\n",
       "      <th>month</th>\n",
       "      <th>pdays</th>\n",
       "      <th>previous</th>\n",
       "      <th>poutcome</th>\n",
       "      <th>y</th>\n",
       "      <th>duration_log10</th>\n",
       "      <th>campaign_log10</th>\n",
       "      <th>balance_norm</th>\n",
       "      <th>age_norm</th>\n",
       "    </tr>\n",
       "  </thead>\n",
       "  <tbody>\n",
       "    <tr>\n",
       "      <th>0</th>\n",
       "      <td>unemployed</td>\n",
       "      <td>married</td>\n",
       "      <td>primary</td>\n",
       "      <td>0</td>\n",
       "      <td>0</td>\n",
       "      <td>cellular</td>\n",
       "      <td>Mid-month</td>\n",
       "      <td>oct</td>\n",
       "      <td>0</td>\n",
       "      <td>0</td>\n",
       "      <td>unknown</td>\n",
       "      <td>0</td>\n",
       "      <td>4.369448</td>\n",
       "      <td>0.000000</td>\n",
       "      <td>0.121072</td>\n",
       "      <td>-1.056270</td>\n",
       "    </tr>\n",
       "    <tr>\n",
       "      <th>1</th>\n",
       "      <td>services</td>\n",
       "      <td>married</td>\n",
       "      <td>secondary</td>\n",
       "      <td>1</td>\n",
       "      <td>1</td>\n",
       "      <td>cellular</td>\n",
       "      <td>Mid-month</td>\n",
       "      <td>may</td>\n",
       "      <td>1</td>\n",
       "      <td>4</td>\n",
       "      <td>failure</td>\n",
       "      <td>0</td>\n",
       "      <td>5.393628</td>\n",
       "      <td>0.000000</td>\n",
       "      <td>1.118644</td>\n",
       "      <td>-0.772583</td>\n",
       "    </tr>\n",
       "    <tr>\n",
       "      <th>2</th>\n",
       "      <td>management</td>\n",
       "      <td>single</td>\n",
       "      <td>tertiary</td>\n",
       "      <td>1</td>\n",
       "      <td>0</td>\n",
       "      <td>cellular</td>\n",
       "      <td>Mid-month</td>\n",
       "      <td>apr</td>\n",
       "      <td>1</td>\n",
       "      <td>1</td>\n",
       "      <td>failure</td>\n",
       "      <td>0</td>\n",
       "      <td>5.220356</td>\n",
       "      <td>0.000000</td>\n",
       "      <td>-0.024144</td>\n",
       "      <td>-0.583458</td>\n",
       "    </tr>\n",
       "    <tr>\n",
       "      <th>3</th>\n",
       "      <td>management</td>\n",
       "      <td>married</td>\n",
       "      <td>tertiary</td>\n",
       "      <td>1</td>\n",
       "      <td>1</td>\n",
       "      <td>unknown</td>\n",
       "      <td>Early-month</td>\n",
       "      <td>jun</td>\n",
       "      <td>0</td>\n",
       "      <td>0</td>\n",
       "      <td>unknown</td>\n",
       "      <td>0</td>\n",
       "      <td>5.293305</td>\n",
       "      <td>1.386294</td>\n",
       "      <td>0.017726</td>\n",
       "      <td>-1.056270</td>\n",
       "    </tr>\n",
       "    <tr>\n",
       "      <th>4</th>\n",
       "      <td>blue-collar</td>\n",
       "      <td>married</td>\n",
       "      <td>secondary</td>\n",
       "      <td>1</td>\n",
       "      <td>0</td>\n",
       "      <td>unknown</td>\n",
       "      <td>Early-month</td>\n",
       "      <td>may</td>\n",
       "      <td>0</td>\n",
       "      <td>0</td>\n",
       "      <td>unknown</td>\n",
       "      <td>0</td>\n",
       "      <td>5.420535</td>\n",
       "      <td>0.000000</td>\n",
       "      <td>-0.472753</td>\n",
       "      <td>1.686036</td>\n",
       "    </tr>\n",
       "  </tbody>\n",
       "</table>\n",
       "</div>"
      ],
      "text/plain": [
       "           job  marital  education  housing  loan   contact          day  \\\n",
       "0   unemployed  married    primary        0     0  cellular    Mid-month   \n",
       "1     services  married  secondary        1     1  cellular    Mid-month   \n",
       "2   management   single   tertiary        1     0  cellular    Mid-month   \n",
       "3   management  married   tertiary        1     1   unknown  Early-month   \n",
       "4  blue-collar  married  secondary        1     0   unknown  Early-month   \n",
       "\n",
       "  month pdays  previous poutcome  y  duration_log10  campaign_log10  \\\n",
       "0   oct     0         0  unknown  0        4.369448        0.000000   \n",
       "1   may     1         4  failure  0        5.393628        0.000000   \n",
       "2   apr     1         1  failure  0        5.220356        0.000000   \n",
       "3   jun     0         0  unknown  0        5.293305        1.386294   \n",
       "4   may     0         0  unknown  0        5.420535        0.000000   \n",
       "\n",
       "   balance_norm  age_norm  \n",
       "0      0.121072 -1.056270  \n",
       "1      1.118644 -0.772583  \n",
       "2     -0.024144 -0.583458  \n",
       "3      0.017726 -1.056270  \n",
       "4     -0.472753  1.686036  "
      ]
     },
     "execution_count": 34,
     "metadata": {},
     "output_type": "execute_result"
    }
   ],
   "source": [
    "# convert 'y' from 'yes' and 'no' to '1' and '0'\n",
    "bank_df['y'] = bank_df['y'].map(dict(yes=1, no=0))\n",
    "\n",
    "# convert 'housing' from 'yes' and 'no' to '1' and '0'\n",
    "bank_df['housing'] = bank_df['housing'].map(dict(yes=1, no=0))\n",
    "\n",
    "# convert 'load' from 'yes' and 'no' to '1' and '0'\n",
    "bank_df['loan'] = bank_df['loan'].map(dict(yes=1, no=0))\n",
    "\n",
    "# check for the positive response\n",
    "print(bank_df['y'].tolist().count(1))\n",
    "\n",
    "bank_df.head()"
   ]
  },
  {
   "cell_type": "code",
   "execution_count": 35,
   "id": "77153d1c",
   "metadata": {},
   "outputs": [],
   "source": [
    "# convert objects to categorical\n",
    "\n",
    "#bank_df['job'] = bank_df['job'].astype('category')\n",
    "#bank_df['marital'] = bank_df['marital'].astype('category')\n",
    "#bank_df['education'] = bank_df['education'].astype('category')\n",
    "#bank_df['contact'] = bank_df['contact'].astype('category')\n",
    "#bank_df['month'] = bank_df['month'].astype('category')\n",
    "#bank_df['poutcome'] = bank_df['poutcome'].astype('category')\n",
    "#bank_df.dtypes"
   ]
  },
  {
   "cell_type": "code",
   "execution_count": 36,
   "id": "08f3e0e3",
   "metadata": {},
   "outputs": [
    {
     "data": {
      "text/plain": [
       "Employed         3896\n",
       "Unemployed        442\n",
       "Self-employed     183\n",
       "Name: job, dtype: int64"
      ]
     },
     "execution_count": 36,
     "metadata": {},
     "output_type": "execute_result"
    }
   ],
   "source": [
    "bank_df['job'] = bank_df['job'].replace({'management': 'Employed', 'blue-collar': 'Employed',\n",
    "                                 'technician': 'Employed', 'admin.': 'Employed',\n",
    "                                 'services': 'Employed', 'retired': 'Unemployed',\n",
    "                                 'self-employed': 'Self-employed', 'entrepreneur':'Employed',\n",
    "                                 'unemployed': 'Unemployed', 'housemaid': 'Employed',\n",
    "                                 'student': 'Unemployed', 'unknown': 'Employed'})\n",
    "\n",
    "bank_df['job'].value_counts()"
   ]
  },
  {
   "cell_type": "code",
   "execution_count": 37,
   "id": "bfc8711f",
   "metadata": {},
   "outputs": [
    {
     "data": {
      "text/html": [
       "<div>\n",
       "<style scoped>\n",
       "    .dataframe tbody tr th:only-of-type {\n",
       "        vertical-align: middle;\n",
       "    }\n",
       "\n",
       "    .dataframe tbody tr th {\n",
       "        vertical-align: top;\n",
       "    }\n",
       "\n",
       "    .dataframe thead th {\n",
       "        text-align: right;\n",
       "    }\n",
       "</style>\n",
       "<table border=\"1\" class=\"dataframe\">\n",
       "  <thead>\n",
       "    <tr style=\"text-align: right;\">\n",
       "      <th></th>\n",
       "      <th>housing</th>\n",
       "      <th>loan</th>\n",
       "      <th>pdays</th>\n",
       "      <th>previous</th>\n",
       "      <th>y</th>\n",
       "      <th>duration_log10</th>\n",
       "      <th>campaign_log10</th>\n",
       "      <th>balance_norm</th>\n",
       "      <th>age_norm</th>\n",
       "      <th>job_Employed</th>\n",
       "      <th>...</th>\n",
       "      <th>month_jun</th>\n",
       "      <th>month_mar</th>\n",
       "      <th>month_may</th>\n",
       "      <th>month_nov</th>\n",
       "      <th>month_oct</th>\n",
       "      <th>month_sep</th>\n",
       "      <th>poutcome_failure</th>\n",
       "      <th>poutcome_other</th>\n",
       "      <th>poutcome_success</th>\n",
       "      <th>poutcome_unknown</th>\n",
       "    </tr>\n",
       "  </thead>\n",
       "  <tbody>\n",
       "    <tr>\n",
       "      <th>0</th>\n",
       "      <td>0</td>\n",
       "      <td>0</td>\n",
       "      <td>0</td>\n",
       "      <td>0</td>\n",
       "      <td>0</td>\n",
       "      <td>4.369448</td>\n",
       "      <td>0.000000</td>\n",
       "      <td>0.121072</td>\n",
       "      <td>-1.056270</td>\n",
       "      <td>0</td>\n",
       "      <td>...</td>\n",
       "      <td>0</td>\n",
       "      <td>0</td>\n",
       "      <td>0</td>\n",
       "      <td>0</td>\n",
       "      <td>1</td>\n",
       "      <td>0</td>\n",
       "      <td>0</td>\n",
       "      <td>0</td>\n",
       "      <td>0</td>\n",
       "      <td>1</td>\n",
       "    </tr>\n",
       "    <tr>\n",
       "      <th>1</th>\n",
       "      <td>1</td>\n",
       "      <td>1</td>\n",
       "      <td>1</td>\n",
       "      <td>4</td>\n",
       "      <td>0</td>\n",
       "      <td>5.393628</td>\n",
       "      <td>0.000000</td>\n",
       "      <td>1.118644</td>\n",
       "      <td>-0.772583</td>\n",
       "      <td>1</td>\n",
       "      <td>...</td>\n",
       "      <td>0</td>\n",
       "      <td>0</td>\n",
       "      <td>1</td>\n",
       "      <td>0</td>\n",
       "      <td>0</td>\n",
       "      <td>0</td>\n",
       "      <td>1</td>\n",
       "      <td>0</td>\n",
       "      <td>0</td>\n",
       "      <td>0</td>\n",
       "    </tr>\n",
       "    <tr>\n",
       "      <th>2</th>\n",
       "      <td>1</td>\n",
       "      <td>0</td>\n",
       "      <td>1</td>\n",
       "      <td>1</td>\n",
       "      <td>0</td>\n",
       "      <td>5.220356</td>\n",
       "      <td>0.000000</td>\n",
       "      <td>-0.024144</td>\n",
       "      <td>-0.583458</td>\n",
       "      <td>1</td>\n",
       "      <td>...</td>\n",
       "      <td>0</td>\n",
       "      <td>0</td>\n",
       "      <td>0</td>\n",
       "      <td>0</td>\n",
       "      <td>0</td>\n",
       "      <td>0</td>\n",
       "      <td>1</td>\n",
       "      <td>0</td>\n",
       "      <td>0</td>\n",
       "      <td>0</td>\n",
       "    </tr>\n",
       "    <tr>\n",
       "      <th>3</th>\n",
       "      <td>1</td>\n",
       "      <td>1</td>\n",
       "      <td>0</td>\n",
       "      <td>0</td>\n",
       "      <td>0</td>\n",
       "      <td>5.293305</td>\n",
       "      <td>1.386294</td>\n",
       "      <td>0.017726</td>\n",
       "      <td>-1.056270</td>\n",
       "      <td>1</td>\n",
       "      <td>...</td>\n",
       "      <td>1</td>\n",
       "      <td>0</td>\n",
       "      <td>0</td>\n",
       "      <td>0</td>\n",
       "      <td>0</td>\n",
       "      <td>0</td>\n",
       "      <td>0</td>\n",
       "      <td>0</td>\n",
       "      <td>0</td>\n",
       "      <td>1</td>\n",
       "    </tr>\n",
       "    <tr>\n",
       "      <th>4</th>\n",
       "      <td>1</td>\n",
       "      <td>0</td>\n",
       "      <td>0</td>\n",
       "      <td>0</td>\n",
       "      <td>0</td>\n",
       "      <td>5.420535</td>\n",
       "      <td>0.000000</td>\n",
       "      <td>-0.472753</td>\n",
       "      <td>1.686036</td>\n",
       "      <td>1</td>\n",
       "      <td>...</td>\n",
       "      <td>0</td>\n",
       "      <td>0</td>\n",
       "      <td>1</td>\n",
       "      <td>0</td>\n",
       "      <td>0</td>\n",
       "      <td>0</td>\n",
       "      <td>0</td>\n",
       "      <td>0</td>\n",
       "      <td>0</td>\n",
       "      <td>1</td>\n",
       "    </tr>\n",
       "    <tr>\n",
       "      <th>...</th>\n",
       "      <td>...</td>\n",
       "      <td>...</td>\n",
       "      <td>...</td>\n",
       "      <td>...</td>\n",
       "      <td>...</td>\n",
       "      <td>...</td>\n",
       "      <td>...</td>\n",
       "      <td>...</td>\n",
       "      <td>...</td>\n",
       "      <td>...</td>\n",
       "      <td>...</td>\n",
       "      <td>...</td>\n",
       "      <td>...</td>\n",
       "      <td>...</td>\n",
       "      <td>...</td>\n",
       "      <td>...</td>\n",
       "      <td>...</td>\n",
       "      <td>...</td>\n",
       "      <td>...</td>\n",
       "      <td>...</td>\n",
       "      <td>...</td>\n",
       "    </tr>\n",
       "    <tr>\n",
       "      <th>4516</th>\n",
       "      <td>1</td>\n",
       "      <td>0</td>\n",
       "      <td>0</td>\n",
       "      <td>0</td>\n",
       "      <td>0</td>\n",
       "      <td>5.796058</td>\n",
       "      <td>1.609438</td>\n",
       "      <td>-0.583410</td>\n",
       "      <td>-0.772583</td>\n",
       "      <td>1</td>\n",
       "      <td>...</td>\n",
       "      <td>0</td>\n",
       "      <td>0</td>\n",
       "      <td>0</td>\n",
       "      <td>0</td>\n",
       "      <td>0</td>\n",
       "      <td>0</td>\n",
       "      <td>0</td>\n",
       "      <td>0</td>\n",
       "      <td>0</td>\n",
       "      <td>1</td>\n",
       "    </tr>\n",
       "    <tr>\n",
       "      <th>4517</th>\n",
       "      <td>1</td>\n",
       "      <td>1</td>\n",
       "      <td>0</td>\n",
       "      <td>0</td>\n",
       "      <td>0</td>\n",
       "      <td>5.030438</td>\n",
       "      <td>0.000000</td>\n",
       "      <td>-1.573671</td>\n",
       "      <td>1.496912</td>\n",
       "      <td>0</td>\n",
       "      <td>...</td>\n",
       "      <td>0</td>\n",
       "      <td>0</td>\n",
       "      <td>1</td>\n",
       "      <td>0</td>\n",
       "      <td>0</td>\n",
       "      <td>0</td>\n",
       "      <td>0</td>\n",
       "      <td>0</td>\n",
       "      <td>0</td>\n",
       "      <td>1</td>\n",
       "    </tr>\n",
       "    <tr>\n",
       "      <th>4518</th>\n",
       "      <td>0</td>\n",
       "      <td>0</td>\n",
       "      <td>0</td>\n",
       "      <td>0</td>\n",
       "      <td>0</td>\n",
       "      <td>5.017280</td>\n",
       "      <td>2.397895</td>\n",
       "      <td>-0.374724</td>\n",
       "      <td>1.496912</td>\n",
       "      <td>1</td>\n",
       "      <td>...</td>\n",
       "      <td>0</td>\n",
       "      <td>0</td>\n",
       "      <td>0</td>\n",
       "      <td>0</td>\n",
       "      <td>0</td>\n",
       "      <td>0</td>\n",
       "      <td>0</td>\n",
       "      <td>0</td>\n",
       "      <td>0</td>\n",
       "      <td>1</td>\n",
       "    </tr>\n",
       "    <tr>\n",
       "      <th>4519</th>\n",
       "      <td>0</td>\n",
       "      <td>0</td>\n",
       "      <td>1</td>\n",
       "      <td>3</td>\n",
       "      <td>0</td>\n",
       "      <td>4.859812</td>\n",
       "      <td>1.386294</td>\n",
       "      <td>-0.094925</td>\n",
       "      <td>-1.245394</td>\n",
       "      <td>1</td>\n",
       "      <td>...</td>\n",
       "      <td>0</td>\n",
       "      <td>0</td>\n",
       "      <td>0</td>\n",
       "      <td>0</td>\n",
       "      <td>0</td>\n",
       "      <td>0</td>\n",
       "      <td>0</td>\n",
       "      <td>1</td>\n",
       "      <td>0</td>\n",
       "      <td>0</td>\n",
       "    </tr>\n",
       "    <tr>\n",
       "      <th>4520</th>\n",
       "      <td>1</td>\n",
       "      <td>1</td>\n",
       "      <td>1</td>\n",
       "      <td>7</td>\n",
       "      <td>0</td>\n",
       "      <td>5.843544</td>\n",
       "      <td>0.693147</td>\n",
       "      <td>-0.095257</td>\n",
       "      <td>0.267602</td>\n",
       "      <td>1</td>\n",
       "      <td>...</td>\n",
       "      <td>0</td>\n",
       "      <td>0</td>\n",
       "      <td>0</td>\n",
       "      <td>0</td>\n",
       "      <td>0</td>\n",
       "      <td>0</td>\n",
       "      <td>0</td>\n",
       "      <td>1</td>\n",
       "      <td>0</td>\n",
       "      <td>0</td>\n",
       "    </tr>\n",
       "  </tbody>\n",
       "</table>\n",
       "<p>4521 rows × 41 columns</p>\n",
       "</div>"
      ],
      "text/plain": [
       "      housing  loan pdays  previous  y  duration_log10  campaign_log10  \\\n",
       "0           0     0     0         0  0        4.369448        0.000000   \n",
       "1           1     1     1         4  0        5.393628        0.000000   \n",
       "2           1     0     1         1  0        5.220356        0.000000   \n",
       "3           1     1     0         0  0        5.293305        1.386294   \n",
       "4           1     0     0         0  0        5.420535        0.000000   \n",
       "...       ...   ...   ...       ... ..             ...             ...   \n",
       "4516        1     0     0         0  0        5.796058        1.609438   \n",
       "4517        1     1     0         0  0        5.030438        0.000000   \n",
       "4518        0     0     0         0  0        5.017280        2.397895   \n",
       "4519        0     0     1         3  0        4.859812        1.386294   \n",
       "4520        1     1     1         7  0        5.843544        0.693147   \n",
       "\n",
       "      balance_norm  age_norm  job_Employed  ...  month_jun  month_mar  \\\n",
       "0         0.121072 -1.056270             0  ...          0          0   \n",
       "1         1.118644 -0.772583             1  ...          0          0   \n",
       "2        -0.024144 -0.583458             1  ...          0          0   \n",
       "3         0.017726 -1.056270             1  ...          1          0   \n",
       "4        -0.472753  1.686036             1  ...          0          0   \n",
       "...            ...       ...           ...  ...        ...        ...   \n",
       "4516     -0.583410 -0.772583             1  ...          0          0   \n",
       "4517     -1.573671  1.496912             0  ...          0          0   \n",
       "4518     -0.374724  1.496912             1  ...          0          0   \n",
       "4519     -0.094925 -1.245394             1  ...          0          0   \n",
       "4520     -0.095257  0.267602             1  ...          0          0   \n",
       "\n",
       "      month_may  month_nov  month_oct  month_sep  poutcome_failure  \\\n",
       "0             0          0          1          0                 0   \n",
       "1             1          0          0          0                 1   \n",
       "2             0          0          0          0                 1   \n",
       "3             0          0          0          0                 0   \n",
       "4             1          0          0          0                 0   \n",
       "...         ...        ...        ...        ...               ...   \n",
       "4516          0          0          0          0                 0   \n",
       "4517          1          0          0          0                 0   \n",
       "4518          0          0          0          0                 0   \n",
       "4519          0          0          0          0                 0   \n",
       "4520          0          0          0          0                 0   \n",
       "\n",
       "      poutcome_other  poutcome_success  poutcome_unknown  \n",
       "0                  0                 0                 1  \n",
       "1                  0                 0                 0  \n",
       "2                  0                 0                 0  \n",
       "3                  0                 0                 1  \n",
       "4                  0                 0                 1  \n",
       "...              ...               ...               ...  \n",
       "4516               0                 0                 1  \n",
       "4517               0                 0                 1  \n",
       "4518               0                 0                 1  \n",
       "4519               1                 0                 0  \n",
       "4520               1                 0                 0  \n",
       "\n",
       "[4521 rows x 41 columns]"
      ]
     },
     "execution_count": 37,
     "metadata": {},
     "output_type": "execute_result"
    }
   ],
   "source": [
    "# create dummy variables for categorical features\n",
    "\n",
    "cat_df = bank_df[['job','marital','education','contact','day','month','poutcome']]\n",
    "dummy_df = pd.get_dummies(cat_df)\n",
    "\n",
    "# merge dummy variables to the original bank_df\n",
    "\n",
    "bank_df = pd.concat([bank_df, dummy_df], axis=1)  \n",
    "\n",
    "# drop the original categorical features\n",
    "\n",
    "bank_df = bank_df.drop(['job','marital','education','contact','day','month','poutcome'], axis = 1)\n",
    "bank_df"
   ]
  },
  {
   "cell_type": "code",
   "execution_count": null,
   "id": "34604cdf",
   "metadata": {},
   "outputs": [],
   "source": []
  }
 ],
 "metadata": {
  "kernelspec": {
   "display_name": "Python 3",
   "language": "python",
   "name": "python3"
  },
  "language_info": {
   "codemirror_mode": {
    "name": "ipython",
    "version": 3
   },
   "file_extension": ".py",
   "mimetype": "text/x-python",
   "name": "python",
   "nbconvert_exporter": "python",
   "pygments_lexer": "ipython3",
   "version": "3.8.8"
  }
 },
 "nbformat": 4,
 "nbformat_minor": 5
}
